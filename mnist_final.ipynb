{
  "nbformat": 4,
  "nbformat_minor": 0,
  "metadata": {
    "colab": {
      "name": "mnist.ipynb",
      "provenance": [],
      "toc_visible": true,
      "authorship_tag": "ABX9TyPM1HaJ+H75ggA5csWi0mlr",
      "include_colab_link": true
    },
    "kernelspec": {
      "name": "python3",
      "display_name": "Python 3"
    }
  },
  "cells": [
    {
      "cell_type": "markdown",
      "metadata": {
        "id": "view-in-github",
        "colab_type": "text"
      },
      "source": [
        "<a href=\"https://colab.research.google.com/github/rlfwo93/machine-learning/blob/master/mnist_final.ipynb\" target=\"_parent\"><img src=\"https://colab.research.google.com/assets/colab-badge.svg\" alt=\"Open In Colab\"/></a>"
      ]
    },
    {
      "cell_type": "code",
      "metadata": {
        "id": "65fbkfLs9ScK",
        "colab_type": "code",
        "colab": {}
      },
      "source": [
        "import numpy as np"
      ],
      "execution_count": null,
      "outputs": []
    },
    {
      "cell_type": "markdown",
      "metadata": {
        "id": "FsBSaC5COAeV",
        "colab_type": "text"
      },
      "source": [
        "# mnist란 ?\n",
        "\n",
        "- MNIST 데이터란 필기 숫자의 분류를 위한 학습 데이터 집합입니다. 즉, 이 데이터는 어지럽게 필기된 숫자가 어떤 숫자에 해당하는지 정확하게 맞추기 위한 학습을 위한 것입니다.\n",
        "\n",
        "- 사이즈는 28x28의 크기를 가진다. 이미지의 값은 0 또는 1이다 (흑,백)\n",
        "\n",
        "- 0 부터 9 까지의 숫자를 28x28 픽셀 크기의 이미지로 구성\n",
        "\n",
        "-  1개의 레코드(1개의행 row)는 785개의 숫자로 구성\n",
        "-  1열에는 정답이있다.\n",
        "-  2열부터 마지막 열까지는 정답을 나타내는 이미지의 색을 나타내는 숫자 값들이 784개 연속으로 있다.\n",
        "\n",
        " * 흑백 이미지를 표현 할떄 숫자 0에 가까울 수록 검은색으로. 255에 가까울수록 하얀새으로 나타내는데 2열부터 마지막 열까지 나열된 숫자가 바로 이미지 색을 나타내는 정보.\n"
      ]
    },
    {
      "cell_type": "code",
      "metadata": {
        "id": "6-C2qgtx_cP9",
        "colab_type": "code",
        "colab": {}
      },
      "source": [
        "data = np.loadtxt(\"sample_data/mnist_train_small.csv\", delimiter=\",\")\n",
        "# delimiter는 CSV 파일이 뭘로 나누어져 있는지(\\t, ' ', '+' 등)를 나타낸다\n",
        "# delimniter= \",\" 는 ,를 기준으로 파일을 나뉘어준다.\n"
      ],
      "execution_count": null,
      "outputs": []
    },
    {
      "cell_type": "code",
      "metadata": {
        "id": "nmUC0lm2Wqqs",
        "colab_type": "code",
        "colab": {
          "base_uri": "https://localhost:8080/",
          "height": 71
        },
        "outputId": "dca8719b-5746-4075-d0fe-7d7c338ab51b"
      },
      "source": [
        "data\n",
        "\n",
        "\"\"\"\n",
        " array([[6., 0., 0., ..., 0., 0., 0.],\n",
        "       [5., 0., 0., ..., 0., 0., 0.],\n",
        "       [7., 0., 0., ..., 0., 0., 0.],\n",
        "       ...,\n",
        "       [2., 0., 0., ..., 0., 0., 0.],\n",
        "       [9., 0., 0., ..., 0., 0., 0.],\n",
        "       [5., 0., 0., ..., 0., 0., 0.]])\n",
        "\n",
        "       => 맨처음에 나오는 값이 정답이고 뒤에나오는 값들은 정답을 이루는 숫자들임.\n",
        "\n",
        "       \"\"\""
      ],
      "execution_count": null,
      "outputs": [
        {
          "output_type": "execute_result",
          "data": {
            "application/vnd.google.colaboratory.intrinsic": {
              "type": "string"
            },
            "text/plain": [
              "'\\n array([[6., 0., 0., ..., 0., 0., 0.],\\n       [5., 0., 0., ..., 0., 0., 0.],\\n       [7., 0., 0., ..., 0., 0., 0.],\\n       ...,\\n       [2., 0., 0., ..., 0., 0., 0.],\\n       [9., 0., 0., ..., 0., 0., 0.],\\n       [5., 0., 0., ..., 0., 0., 0.]])\\n\\n       => 맨처음에 나오는 값이 정답이고 뒤에나오는 값들은 정답을 이루는 숫자들임.\\n\\n       '"
            ]
          },
          "metadata": {
            "tags": []
          },
          "execution_count": 4
        }
      ]
    },
    {
      "cell_type": "code",
      "metadata": {
        "id": "mlk_CKHfEeQ6",
        "colab_type": "code",
        "colab": {
          "base_uri": "https://localhost:8080/",
          "height": 35
        },
        "outputId": "04d59807-ad8a-477a-9e27-d0eed433b9a8"
      },
      "source": [
        "data.shape,type(data)\n",
        "\n",
        "#((20000, 785) = 행렬을 나타냄, \n",
        "#numpy.ndarray) = 넘파이로 만든 배열."
      ],
      "execution_count": null,
      "outputs": [
        {
          "output_type": "execute_result",
          "data": {
            "text/plain": [
              "((20000, 785), numpy.ndarray)"
            ]
          },
          "metadata": {
            "tags": []
          },
          "execution_count": 5
        }
      ]
    },
    {
      "cell_type": "markdown",
      "metadata": {
        "id": "9QBuB8U5Gdw6",
        "colab_type": "text"
      },
      "source": [
        "# Hand-written number images and target level\n",
        "# data: images of hand-written numbers (28 X 28 pixels)\n",
        "# target: numbers (0 ~ 9)"
      ]
    },
    {
      "cell_type": "code",
      "metadata": {
        "id": "kxJfT2P4F3LA",
        "colab_type": "code",
        "colab": {
          "base_uri": "https://localhost:8080/",
          "height": 35
        },
        "outputId": "5d70c02f-5b19-43a7-e306-8a32ef9562ae"
      },
      "source": [
        "data[:,0]  # target (hand-written numbers)"
      ],
      "execution_count": null,
      "outputs": [
        {
          "output_type": "execute_result",
          "data": {
            "text/plain": [
              "array([6., 5., 7., ..., 2., 9., 5.])"
            ]
          },
          "metadata": {
            "tags": []
          },
          "execution_count": 6
        }
      ]
    },
    {
      "cell_type": "code",
      "metadata": {
        "id": "d20RdGUiGoJa",
        "colab_type": "code",
        "colab": {
          "base_uri": "https://localhost:8080/",
          "height": 35
        },
        "outputId": "4bd4a5ca-4429-4903-fce6-686dbe93f5ed"
      },
      "source": [
        "data[-1,0]"
      ],
      "execution_count": null,
      "outputs": [
        {
          "output_type": "execute_result",
          "data": {
            "text/plain": [
              "5.0"
            ]
          },
          "metadata": {
            "tags": []
          },
          "execution_count": 7
        }
      ]
    },
    {
      "cell_type": "code",
      "metadata": {
        "id": "O0lBtK9-Grq8",
        "colab_type": "code",
        "colab": {
          "base_uri": "https://localhost:8080/",
          "height": 34
        },
        "outputId": "46672d9f-4ba2-4caa-91f4-d94672bfe5a4"
      },
      "source": [
        "data[-5:,0]"
      ],
      "execution_count": null,
      "outputs": [
        {
          "output_type": "execute_result",
          "data": {
            "text/plain": [
              "array([0., 1., 2., 9., 5.])"
            ]
          },
          "metadata": {
            "tags": []
          },
          "execution_count": 9
        }
      ]
    },
    {
      "cell_type": "code",
      "metadata": {
        "id": "UhNjAAEkH5g4",
        "colab_type": "code",
        "colab": {
          "base_uri": "https://localhost:8080/",
          "height": 35
        },
        "outputId": "8adc0510-0ab2-4b9a-c326-3ed774b62b7b"
      },
      "source": [
        "data[:,0].shape"
      ],
      "execution_count": null,
      "outputs": [
        {
          "output_type": "execute_result",
          "data": {
            "text/plain": [
              "(20000,)"
            ]
          },
          "metadata": {
            "tags": []
          },
          "execution_count": 8
        }
      ]
    },
    {
      "cell_type": "code",
      "metadata": {
        "id": "-aWuKWSQPXEI",
        "colab_type": "code",
        "colab": {
          "base_uri": "https://localhost:8080/",
          "height": 35
        },
        "outputId": "a72d4c6f-d3bc-42df-954e-6b892112d570"
      },
      "source": [
        "target = data[:,0] #data의 모든행 0번째 원소\n",
        "target"
      ],
      "execution_count": null,
      "outputs": [
        {
          "output_type": "execute_result",
          "data": {
            "text/plain": [
              "array([6., 5., 7., ..., 2., 9., 5.])"
            ]
          },
          "metadata": {
            "tags": []
          },
          "execution_count": 9
        }
      ]
    },
    {
      "cell_type": "code",
      "metadata": {
        "id": "aQ6lEUH9PrKd",
        "colab_type": "code",
        "colab": {
          "base_uri": "https://localhost:8080/",
          "height": 35
        },
        "outputId": "af56ad85-6c9a-4e1a-99ef-8fdc1ec12974"
      },
      "source": [
        "target[:5],target[-5:]"
      ],
      "execution_count": null,
      "outputs": [
        {
          "output_type": "execute_result",
          "data": {
            "text/plain": [
              "(array([6., 5., 7., 9., 5.]), array([0., 1., 2., 9., 5.]))"
            ]
          },
          "metadata": {
            "tags": []
          },
          "execution_count": 10
        }
      ]
    },
    {
      "cell_type": "code",
      "metadata": {
        "id": "OAUS9qQlQ-_f",
        "colab_type": "code",
        "colab": {
          "base_uri": "https://localhost:8080/",
          "height": 71
        },
        "outputId": "73c0d139-f7fc-4d8e-ef3b-92b86645e72f"
      },
      "source": [
        "ndata = data[:,1:]  # ndata (iamge of hand-written numbers), 784 pixels for each number\n",
        "#첫번째값은 레이블이고, 뒤에있는 값들이 답을 구성하는 데이터이기떄문에 첫번째 값은 빼줌\n",
        "print(ndata.shape) # 20000,784 \n",
        "print(\"784 = {}\".format(28*28)) # 784 픽셀인것을 알려줌\n",
        "print(type(ndata)) # 넘파이의 배열 오브젝트"
      ],
      "execution_count": null,
      "outputs": [
        {
          "output_type": "stream",
          "text": [
            "(20000, 784)\n",
            "784 = 784\n",
            "<class 'numpy.ndarray'>\n"
          ],
          "name": "stdout"
        }
      ]
    },
    {
      "cell_type": "markdown",
      "metadata": {
        "id": "MoZCbD1rRrE-",
        "colab_type": "text"
      },
      "source": [
        "\n",
        "# 행벡터(1X784)를 이미지 배열 (28X28)로 재구성"
      ]
    },
    {
      "cell_type": "code",
      "metadata": {
        "id": "yntB-6CcRseR",
        "colab_type": "code",
        "colab": {
          "base_uri": "https://localhost:8080/",
          "height": 1000
        },
        "outputId": "8351e812-1cd6-40cb-c761-dcafe7d1b0f4"
      },
      "source": [
        "ndata[0,0:]  # first number\n"
      ],
      "execution_count": null,
      "outputs": [
        {
          "output_type": "execute_result",
          "data": {
            "text/plain": [
              "array([  0.,   0.,   0.,   0.,   0.,   0.,   0.,   0.,   0.,   0.,   0.,\n",
              "         0.,   0.,   0.,   0.,   0.,   0.,   0.,   0.,   0.,   0.,   0.,\n",
              "         0.,   0.,   0.,   0.,   0.,   0.,   0.,   0.,   0.,   0.,   0.,\n",
              "         0.,   0.,   0.,   0.,   0.,   0.,   0.,   0.,   0.,   0.,   0.,\n",
              "         0.,   0.,   0.,   0.,   0.,   0.,   0.,   0.,   0.,   0.,   0.,\n",
              "         0.,   0.,   0.,   0.,   0.,   0.,   0.,   0.,   0.,   0.,   0.,\n",
              "         0.,   0.,   0.,   0.,   0.,   0.,   0.,   0.,   0.,   0.,   0.,\n",
              "         0.,   0.,   0.,   0.,   0.,   0.,   0.,   0.,   0.,   0.,   0.,\n",
              "         0.,   0.,   0.,   0.,   0.,   0.,   0.,   0.,   0.,   0.,   0.,\n",
              "         0.,   0.,   0.,   0.,   0.,   0.,   0.,   0.,   0.,   0.,   0.,\n",
              "         0.,   0.,   0.,   0.,   0.,   0.,   0.,   0.,   0.,   0.,   0.,\n",
              "         0.,  24.,  67.,  67.,  18.,   0.,   0.,   0.,   0.,   0.,   0.,\n",
              "         0.,   0.,   0.,   0.,   0.,   0.,   0.,   0.,   0.,   0.,   0.,\n",
              "         0.,   0.,   0.,   0.,   0.,   0.,   0., 131., 252., 252.,  66.,\n",
              "         0.,   0.,   0.,   0.,   0.,   0.,   0.,   0.,   0.,   0.,   0.,\n",
              "         0.,   0.,   0.,   0.,   0.,   0.,   0.,   0.,   0.,   0.,   0.,\n",
              "         0., 159., 250., 232.,  30.,  32.,   0.,   0.,   0.,   0.,   0.,\n",
              "         0.,   0.,   0.,   0.,   0.,   0.,   0.,   0.,   0.,   0.,   0.,\n",
              "         0.,   0.,   0.,   0.,   0.,   0.,  15., 222., 252., 108.,   0.,\n",
              "         0.,   0.,   0.,   0.,   0.,   0.,   0.,   0.,   0.,   0.,   0.,\n",
              "         0.,   0.,   0.,   0.,   0.,   0.,   0.,   0.,   0.,   0.,   0.,\n",
              "         0., 147., 252., 183.,   5.,   0.,   0.,   0.,   0.,   0.,   0.,\n",
              "         0.,  20.,  89.,  89.,  73.,   0.,   0.,   0.,   0.,   0.,   0.,\n",
              "         0.,   0.,   0.,   0.,   0.,   0.,  48., 247., 252., 159.,   0.,\n",
              "         0.,   0.,   0.,   0.,   0.,   0.,  79., 236., 252., 252., 249.,\n",
              "       198.,  16.,   0.,   0.,   0.,   0.,   0.,   0.,   0.,   0.,   0.,\n",
              "        41., 193., 252., 199.,  22.,   0.,   0.,   0.,   0.,   0.,  12.,\n",
              "       135., 248., 252., 252., 252., 252., 252., 100.,   0.,   0.,   0.,\n",
              "         0.,   0.,   0.,   0.,   0.,   0., 100., 252., 252.,  88.,   0.,\n",
              "         0.,   0.,   0.,   0.,  11., 171., 252., 252., 235., 175., 178.,\n",
              "       252., 252., 224.,   0.,   0.,   0.,   0.,   0.,   0.,   0.,   0.,\n",
              "        15., 209., 252., 233.,  12.,   0.,   0.,   0.,   0.,  49., 177.,\n",
              "       252., 252.,  89.,  26.,   0.,   2., 166., 252., 252.,   0.,   0.,\n",
              "         0.,   0.,   0.,   0.,   0.,   0.,  96., 253., 253.,  59.,   0.,\n",
              "         0.,   0.,   0.,  11., 177., 255., 253.,  92.,   0.,   0.,   0.,\n",
              "         0., 155., 253., 128.,   0.,   0.,   0.,   0.,   0.,   0.,   0.,\n",
              "         0., 143., 252., 252.,  10.,   0.,   0.,   0.,  12., 171., 252.,\n",
              "       216., 110.,  13.,   0.,   0.,   0.,   3., 180., 232.,  24.,   0.,\n",
              "         0.,   0.,   0.,   0.,   0.,   0.,   0., 143., 252., 170.,   2.,\n",
              "         0.,   0.,   0., 135., 252., 209.,  19.,   0.,   0.,   0.,   0.,\n",
              "         0.,  12., 252., 132.,   0.,   0.,   0.,   0.,   0.,   0.,   0.,\n",
              "         0.,   0., 249., 252.,  96.,   0.,   0.,   0.,  21., 248., 246.,\n",
              "        34.,   0.,   0.,   0.,   0.,   5.,  61., 234., 152.,   3.,   0.,\n",
              "         0.,   0.,   0.,   0.,   0.,   0.,   0.,   0., 253., 252.,  44.,\n",
              "         0.,   0.,   0., 145., 252., 104.,   0.,   0.,   0.,  46., 114.,\n",
              "       184., 252., 149.,  34.,   0.,   0.,   0.,   0.,   0.,   0.,   0.,\n",
              "         0.,   0.,   0., 253., 252.,  82.,   0.,   0.,  31., 239., 252.,\n",
              "        66.,  39.,  89., 165., 243., 252., 233., 126.,   5.,   0.,   0.,\n",
              "         0.,   0.,   0.,   0.,   0.,   0.,   0.,   0.,   0., 249., 252.,\n",
              "       244., 126.,  98., 143., 252., 252., 237., 240., 253., 252., 243.,\n",
              "       174.,  17.,   0.,   0.,   0.,   0.,   0.,   0.,   0.,   0.,   0.,\n",
              "         0.,   0.,   0.,   0., 119., 239., 252., 252., 252., 252., 252.,\n",
              "       252., 252., 252., 228., 179.,  17.,   0.,   0.,   0.,   0.,   0.,\n",
              "         0.,   0.,   0.,   0.,   0.,   0.,   0.,   0.,   0.,   0.,   0.,\n",
              "        46.,  66.,  66.,  66.,  66.,  66.,  66.,  66.,  66.,  29.,   0.,\n",
              "         0.,   0.,   0.,   0.,   0.,   0.,   0.,   0.,   0.,   0.,   0.,\n",
              "         0.,   0.,   0.,   0.,   0.,   0.,   0.,   0.,   0.,   0.,   0.,\n",
              "         0.,   0.,   0.,   0.,   0.,   0.,   0.,   0.,   0.,   0.,   0.,\n",
              "         0.,   0.,   0.,   0.,   0.,   0.,   0.,   0.,   0.,   0.,   0.,\n",
              "         0.,   0.,   0.,   0.,   0.,   0.,   0.,   0.,   0.,   0.,   0.,\n",
              "         0.,   0.,   0.,   0.,   0.,   0.,   0.,   0.,   0.,   0.,   0.,\n",
              "         0.,   0.,   0.,   0.,   0.,   0.,   0.,   0.,   0.,   0.,   0.,\n",
              "         0.,   0.,   0.,   0.,   0.,   0.,   0.,   0.,   0.,   0.,   0.,\n",
              "         0.,   0.,   0.,   0.,   0.,   0.,   0.,   0.,   0.,   0.,   0.,\n",
              "         0.,   0.,   0.,   0.,   0.,   0.,   0.,   0.,   0.,   0.,   0.,\n",
              "         0.,   0.,   0.,   0.,   0.,   0.,   0.,   0.,   0.,   0.,   0.,\n",
              "         0.,   0.,   0.,   0.,   0.,   0.,   0.,   0.,   0.,   0.,   0.,\n",
              "         0.,   0.,   0.,   0.,   0.,   0.,   0.,   0.,   0.,   0.,   0.,\n",
              "         0.,   0.,   0.,   0.,   0.,   0.,   0.,   0.,   0.,   0.,   0.,\n",
              "         0.,   0.,   0.,   0.,   0.,   0.,   0.,   0.,   0.,   0.,   0.,\n",
              "         0.,   0.,   0.,   0.,   0.,   0.,   0.,   0.,   0.,   0.,   0.,\n",
              "         0.,   0.,   0.])"
            ]
          },
          "metadata": {
            "tags": []
          },
          "execution_count": 12
        }
      ]
    },
    {
      "cell_type": "code",
      "metadata": {
        "id": "4SV6ZG28Z5aJ",
        "colab_type": "code",
        "colab": {
          "base_uri": "https://localhost:8080/",
          "height": 35
        },
        "outputId": "66eb67b9-fdd7-4008-a024-7358392463cc"
      },
      "source": [
        "ndata[0,0:].shape, target[0]  # 첫번째 숫자는 6"
      ],
      "execution_count": null,
      "outputs": [
        {
          "output_type": "execute_result",
          "data": {
            "text/plain": [
              "((784,), 6.0)"
            ]
          },
          "metadata": {
            "tags": []
          },
          "execution_count": 13
        }
      ]
    },
    {
      "cell_type": "code",
      "metadata": {
        "id": "czPmQ7d6aJnN",
        "colab_type": "code",
        "colab": {
          "base_uri": "https://localhost:8080/",
          "height": 53
        },
        "outputId": "a7bc8e40-dc6e-4606-bb24-198b774dbc88"
      },
      "source": [
        "first_num = ndata[0,0:].reshape(28,28) # 맨 첫번째 행렬을 28x28로\n",
        "first_num\n",
        "print(\"first_num = {0}\".format(first_num.size))\n",
        "print(type(first_num))"
      ],
      "execution_count": null,
      "outputs": [
        {
          "output_type": "stream",
          "text": [
            "first_num = 784\n",
            "<class 'numpy.ndarray'>\n"
          ],
          "name": "stdout"
        }
      ]
    },
    {
      "cell_type": "code",
      "metadata": {
        "id": "UFm5EibpaLnF",
        "colab_type": "code",
        "colab": {
          "base_uri": "https://localhost:8080/",
          "height": 53
        },
        "outputId": "c93a9a72-c409-4b4a-835a-e4b4c6f9d0d8"
      },
      "source": [
        "last_num = ndata[-1,0:].reshape(28,28) # 맨 마지막  행렬을 28x28로\n",
        "last_num\n",
        "print(\"last_num = {0}\".format(last_num.size))\n",
        "print(type(last_num))"
      ],
      "execution_count": null,
      "outputs": [
        {
          "output_type": "stream",
          "text": [
            "last_num = 784\n",
            "<class 'numpy.ndarray'>\n"
          ],
          "name": "stdout"
        }
      ]
    },
    {
      "cell_type": "markdown",
      "metadata": {
        "id": "WHM2549thbH7",
        "colab_type": "text"
      },
      "source": [
        "# Matplotlib \n",
        "\n",
        "- matplotlib은 다양한 데이터를 많은 방법으로 도식화 할 수 있도록 하는 파이썬 라이브러리로써, 우리는 matplotlib의 pyplot을 이용하게 됩니다.\n",
        "\n",
        "이는 mathworks에서 개발한 매트랩(MATLAB)과 비슷한 형태를 가지고 있습니다.\n",
        "\n",
        "matplotlib을 이용하면 우리가 이전에 알아본 numpy나 pandas에서 사용되는 자료구조를 쉽게 시각화 할 수 있습니다.\n"
      ]
    },
    {
      "cell_type": "code",
      "metadata": {
        "id": "ToXvgtdjb9W0",
        "colab_type": "code",
        "colab": {}
      },
      "source": [
        "import matplotlib.pyplot as plt\n",
        "import matplotlib as mpl\n",
        "%matplotlib inline\n",
        "# %matplotlib inline 의 역할은 notebook을 실행한 브라우저에서 바로 그림을 볼 수 있게 해주는 것\n",
        "# %pylab inline 또는 %matplotlib inline 을 실행하면 \n",
        "#ipython 과 쥬피터 노트북에서 plt.show() 를 실행하지 않아도 되고 도표가 실행창에 포함된다\n",
        "\n"
      ],
      "execution_count": null,
      "outputs": []
    },
    {
      "cell_type": "code",
      "metadata": {
        "id": "UVytrGn_lRNT",
        "colab_type": "code",
        "colab": {
          "base_uri": "https://localhost:8080/",
          "height": 170
        },
        "outputId": "dc03e780-cd14-49f7-954b-115c0bd13bb5"
      },
      "source": [
        "plt.figure(figsize=(2,2)) # plt.figure(figsize=(x, y))를 입력하면 그림 크기를 결정\n",
        "\n",
        "# figure = 그림의 단위\n",
        "# figsize = figure의 크기를 결정\n",
        "\n",
        "plt.imshow(last_num, cmap=\"Blues\")\n",
        "\n",
        "# plt.imshow 함수는 default 값이 color로 출력하게 되어있어서 내부적으로 변환이 이뤄지는것 \n",
        "# 같은데, cmap(color map)형식 인자값을 다양하게 변경가능하며, \n",
        "# plt.imshow(cv_img, cmap='gray') 으로 변경하면 gray형식으로 출력되는것을 확인 \n",
        "\n",
        "\n",
        "plt.grid(False) #무늬를 나타내주는 것 \n",
        "plt.xticks([]) # x축 눈금을 몇으로 지정해줄지 설정\n",
        "plt.title(\"matplotlib sample\") # 제목을 설정\n",
        "plt.xlabel(\"xxxx\") # x축 라벨을 설정\n",
        "plt.ylabel(\"yyyy\") # y축 라벨을 설정\n",
        "plt.yticks([]) #y축 눈금을 몇으로 할지 지정.\n",
        "plt.show()\n",
        "\n",
        "# show 명령은 시각화 명령을 실제로 차트로 렌더링(rendering)하고 마우스 움직임 등의 이벤트를 기다리라는 지시이다. \n",
        "# 주피터 노트북에서는 셀 단위로 플롯 명령을 자동 렌더링 해주므로 show 명령이 필요없지만\n",
        "# 일반 파이썬 인터프리터로 가동되는 경우를 대비하여 항상 마지막에 실행하도록 한다.\n",
        "# show 명령을 주면 마지막 플롯 명령으로부터 반환된 플롯 객체의 표현도 가려주는 효과가 있다."
      ],
      "execution_count": null,
      "outputs": [
        {
          "output_type": "display_data",
          "data": {
            "image/png": "[encoded data removed]",
            "text/plain": [
              "<Figure size 144x144 with 1 Axes>"
            ]
          },
          "metadata": {
            "tags": []
          }
        }
      ]
    },
    {
      "cell_type": "code",
      "metadata": {
        "id": "CiUPDXAOpb92",
        "colab_type": "code",
        "colab": {
          "base_uri": "https://localhost:8080/",
          "height": 35
        },
        "outputId": "0a36194c-da89-4457-d1c4-ff7ad7fe534b"
      },
      "source": [
        "\n",
        "target[0], target[-1]   # check number"
      ],
      "execution_count": null,
      "outputs": [
        {
          "output_type": "execute_result",
          "data": {
            "text/plain": [
              "(6.0, 5.0)"
            ]
          },
          "metadata": {
            "tags": []
          },
          "execution_count": 40
        }
      ]
    },
    {
      "cell_type": "markdown",
      "metadata": {
        "id": "MwQEEypCpaZt",
        "colab_type": "text"
      },
      "source": [
        "# Show images of some numbers in train dataset\n",
        "\n",
        "-  특정 레이블의 데이터값으로 답을 보여주는 함수"
      ]
    },
    {
      "cell_type": "code",
      "metadata": {
        "id": "Ga0mWAMqpou9",
        "colab_type": "code",
        "colab": {
          "base_uri": "https://localhost:8080/",
          "height": 428
        },
        "outputId": "5def09c4-7f1d-4cfc-c810-1da7fefbd7b2"
      },
      "source": [
        "# function plot_digits\n",
        "# import numpy as np\n",
        "# import matplotlib as mpl\n",
        "\n",
        "test = ndata[2:3,:].reshape(1,784) #레이블7의 데이터가 있는 행렬\n",
        "\n",
        "def plot_digits(instances, images_per_row=10, **options):\n",
        "    size = 28\n",
        "    images_per_row = min(len(instances), images_per_row) # 1  \n",
        "    images = [instance.reshape(size,size) for instance in instances]\n",
        "    # ndata[2:3,:].reshape(1,784) 을 (28,28) 로 바꿔줌\n",
        "    n_rows = (len(instances) - 1) // images_per_row + 1 # 1\n",
        "  \n",
        "    print(\"len(instances) = {0}\".format(len(instances) )) # 1\n",
        "    print(\"images_per_row = {0}\".format(images_per_row)) # 1   \n",
        "    print(\"len(instances) - 1 = {0}\".format(len(instances) - 1)) # 0\n",
        "    print(\"images_per_row + 1 = {0}\".format(images_per_row + 1)) # 2\n",
        "    print(\"n_rows = {0} \".format(n_rows)) # 1\n",
        "\n",
        "    row_images = []\n",
        "    n_empty = n_rows * images_per_row - len(instances) # 0 \n",
        "\n",
        "    print(\"n_empty = {0} \".format(n_empty)) # 0\n",
        "    print(type(images))\n",
        "\n",
        "    images.append(np.zeros((size, size * n_empty))) \n",
        "    \n",
        "    for row in range(n_rows):\n",
        "        rimages = images[row * images_per_row : (row + 1) * images_per_row]\n",
        "        print(len(rimages))\n",
        "        row_images.append(np.concatenate(rimages, axis=1))\n",
        "        print(len(row_images))\n",
        "    image_all = np.concatenate(row_images, axis=0)\n",
        "    print(image_all.shape)\n",
        "    plt.imshow(image_all, cmap = mpl.cm.binary, **options)\n",
        "    plt.axis(\"off\")\n",
        "\n",
        "plot_digits(test)\n",
        "\n"
      ],
      "execution_count": null,
      "outputs": [
        {
          "output_type": "stream",
          "text": [
            "len(instances) = 1\n",
            "images_per_row = 1\n",
            "len(instances) - 1 = 0\n",
            "images_per_row + 1 = 2\n",
            "n_rows = 1 \n",
            "n_empty = 0 \n",
            "<class 'list'>\n",
            "1\n",
            "1\n",
            "(28, 28)\n"
          ],
          "name": "stdout"
        },
        {
          "output_type": "display_data",
          "data": {
            "image/png": "[encoded data removed]",
            "text/plain": [
              "<Figure size 432x288 with 1 Axes>"
            ]
          },
          "metadata": {
            "tags": [],
            "needs_background": "light"
          }
        }
      ]
    },
    {
      "cell_type": "code",
      "metadata": {
        "id": "S-EqnkAE2kpl",
        "colab_type": "code",
        "colab": {
          "base_uri": "https://localhost:8080/",
          "height": 89
        },
        "outputId": "25fb3391-f277-40ed-e832-6feeaf422cf1"
      },
      "source": [
        "instances = np.array(range(0,764)).reshape(1,764)\n",
        "print(\"len(instances) = {0}\".format(len(instances)))\n",
        "print(\"instances.size = {0}\".format(instances.size))\n",
        "print(last_num.size)\n",
        "\n",
        "# len(instances)는  리스트의 길이를 알려줌 - 리스트가 중첩 리스트일 경우 가장 바깥 리스트의 길이를 알려줌\n",
        "# arr.size는 arr에 몇개의 요소가 들어있는지를 알려줌 - 따라서 len()과 약간 다름\n"
      ],
      "execution_count": null,
      "outputs": [
        {
          "output_type": "stream",
          "text": [
            "len(instances) = 1\n",
            "instances.size = 764\n",
            "784\n",
            "1\n"
          ],
          "name": "stdout"
        }
      ]
    },
    {
      "cell_type": "code",
      "metadata": {
        "id": "E60vRIyg9R7x",
        "colab_type": "code",
        "colab": {
          "base_uri": "https://localhost:8080/",
          "height": 791
        },
        "outputId": "6d346bd5-72f0-470b-9ceb-51a2580df83b"
      },
      "source": [
        "instances = np.array(range(0,764)).reshape(1,764)\n",
        "\n",
        "for i in instances:\n",
        "  print(i)\n"
      ],
      "execution_count": null,
      "outputs": [
        {
          "output_type": "stream",
          "text": [
            "[  0   1   2   3   4   5   6   7   8   9  10  11  12  13  14  15  16  17\n",
            "  18  19  20  21  22  23  24  25  26  27  28  29  30  31  32  33  34  35\n",
            "  36  37  38  39  40  41  42  43  44  45  46  47  48  49  50  51  52  53\n",
            "  54  55  56  57  58  59  60  61  62  63  64  65  66  67  68  69  70  71\n",
            "  72  73  74  75  76  77  78  79  80  81  82  83  84  85  86  87  88  89\n",
            "  90  91  92  93  94  95  96  97  98  99 100 101 102 103 104 105 106 107\n",
            " 108 109 110 111 112 113 114 115 116 117 118 119 120 121 122 123 124 125\n",
            " 126 127 128 129 130 131 132 133 134 135 136 137 138 139 140 141 142 143\n",
            " 144 145 146 147 148 149 150 151 152 153 154 155 156 157 158 159 160 161\n",
            " 162 163 164 165 166 167 168 169 170 171 172 173 174 175 176 177 178 179\n",
            " 180 181 182 183 184 185 186 187 188 189 190 191 192 193 194 195 196 197\n",
            " 198 199 200 201 202 203 204 205 206 207 208 209 210 211 212 213 214 215\n",
            " 216 217 218 219 220 221 222 223 224 225 226 227 228 229 230 231 232 233\n",
            " 234 235 236 237 238 239 240 241 242 243 244 245 246 247 248 249 250 251\n",
            " 252 253 254 255 256 257 258 259 260 261 262 263 264 265 266 267 268 269\n",
            " 270 271 272 273 274 275 276 277 278 279 280 281 282 283 284 285 286 287\n",
            " 288 289 290 291 292 293 294 295 296 297 298 299 300 301 302 303 304 305\n",
            " 306 307 308 309 310 311 312 313 314 315 316 317 318 319 320 321 322 323\n",
            " 324 325 326 327 328 329 330 331 332 333 334 335 336 337 338 339 340 341\n",
            " 342 343 344 345 346 347 348 349 350 351 352 353 354 355 356 357 358 359\n",
            " 360 361 362 363 364 365 366 367 368 369 370 371 372 373 374 375 376 377\n",
            " 378 379 380 381 382 383 384 385 386 387 388 389 390 391 392 393 394 395\n",
            " 396 397 398 399 400 401 402 403 404 405 406 407 408 409 410 411 412 413\n",
            " 414 415 416 417 418 419 420 421 422 423 424 425 426 427 428 429 430 431\n",
            " 432 433 434 435 436 437 438 439 440 441 442 443 444 445 446 447 448 449\n",
            " 450 451 452 453 454 455 456 457 458 459 460 461 462 463 464 465 466 467\n",
            " 468 469 470 471 472 473 474 475 476 477 478 479 480 481 482 483 484 485\n",
            " 486 487 488 489 490 491 492 493 494 495 496 497 498 499 500 501 502 503\n",
            " 504 505 506 507 508 509 510 511 512 513 514 515 516 517 518 519 520 521\n",
            " 522 523 524 525 526 527 528 529 530 531 532 533 534 535 536 537 538 539\n",
            " 540 541 542 543 544 545 546 547 548 549 550 551 552 553 554 555 556 557\n",
            " 558 559 560 561 562 563 564 565 566 567 568 569 570 571 572 573 574 575\n",
            " 576 577 578 579 580 581 582 583 584 585 586 587 588 589 590 591 592 593\n",
            " 594 595 596 597 598 599 600 601 602 603 604 605 606 607 608 609 610 611\n",
            " 612 613 614 615 616 617 618 619 620 621 622 623 624 625 626 627 628 629\n",
            " 630 631 632 633 634 635 636 637 638 639 640 641 642 643 644 645 646 647\n",
            " 648 649 650 651 652 653 654 655 656 657 658 659 660 661 662 663 664 665\n",
            " 666 667 668 669 670 671 672 673 674 675 676 677 678 679 680 681 682 683\n",
            " 684 685 686 687 688 689 690 691 692 693 694 695 696 697 698 699 700 701\n",
            " 702 703 704 705 706 707 708 709 710 711 712 713 714 715 716 717 718 719\n",
            " 720 721 722 723 724 725 726 727 728 729 730 731 732 733 734 735 736 737\n",
            " 738 739 740 741 742 743 744 745 746 747 748 749 750 751 752 753 754 755\n",
            " 756 757 758 759 760 761 762 763]\n"
          ],
          "name": "stdout"
        }
      ]
    },
    {
      "cell_type": "markdown",
      "metadata": {
        "id": "jNz7pWVFu8XU",
        "colab_type": "text"
      },
      "source": [
        "# 키워드 파라미터 kwargs\n",
        "\n",
        " 키워드 파라미터를 사용할 때는 매개변수 앞에 별 두 개(**)를 붙인다. 역시 이것도 예제로 알아보자. 먼저 다음과 같은 함수를 작성한다.\n",
        "\n",
        ">>> def print_kwargs(**kwargs):\n",
        "...     print(kwargs)\n",
        "...\n",
        "print_kwargs 함수는 매개변수 kwargs를 출력하는 함수이다. 이제 이 함수를 다음과 같이 사용해 보자.\n",
        "\n",
        ">>> print_kwargs(a=1)\n",
        "{'a': 1}\n",
        ">>> print_kwargs(name='foo', age=3)\n",
        "{'age': 3, 'name': 'foo'}\n",
        "입력값 a=1 또는 name='foo', age=3이 모두 딕셔너리로 만들어져서 출력된다는 것을 확인할 수 있다. 즉 **kwargs처럼 매개변수 이름 앞에 **을 붙이면 매개변수 kwargs는 딕셔너리가 되고 모든 key=value 형태의 결괏값이 그 딕셔너리에 저장된다.\n",
        "\n",
        "※ 여기에서 kwargs는 keyword arguments의 약자이며 args와 마찬가지로 관례적으로 사용한다."
      ]
    },
    {
      "cell_type": "code",
      "metadata": {
        "id": "kA9R_GkgutOo",
        "colab_type": "code",
        "colab": {
          "base_uri": "https://localhost:8080/",
          "height": 71
        },
        "outputId": "a35c8545-7198-4b70-b15c-3925e8969479"
      },
      "source": [
        "def print_kwargs(**kwargs):\n",
        "     print(kwargs)\n",
        "\n",
        "print_kwargs(a=1)\n",
        "print_kwargs(진석 = \"천재\")\n"
      ],
      "execution_count": null,
      "outputs": [
        {
          "output_type": "stream",
          "text": [
            "{'a': 1}\n",
            "{'진석': '천재'}\n",
            "{'w': 2}\n"
          ],
          "name": "stdout"
        }
      ]
    },
    {
      "cell_type": "markdown",
      "metadata": {
        "id": "xr8qzB5qyIMN",
        "colab_type": "text"
      },
      "source": [
        "# min함수\n",
        "-  min(iterable)은 max 함수와 반대로, 인수로 반복 가능한 자료형을 입력받아 그 최솟값을 돌려주는 함수이다."
      ]
    },
    {
      "cell_type": "code",
      "metadata": {
        "id": "yULkXD9ZyO3M",
        "colab_type": "code",
        "colab": {
          "base_uri": "https://localhost:8080/",
          "height": 53
        },
        "outputId": "668bec06-ab81-4ef0-b676-89338bb509e8"
      },
      "source": [
        "a = min(3,5,2)\n",
        "print(\"a = min(3,5,2) = {0}\".format(a))\n",
        "\n",
        "c=10\n",
        "d=25\n",
        "# b=30\n",
        "\n",
        "f= min(c,d,b)\n",
        "\n",
        "print(\"f = min({0},{1},{2}) = {3}\".format(c,d,b,f))"
      ],
      "execution_count": null,
      "outputs": [
        {
          "output_type": "stream",
          "text": [
            "a = min(3,5,2) = 2\n",
            "f = min(10,25,30) = 10\n"
          ],
          "name": "stdout"
        }
      ]
    },
    {
      "cell_type": "code",
      "metadata": {
        "id": "hGj2yWhY1Fs7",
        "colab_type": "code",
        "colab": {
          "base_uri": "https://localhost:8080/",
          "height": 35
        },
        "outputId": "6b384d4d-77a8-48f9-fcb4-ebd0551f1bd4"
      },
      "source": [
        "instances= [1,2,3,4,5]\n",
        "images_per_row = 10\n",
        "images_per_row = min(len(instances), images_per_row)\n",
        "images_per_row"
      ],
      "execution_count": null,
      "outputs": [
        {
          "output_type": "execute_result",
          "data": {
            "text/plain": [
              "5"
            ]
          },
          "metadata": {
            "tags": []
          },
          "execution_count": 77
        }
      ]
    },
    {
      "cell_type": "markdown",
      "metadata": {
        "id": "bh1tcRm-0Cyj",
        "colab_type": "text"
      },
      "source": [
        "# 리스트 내포 for 문(리스트 안에서 for 문 사용하기)"
      ]
    },
    {
      "cell_type": "code",
      "metadata": {
        "id": "5EFCYnZf0COS",
        "colab_type": "code",
        "colab": {
          "base_uri": "https://localhost:8080/",
          "height": 35
        },
        "outputId": "72ef6af1-fc53-400d-c6e8-329f04cb3929"
      },
      "source": [
        "list = [1,2,3,4,5,6]\n",
        "a = [i*i for i in list]\n",
        "a"
      ],
      "execution_count": null,
      "outputs": [
        {
          "output_type": "execute_result",
          "data": {
            "text/plain": [
              "[1, 4, 9, 16, 25, 36]"
            ]
          },
          "metadata": {
            "tags": []
          },
          "execution_count": 72
        }
      ]
    },
    {
      "cell_type": "code",
      "metadata": {
        "id": "PjHBRkRl0ncU",
        "colab_type": "code",
        "colab": {
          "base_uri": "https://localhost:8080/",
          "height": 35
        },
        "outputId": "16169203-0453-4c58-8526-8d9dd0bba4b6"
      },
      "source": [
        "list = [3,4,5,6,7,8,9]\n",
        "b = [num*3 for num in list]\n",
        "b"
      ],
      "execution_count": null,
      "outputs": [
        {
          "output_type": "execute_result",
          "data": {
            "text/plain": [
              "[9, 12, 15, 18, 21, 24, 27]"
            ]
          },
          "metadata": {
            "tags": []
          },
          "execution_count": 74
        }
      ]
    },
    {
      "cell_type": "code",
      "metadata": {
        "id": "UPCUauGY1UZm",
        "colab_type": "code",
        "colab": {
          "base_uri": "https://localhost:8080/",
          "height": 1000
        },
        "outputId": "2dbf05b5-c96a-4672-f53c-c423629ea612"
      },
      "source": [
        "instances = np.array(range(0,784)).reshape(1,784)\n",
        "size = 28\n",
        "images = [instance.reshape(size,size) for instance in instances]\n",
        "images"
      ],
      "execution_count": null,
      "outputs": [
        {
          "output_type": "execute_result",
          "data": {
            "text/plain": [
              "[array([[  0,   1,   2,   3,   4,   5,   6,   7,   8,   9,  10,  11,  12,\n",
              "          13,  14,  15,  16,  17,  18,  19,  20,  21,  22,  23,  24,  25,\n",
              "          26,  27],\n",
              "        [ 28,  29,  30,  31,  32,  33,  34,  35,  36,  37,  38,  39,  40,\n",
              "          41,  42,  43,  44,  45,  46,  47,  48,  49,  50,  51,  52,  53,\n",
              "          54,  55],\n",
              "        [ 56,  57,  58,  59,  60,  61,  62,  63,  64,  65,  66,  67,  68,\n",
              "          69,  70,  71,  72,  73,  74,  75,  76,  77,  78,  79,  80,  81,\n",
              "          82,  83],\n",
              "        [ 84,  85,  86,  87,  88,  89,  90,  91,  92,  93,  94,  95,  96,\n",
              "          97,  98,  99, 100, 101, 102, 103, 104, 105, 106, 107, 108, 109,\n",
              "         110, 111],\n",
              "        [112, 113, 114, 115, 116, 117, 118, 119, 120, 121, 122, 123, 124,\n",
              "         125, 126, 127, 128, 129, 130, 131, 132, 133, 134, 135, 136, 137,\n",
              "         138, 139],\n",
              "        [140, 141, 142, 143, 144, 145, 146, 147, 148, 149, 150, 151, 152,\n",
              "         153, 154, 155, 156, 157, 158, 159, 160, 161, 162, 163, 164, 165,\n",
              "         166, 167],\n",
              "        [168, 169, 170, 171, 172, 173, 174, 175, 176, 177, 178, 179, 180,\n",
              "         181, 182, 183, 184, 185, 186, 187, 188, 189, 190, 191, 192, 193,\n",
              "         194, 195],\n",
              "        [196, 197, 198, 199, 200, 201, 202, 203, 204, 205, 206, 207, 208,\n",
              "         209, 210, 211, 212, 213, 214, 215, 216, 217, 218, 219, 220, 221,\n",
              "         222, 223],\n",
              "        [224, 225, 226, 227, 228, 229, 230, 231, 232, 233, 234, 235, 236,\n",
              "         237, 238, 239, 240, 241, 242, 243, 244, 245, 246, 247, 248, 249,\n",
              "         250, 251],\n",
              "        [252, 253, 254, 255, 256, 257, 258, 259, 260, 261, 262, 263, 264,\n",
              "         265, 266, 267, 268, 269, 270, 271, 272, 273, 274, 275, 276, 277,\n",
              "         278, 279],\n",
              "        [280, 281, 282, 283, 284, 285, 286, 287, 288, 289, 290, 291, 292,\n",
              "         293, 294, 295, 296, 297, 298, 299, 300, 301, 302, 303, 304, 305,\n",
              "         306, 307],\n",
              "        [308, 309, 310, 311, 312, 313, 314, 315, 316, 317, 318, 319, 320,\n",
              "         321, 322, 323, 324, 325, 326, 327, 328, 329, 330, 331, 332, 333,\n",
              "         334, 335],\n",
              "        [336, 337, 338, 339, 340, 341, 342, 343, 344, 345, 346, 347, 348,\n",
              "         349, 350, 351, 352, 353, 354, 355, 356, 357, 358, 359, 360, 361,\n",
              "         362, 363],\n",
              "        [364, 365, 366, 367, 368, 369, 370, 371, 372, 373, 374, 375, 376,\n",
              "         377, 378, 379, 380, 381, 382, 383, 384, 385, 386, 387, 388, 389,\n",
              "         390, 391],\n",
              "        [392, 393, 394, 395, 396, 397, 398, 399, 400, 401, 402, 403, 404,\n",
              "         405, 406, 407, 408, 409, 410, 411, 412, 413, 414, 415, 416, 417,\n",
              "         418, 419],\n",
              "        [420, 421, 422, 423, 424, 425, 426, 427, 428, 429, 430, 431, 432,\n",
              "         433, 434, 435, 436, 437, 438, 439, 440, 441, 442, 443, 444, 445,\n",
              "         446, 447],\n",
              "        [448, 449, 450, 451, 452, 453, 454, 455, 456, 457, 458, 459, 460,\n",
              "         461, 462, 463, 464, 465, 466, 467, 468, 469, 470, 471, 472, 473,\n",
              "         474, 475],\n",
              "        [476, 477, 478, 479, 480, 481, 482, 483, 484, 485, 486, 487, 488,\n",
              "         489, 490, 491, 492, 493, 494, 495, 496, 497, 498, 499, 500, 501,\n",
              "         502, 503],\n",
              "        [504, 505, 506, 507, 508, 509, 510, 511, 512, 513, 514, 515, 516,\n",
              "         517, 518, 519, 520, 521, 522, 523, 524, 525, 526, 527, 528, 529,\n",
              "         530, 531],\n",
              "        [532, 533, 534, 535, 536, 537, 538, 539, 540, 541, 542, 543, 544,\n",
              "         545, 546, 547, 548, 549, 550, 551, 552, 553, 554, 555, 556, 557,\n",
              "         558, 559],\n",
              "        [560, 561, 562, 563, 564, 565, 566, 567, 568, 569, 570, 571, 572,\n",
              "         573, 574, 575, 576, 577, 578, 579, 580, 581, 582, 583, 584, 585,\n",
              "         586, 587],\n",
              "        [588, 589, 590, 591, 592, 593, 594, 595, 596, 597, 598, 599, 600,\n",
              "         601, 602, 603, 604, 605, 606, 607, 608, 609, 610, 611, 612, 613,\n",
              "         614, 615],\n",
              "        [616, 617, 618, 619, 620, 621, 622, 623, 624, 625, 626, 627, 628,\n",
              "         629, 630, 631, 632, 633, 634, 635, 636, 637, 638, 639, 640, 641,\n",
              "         642, 643],\n",
              "        [644, 645, 646, 647, 648, 649, 650, 651, 652, 653, 654, 655, 656,\n",
              "         657, 658, 659, 660, 661, 662, 663, 664, 665, 666, 667, 668, 669,\n",
              "         670, 671],\n",
              "        [672, 673, 674, 675, 676, 677, 678, 679, 680, 681, 682, 683, 684,\n",
              "         685, 686, 687, 688, 689, 690, 691, 692, 693, 694, 695, 696, 697,\n",
              "         698, 699],\n",
              "        [700, 701, 702, 703, 704, 705, 706, 707, 708, 709, 710, 711, 712,\n",
              "         713, 714, 715, 716, 717, 718, 719, 720, 721, 722, 723, 724, 725,\n",
              "         726, 727],\n",
              "        [728, 729, 730, 731, 732, 733, 734, 735, 736, 737, 738, 739, 740,\n",
              "         741, 742, 743, 744, 745, 746, 747, 748, 749, 750, 751, 752, 753,\n",
              "         754, 755],\n",
              "        [756, 757, 758, 759, 760, 761, 762, 763, 764, 765, 766, 767, 768,\n",
              "         769, 770, 771, 772, 773, 774, 775, 776, 777, 778, 779, 780, 781,\n",
              "         782, 783]])]"
            ]
          },
          "metadata": {
            "tags": []
          },
          "execution_count": 117
        }
      ]
    },
    {
      "cell_type": "code",
      "metadata": {
        "id": "T5DnhhVyEirq",
        "colab_type": "code",
        "colab": {
          "base_uri": "https://localhost:8080/",
          "height": 35
        },
        "outputId": "09598074-d2c2-4e35-fe0f-edd98937d1ba"
      },
      "source": [
        "0//2"
      ],
      "execution_count": null,
      "outputs": [
        {
          "output_type": "execute_result",
          "data": {
            "text/plain": [
              "0"
            ]
          },
          "metadata": {
            "tags": []
          },
          "execution_count": 149
        }
      ]
    }
  ]
}