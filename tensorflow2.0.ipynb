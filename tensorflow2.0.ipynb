{
  "nbformat": 4,
  "nbformat_minor": 0,
  "metadata": {
    "colab": {
      "name": "Untitled19.ipynb",
      "provenance": [],
      "collapsed_sections": [],
      "authorship_tag": "ABX9TyM03jyuR/pRAbrHjFunx2rw",
      "include_colab_link": true
    },
    "kernelspec": {
      "name": "python3",
      "display_name": "Python 3"
    }
  },
  "cells": [
    {
      "cell_type": "markdown",
      "metadata": {
        "id": "view-in-github",
        "colab_type": "text"
      },
      "source": [
        "<a href=\"https://colab.research.google.com/github/rlfwo93/machine-learning/blob/master/tensorflow2.0.ipynb\" target=\"_parent\"><img src=\"https://colab.research.google.com/assets/colab-badge.svg\" alt=\"Open In Colab\"/></a>"
      ]
    },
    {
      "cell_type": "code",
      "metadata": {
        "id": "tpZn-olQ5rKl",
        "outputId": "a1c1f04a-4087-4425-8c43-5ec338d2e77d",
        "colab": {
          "base_uri": "https://localhost:8080/",
          "height": 35
        }
      },
      "source": [
        "import tensorflow as tf\n",
        "import matplotlib.pyplot as plt\n",
        "import matplotlib as mpl\n",
        "import numpy as np\n",
        "%matplotlib inline \n",
        "tf.__version__"
      ],
      "execution_count": 24,
      "outputs": [
        {
          "output_type": "execute_result",
          "data": {
            "application/vnd.google.colaboratory.intrinsic+json": {
              "type": "string"
            },
            "text/plain": [
              "'2.3.0'"
            ]
          },
          "metadata": {
            "tags": []
          },
          "execution_count": 24
        }
      ]
    },
    {
      "cell_type": "markdown",
      "metadata": {
        "id": "cWZyb7i79os_"
      },
      "source": [
        "https://davinci-ai.tistory.com/20  용어개념설명\n",
        "\n",
        "편향  = 예측 값과 실제 값의 차이"
      ]
    },
    {
      "cell_type": "markdown",
      "metadata": {
        "id": "mAUK_Erc-kaV"
      },
      "source": [
        "# **Uniform(균일) 분포 난수**\n",
        "-  균일 분포(uniform distribution)란 최댓값과 최솟값 사이에 있는 모든 수가 나올 확률이 동일한 분포."
      ]
    },
    {
      "cell_type": "code",
      "metadata": {
        "id": "lNbYIGri68p6",
        "outputId": "05080007-56a9-4d46-83f4-5d3479114b0e",
        "colab": {
          "base_uri": "https://localhost:8080/",
          "height": 71
        }
      },
      "source": [
        "rand = tf.random.uniform([2,2], 0, 1) # 균일 분포의 난수를 취득하는 함수.\n",
        "# shape[2,2] = return되는 난수의 모양(행,열등)의 차원을 의미함.\n",
        "# minval  0= 최솟값\n",
        "# maxvval  1= 최대값\n",
        "\n",
        "print(rand)"
      ],
      "execution_count": null,
      "outputs": [
        {
          "output_type": "stream",
          "text": [
            "tf.Tensor(\n",
            "[[0.99350655 0.6061802 ]\n",
            " [0.96937835 0.21356452]], shape=(2, 2), dtype=float32)\n"
          ],
          "name": "stdout"
        }
      ]
    },
    {
      "cell_type": "markdown",
      "metadata": {
        "id": "ad1h2mHV-oUE"
      },
      "source": [
        "# **Normal(정규) 분포 난수**\n",
        "- 정규 분포(normal distribution)는 가운데가 높고 양극단으로 갈수록 낮아지는 분포를 의미\n",
        "\n",
        "\n"
      ]
    },
    {
      "cell_type": "code",
      "metadata": {
        "id": "deqjK0wQ8pFQ",
        "outputId": "d95c4ad4-724c-48f5-8bdf-6784feff3499",
        "colab": {
          "base_uri": "https://localhost:8080/",
          "height": 71
        }
      },
      "source": [
        "rand =tf.random.normal([2,2],0,1)\n",
        "#shape[2,2] = 모양\n",
        "# mean: 평균값을 의미\n",
        "# standard deviation: 표준편차를 의미\n",
        "\n",
        "print(rand)"
      ],
      "execution_count": null,
      "outputs": [
        {
          "output_type": "stream",
          "text": [
            "tf.Tensor(\n",
            "[[ 0.30616027 -1.3715899 ]\n",
            " [-0.42791864 -0.9073538 ]], shape=(2, 2), dtype=float32)\n"
          ],
          "name": "stdout"
        }
      ]
    },
    {
      "cell_type": "markdown",
      "metadata": {
        "id": "4PMoSmmgBiDm"
      },
      "source": [
        "# *MNIST dataset 준비하기*\n",
        "\n",
        "http://hleecaster.com/ml-normalization-concept/"
      ]
    },
    {
      "cell_type": "code",
      "metadata": {
        "id": "aDq9q0wBBgyu",
        "outputId": "80e7a1cf-e367-4434-d97f-3073d7b9f5a9",
        "colab": {
          "base_uri": "https://localhost:8080/",
          "height": 89
        }
      },
      "source": [
        "mnist = tf.keras.datasets.mnist\n",
        "\n",
        "(x_train, y_train), (x_test, y_test) = mnist.load_data()\n",
        "x_train, x_test = x_train/255.0, x_test/255.0 # 모든값을 0~1사이로 만들어주는 최소-최대 정규화\n",
        "\n",
        "print(\"x_train={0}\".format(x_train.shape))\n",
        "print(\"y_train={0}\".format(y_train.shape))\n",
        "print(\"x_test={0}\".format(x_test.shape))\n",
        "print(\"y_test={0}\".format(y_test.shape))"
      ],
      "execution_count": 14,
      "outputs": [
        {
          "output_type": "stream",
          "text": [
            "x_train=(60000, 28, 28)\n",
            "y_train=(60000,)\n",
            "x_test=(10000, 28, 28)\n",
            "y_test=(10000,)\n"
          ],
          "name": "stdout"
        }
      ]
    },
    {
      "cell_type": "code",
      "metadata": {
        "id": "L_DFsMKlgmcJ",
        "outputId": "21a39d68-128a-4361-f726-7b0c0d45897e",
        "colab": {
          "base_uri": "https://localhost:8080/",
          "height": 224
        }
      },
      "source": [
        "test =x_train[0:20,:]#레이블7의 데이터가 있는 행렬\n",
        "\n",
        "def plot_digits(instances, images_per_row=10, **options):\n",
        "    size = 28\n",
        "    images_per_row = min(len(instances), images_per_row) # 1  \n",
        "    images = [instance.reshape(size,size) for instance in instances]\n",
        "    # ndata[2:3,:].reshape(1,784) 을 (28,28) 로 바꿔줌\n",
        "    n_rows = (len(instances) - 1) // images_per_row + 1 # 1\n",
        "  \n",
        "\n",
        "    row_images = []\n",
        "    n_empty = n_rows * images_per_row - len(instances) # 0 \n",
        "\n",
        "    print(\"n_empty = {0} \".format(n_empty)) # 0\n",
        "    print(type(images))\n",
        "\n",
        "    images.append(np.zeros((size, size * n_empty))) \n",
        "    \n",
        "    for row in range(n_rows):\n",
        "        rimages = images[row * images_per_row : (row + 1) * images_per_row]\n",
        "        print(len(rimages))\n",
        "        row_images.append(np.concatenate(rimages, axis=1))\n",
        "        print(len(row_images))\n",
        "    image_all = np.concatenate(row_images, axis=0)\n",
        "    print(image_all.shape)\n",
        "    plt.imshow(image_all, cmap = mpl.cm.binary, **options)\n",
        "    plt.axis(\"off\")\n",
        "\n",
        "plot_digits(test)"
      ],
      "execution_count": 51,
      "outputs": [
        {
          "output_type": "stream",
          "text": [
            "n_empty = 0 \n",
            "<class 'list'>\n",
            "10\n",
            "1\n",
            "10\n",
            "2\n",
            "(56, 280)\n"
          ],
          "name": "stdout"
        },
        {
          "output_type": "display_data",
          "data": {
            "image/png": "[encoded data removed]",
            "text/plain": [
              "<Figure size 432x288 with 1 Axes>"
            ]
          },
          "metadata": {
            "tags": [],
            "needs_background": "light"
          }
        }
      ]
    },
    {
      "cell_type": "code",
      "metadata": {
        "id": "xy-KnxUMhZI0",
        "outputId": "647f217d-a3e3-4308-f704-5f4f513c545e",
        "colab": {
          "base_uri": "https://localhost:8080/",
          "height": 35
        }
      },
      "source": [
        "x_train.shape"
      ],
      "execution_count": 56,
      "outputs": [
        {
          "output_type": "execute_result",
          "data": {
            "text/plain": [
              "(60000, 28, 28)"
            ]
          },
          "metadata": {
            "tags": []
          },
          "execution_count": 56
        }
      ]
    },
    {
      "cell_type": "markdown",
      "metadata": {
        "id": "dHWl6bd6Bso9"
      },
      "source": [
        " 0~255사이의 값을 255.0으로 나누게되면 0 ~ 1사이의 값으로 바뀐다. 이것을 Min-Max Normalization 최소-최대 정규화 라고한다.\n",
        " \n",
        " 학습이 더 잘되기 때문에 정규화를 한다.\n",
        "\n",
        "\n",
        "(X - MIN) / (MAX-MIN) "
      ]
    },
    {
      "cell_type": "code",
      "metadata": {
        "id": "QEM-mHhwCJ_W"
      },
      "source": [
        "model = tf.keras.models.Sequential([ # 데 Sequential 모델은 순차적으로 레이어 층을 더해주기 때문에 순차모델이라고 불림.\n",
        "    tf.keras.layers.Flatten(input_shape=(28, 28)),\n",
        "    tf.keras.layers.Dense(128, activation='relu'),  # 128은 출력을 나타내줌.\n",
        "    tf.keras.layers.Dropout(0.2), # 과적합을 피하기위해 \n",
        "    tf.keras.layers.Dense(10, activation='softmax')\n",
        "])\n",
        "\n",
        "model.compile(optimizer='adam',\n",
        "              loss='sparse_categorical_crossentropy',\n",
        "              metrics=['accuracy'])"
      ],
      "execution_count": 53,
      "outputs": []
    },
    {
      "cell_type": "markdown",
      "metadata": {
        "id": "9UYwbKbowUmb"
      },
      "source": [
        ""
      ]
    },
    {
      "cell_type": "markdown",
      "metadata": {
        "id": "WEuJi3FZCPUx"
      },
      "source": [
        "# 함수\n",
        "- flatten : 1d로 평평하게 펴주는레이어\n",
        "- Dense : fully connected 레이어. 이전 레이어의 출력과 모든 뉴런들을 연결.\n",
        "- fully connected : CNN의 종류로써 이미지를 분류/설명하는데 가장 적합하게 예측.\n",
        "-  Dropout :  regularization을 위해 사용하는 Dropout, 특정 비율로 뉴런을 turn off해서 학습한다.\n",
        "\n",
        "- Flatten(input_shape=(28,28)) : 28x28 shape의 입력데이터를 28*28 x 1로 변경해준다.\n"
      ]
    },
    {
      "cell_type": "markdown",
      "metadata": {
        "id": "83g1UZPkwxaV"
      },
      "source": [
        "- tf.keras.layers.Flatten(input_shape=(28, 28)) = 받은 데이터를 28x28 형식으로 쫙 펴준다.\n",
        "- tf.keras.layers.Dense(128, activation='relu') = 128개를 출력한다는 뜻이고, activation은 활성화 레이어라는 뜻이다. "
      ]
    }
  ]
}