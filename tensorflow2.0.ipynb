{
  "nbformat": 4,
  "nbformat_minor": 0,
  "metadata": {
    "colab": {
      "name": "Untitled19.ipynb",
      "provenance": [],
      "collapsed_sections": [],
      "authorship_tag": "ABX9TyPenHcIrWGBAP/REWkZ/OQ1",
      "include_colab_link": true
    },
    "kernelspec": {
      "name": "python3",
      "display_name": "Python 3"
    }
  },
  "cells": [
    {
      "cell_type": "markdown",
      "metadata": {
        "id": "view-in-github",
        "colab_type": "text"
      },
      "source": [
        "<a href=\"https://colab.research.google.com/github/rlfwo93/machine-learning/blob/master/tensorflow2.0.ipynb\" target=\"_parent\"><img src=\"https://colab.research.google.com/assets/colab-badge.svg\" alt=\"Open In Colab\"/></a>"
      ]
    },
    {
      "cell_type": "code",
      "metadata": {
        "id": "tpZn-olQ5rKl",
        "outputId": "1870b6f4-cc9c-439b-d567-8aaa872cb2e6",
        "colab": {
          "base_uri": "https://localhost:8080/",
          "height": 35
        }
      },
      "source": [
        "import tensorflow as tf\n",
        "tf.__version__"
      ],
      "execution_count": 26,
      "outputs": [
        {
          "output_type": "execute_result",
          "data": {
            "application/vnd.google.colaboratory.intrinsic+json": {
              "type": "string"
            },
            "text/plain": [
              "'2.3.0'"
            ]
          },
          "metadata": {
            "tags": []
          },
          "execution_count": 26
        }
      ]
    },
    {
      "cell_type": "markdown",
      "metadata": {
        "id": "cWZyb7i79os_"
      },
      "source": [
        "https://davinci-ai.tistory.com/20  용어개념설명\n"
      ]
    },
    {
      "cell_type": "markdown",
      "metadata": {
        "id": "mAUK_Erc-kaV"
      },
      "source": [
        "# **Uniform(균일) 분포 난수**\n",
        "-  균일 분포(uniform distribution)란 최댓값과 최솟값 사이에 있는 모든 수가 나올 확률이 동일한 분포."
      ]
    },
    {
      "cell_type": "code",
      "metadata": {
        "id": "lNbYIGri68p6",
        "outputId": "05080007-56a9-4d46-83f4-5d3479114b0e",
        "colab": {
          "base_uri": "https://localhost:8080/",
          "height": 71
        }
      },
      "source": [
        "rand = tf.random.uniform([2,2], 0, 1) # 균일 분포의 난수를 취득하는 함수.\n",
        "# shape[2,2] = return되는 난수의 모양(행,열등)의 차원을 의미함.\n",
        "# minval  0= 최솟값\n",
        "# maxvval  1= 최대값\n",
        "\n",
        "print(rand)"
      ],
      "execution_count": 27,
      "outputs": [
        {
          "output_type": "stream",
          "text": [
            "tf.Tensor(\n",
            "[[0.99350655 0.6061802 ]\n",
            " [0.96937835 0.21356452]], shape=(2, 2), dtype=float32)\n"
          ],
          "name": "stdout"
        }
      ]
    },
    {
      "cell_type": "markdown",
      "metadata": {
        "id": "ad1h2mHV-oUE"
      },
      "source": [
        "# **Normal(정규) 분포 난수**\n",
        "- 정규 분포(normal distribution)는 가운데가 높고 양극단으로 갈수록 낮아지는 분포를 의미\n",
        "\n",
        "\n"
      ]
    },
    {
      "cell_type": "code",
      "metadata": {
        "id": "deqjK0wQ8pFQ",
        "outputId": "d95c4ad4-724c-48f5-8bdf-6784feff3499",
        "colab": {
          "base_uri": "https://localhost:8080/",
          "height": 71
        }
      },
      "source": [
        "rand =tf.random.normal([2,2],0,1)\n",
        "#shape[2,2] = 모양\n",
        "# mean: 평균값을 의미\n",
        "# standard deviation: 표준편차를 의미\n",
        "\n",
        "print(rand)"
      ],
      "execution_count": 28,
      "outputs": [
        {
          "output_type": "stream",
          "text": [
            "tf.Tensor(\n",
            "[[ 0.30616027 -1.3715899 ]\n",
            " [-0.42791864 -0.9073538 ]], shape=(2, 2), dtype=float32)\n"
          ],
          "name": "stdout"
        }
      ]
    },
    {
      "cell_type": "markdown",
      "metadata": {
        "id": "4PMoSmmgBiDm"
      },
      "source": [
        "# *MNIST dataset 준비하기*"
      ]
    },
    {
      "cell_type": "code",
      "metadata": {
        "id": "aDq9q0wBBgyu"
      },
      "source": [
        "mnist = tf.keras.datasets.mnist\n",
        "\n",
        "(x_train, y_train), (x_test, y_test) = mnist.load_data()\n",
        "x_train, x_test = x_train/255.0, x_test/255.0\n"
      ],
      "execution_count": 29,
      "outputs": []
    },
    {
      "cell_type": "markdown",
      "metadata": {
        "id": "dHWl6bd6Bso9"
      },
      "source": [
        " 0~255사이의 값을 255.0으로 나누게되면 0 ~ 1사이의 값으로 바뀐다. 이것을 정규화라고한다.\n",
        " \n",
        " 학습이 더 잘되기 때문에 정규화를 한다.\n"
      ]
    },
    {
      "cell_type": "code",
      "metadata": {
        "id": "QEM-mHhwCJ_W"
      },
      "source": [
        "model = tf.keras.models.Sequential([\n",
        "    tf.keras.layers.Flatten(input_shape=(28, 28)),\n",
        "    tf.keras.layers.Dense(128, activation='relu'),\n",
        "    tf.keras.layers.Dropout(0.2),\n",
        "    tf.keras.layers.Dense(10, activation='softmax')\n",
        "])\n",
        "\n",
        "model.compile(optimizer='adam',\n",
        "              loss='sparse_categorical_crossentropy',\n",
        "              metrics=['accuracy'])"
      ],
      "execution_count": 25,
      "outputs": []
    },
    {
      "cell_type": "markdown",
      "metadata": {
        "id": "WEuJi3FZCPUx"
      },
      "source": [
        "- flatten : 1d로 평평하게 펴주는레이어\n",
        "- Dense : fully connected 레이어. 이전 레이어의 출력과 모든 뉴런들을 연결.\n",
        "- fully connected : CNN의 종류로써 이미지를 분류/설명하는데 가장 적합하게 예측.\n",
        "-  Dropout :  regularization을 위해 사용하는 Dropout, 특정 비율로 뉴런을 turn off해서 학습한다.\n",
        "\n",
        "- Flatten(input_shape=(28,28)) : 28x28 shape의 입력데이터를 28*28 x 1로 변경해준다."
      ]
    }
  ]
}