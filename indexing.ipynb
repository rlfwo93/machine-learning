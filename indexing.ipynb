{
  "nbformat": 4,
  "nbformat_minor": 0,
  "metadata": {
    "colab": {
      "name": "indexing.ipynb",
      "provenance": [],
      "authorship_tag": "ABX9TyOgFgDTwhAyrhsjmcC9H9CI",
      "include_colab_link": true
    },
    "kernelspec": {
      "name": "python3",
      "display_name": "Python 3"
    }
  },
  "cells": [
    {
      "cell_type": "markdown",
      "metadata": {
        "id": "view-in-github",
        "colab_type": "text"
      },
      "source": [
        "<a href=\"https://colab.research.google.com/github/rlfwo93/machine-learning/blob/master/indexing.ipynb\" target=\"_parent\"><img src=\"https://colab.research.google.com/assets/colab-badge.svg\" alt=\"Open In Colab\"/></a>"
      ]
    },
    {
      "cell_type": "code",
      "metadata": {
        "id": "DUDfBySB6IDL",
        "colab_type": "code",
        "colab": {}
      },
      "source": [
        "import numpy as np #넘파이  모듈"
      ],
      "execution_count": 1,
      "outputs": []
    },
    {
      "cell_type": "markdown",
      "metadata": {
        "id": "2qfYdh_26Qm7",
        "colab_type": "text"
      },
      "source": [
        "# 2차원 행렬 인덱싱"
      ]
    },
    {
      "cell_type": "code",
      "metadata": {
        "id": "lRHygGGM6Dgz",
        "colab_type": "code",
        "colab": {
          "base_uri": "https://localhost:8080/",
          "height": 212
        },
        "outputId": "2891b6b4-2f68-40bd-d23f-87e5255adc44"
      },
      "source": [
        "a = np.array([10,20,30,40,50,60]).reshape(3,2)\n",
        "print(\"a = {0}\".format(a), end = \"\\n\\n\")\n",
        "print(\"a[0:-1, 1:2] ==\", a[0:-1, 1:2])  # == A[0:2, 1:2]\n",
        "print(\"a[-1:-2, 1:2] ==\", a[0:-1, 1:2], end = \"\\n\\n--------------------------------\\n\\n\")\n",
        "\n",
        "# 앞부분은 행을 뒷 부분은 열을 나타냄 "
      ],
      "execution_count": 2,
      "outputs": [
        {
          "output_type": "stream",
          "text": [
            "a = [[10 20]\n",
            " [30 40]\n",
            " [50 60]]\n",
            "\n",
            "a[0:-1, 1:2] == [[20]\n",
            " [40]]\n",
            "a[-1:-2, 1:2] == [[20]\n",
            " [40]]\n",
            "\n",
            "--------------------------------\n",
            "\n"
          ],
          "name": "stdout"
        }
      ]
    },
    {
      "cell_type": "code",
      "metadata": {
        "id": "Qxz4gqTY6PSn",
        "colab_type": "code",
        "colab": {
          "base_uri": "https://localhost:8080/",
          "height": 265
        },
        "outputId": "261ddf66-06de-4a60-ba22-fb9ed6d70cf0"
      },
      "source": [
        "c = np.array([10,20,30,40,50,60,70,80,90,100,110,120,130,140,150,160]).reshape(4,4)\n",
        "print(\"c = {0}\".format(c), end = \"\\n\\n\")\n",
        "print(\"c[0:-1, 1:2] ==\", c[0:-1, 1:4])  \n",
        "print(\"c[-1:-2, 1:2] ==\", c[0:-1, 1:2], end = \"\\n\\n--------------------------------\\n\\n\")\n",
        "\n",
        "\n",
        "# 앞부분은 행을 뒷 부분은 열을 나타냄"
      ],
      "execution_count": 13,
      "outputs": [
        {
          "output_type": "stream",
          "text": [
            "c = [[ 10  20  30  40]\n",
            " [ 50  60  70  80]\n",
            " [ 90 100 110 120]\n",
            " [130 140 150 160]]\n",
            "\n",
            "c[0:-1, 1:2] == [[ 20  30  40]\n",
            " [ 60  70  80]\n",
            " [100 110 120]]\n",
            "c[-1:-2, 1:2] == [[ 20]\n",
            " [ 60]\n",
            " [100]]\n",
            "\n",
            "--------------------------------\n",
            "\n"
          ],
          "name": "stdout"
        }
      ]
    },
    {
      "cell_type": "code",
      "metadata": {
        "id": "bIxu2Paf6PXm",
        "colab_type": "code",
        "colab": {}
      },
      "source": [
        ""
      ],
      "execution_count": null,
      "outputs": []
    },
    {
      "cell_type": "code",
      "metadata": {
        "id": "lABUYL9M6Pcc",
        "colab_type": "code",
        "colab": {}
      },
      "source": [
        ""
      ],
      "execution_count": null,
      "outputs": []
    },
    {
      "cell_type": "code",
      "metadata": {
        "id": "UwiMxlCU6Pf6",
        "colab_type": "code",
        "colab": {}
      },
      "source": [
        ""
      ],
      "execution_count": null,
      "outputs": []
    }
  ]
}