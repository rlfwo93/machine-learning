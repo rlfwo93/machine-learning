{
  "nbformat": 4,
  "nbformat_minor": 0,
  "metadata": {
    "colab": {
      "name": "Untitled9.ipynb",
      "provenance": [],
      "authorship_tag": "ABX9TyOQpKkdNpxz87YIRFfIGNgr",
      "include_colab_link": true
    },
    "kernelspec": {
      "name": "python3",
      "display_name": "Python 3"
    }
  },
  "cells": [
    {
      "cell_type": "markdown",
      "metadata": {
        "id": "view-in-github",
        "colab_type": "text"
      },
      "source": [
        "<a href=\"https://colab.research.google.com/github/rlfwo93/machine-learning/blob/master/pratice.ipynb\" target=\"_parent\"><img src=\"https://colab.research.google.com/assets/colab-badge.svg\" alt=\"Open In Colab\"/></a>"
      ]
    },
    {
      "cell_type": "code",
      "metadata": {
        "id": "K8lb5J4rDvB3",
        "colab_type": "code",
        "colab": {}
      },
      "source": [
        "import numpy as np"
      ],
      "execution_count": 4,
      "outputs": []
    },
    {
      "cell_type": "code",
      "metadata": {
        "id": "I5VRHgjuDw_M",
        "colab_type": "code",
        "colab": {}
      },
      "source": [
        "data = np.loadtxt(\"sample_data/mnist_train_small.csv\", delimiter=\",\")\n",
        "# delimiter는 CSV 파일이 뭘로 나누어져 있는지(\\t, ' ', '+' 등)를 나타낸다\n",
        "# delimniter= \",\" 는 ,를 기준으로 파일을 나뉘어준다."
      ],
      "execution_count": 5,
      "outputs": []
    },
    {
      "cell_type": "code",
      "metadata": {
        "id": "WGCWsnpeDu_X",
        "colab_type": "code",
        "colab": {
          "base_uri": "https://localhost:8080/",
          "height": 71
        },
        "outputId": "44ced7b6-124b-459d-8b76-712f28ce183e"
      },
      "source": [
        "ndata = data[:,1:]  # ndata (iamge of hand-written numbers), 784 pixels for each number\n",
        "#첫번째값은 레이블이고, 뒤에있는 값들이 답을 구성하는 데이터이기떄문에 첫번째 값은 빼줌\n",
        "print(ndata.shape) # 20000,784 \n",
        "print(\"784 = {}\".format(28*28)) # 784 픽셀인것을 알려줌\n",
        "print(type(ndata)) # 넘파이의 배열 오브젝트"
      ],
      "execution_count": 7,
      "outputs": [
        {
          "output_type": "stream",
          "text": [
            "(20000, 784)\n",
            "784 = 784\n",
            "<class 'numpy.ndarray'>\n"
          ],
          "name": "stdout"
        }
      ]
    },
    {
      "cell_type": "code",
      "metadata": {
        "id": "kIKtZTImDu4u",
        "colab_type": "code",
        "colab": {
          "base_uri": "https://localhost:8080/",
          "height": 53
        },
        "outputId": "eeb57bd6-a657-4fa1-f5df-b3dd8ad38a13"
      },
      "source": [
        "first_num = ndata[0,0:].reshape(28,28) # 맨 첫번째 행렬을 28x28로\n",
        "first_num\n",
        "print(\"first_num = {0}\".format(first_num.size))\n",
        "print(type(first_num))"
      ],
      "execution_count": 8,
      "outputs": [
        {
          "output_type": "stream",
          "text": [
            "first_num = 784\n",
            "<class 'numpy.ndarray'>\n"
          ],
          "name": "stdout"
        }
      ]
    },
    {
      "cell_type": "code",
      "metadata": {
        "id": "5F6PRATED5gf",
        "colab_type": "code",
        "colab": {
          "base_uri": "https://localhost:8080/",
          "height": 53
        },
        "outputId": "93dd5a11-e8ba-42c1-e9d5-ba2379ab505f"
      },
      "source": [
        "last_num = ndata[-1,0:].reshape(28,28) # 맨 마지막  행렬을 28x28로\n",
        "last_num\n",
        "print(\"last_num = {0}\".format(last_num.size))\n",
        "print(type(last_num))"
      ],
      "execution_count": 9,
      "outputs": [
        {
          "output_type": "stream",
          "text": [
            "last_num = 784\n",
            "<class 'numpy.ndarray'>\n"
          ],
          "name": "stdout"
        }
      ]
    },
    {
      "cell_type": "code",
      "metadata": {
        "id": "1I1uE7G2DaNh",
        "colab_type": "code",
        "colab": {}
      },
      "source": [
        "import matplotlib.pyplot as plt\n",
        "import matplotlib as mpl\n",
        "%matplotlib inline\n",
        "# %matplotlib inline 의 역할은 notebook을 실행한 브라우저에서 바로 그림을 볼 수 있게 해주는 것\n",
        "# %pylab inline 또는 %matplotlib inline 을 실행하면 \n",
        "#ipython 과 쥬피터 노트북에서 plt.show() 를 실행하지 않아도 되고 도표가 실행창에 포함된다"
      ],
      "execution_count": 1,
      "outputs": []
    },
    {
      "cell_type": "code",
      "metadata": {
        "id": "z_ldvMBeDgtI",
        "colab_type": "code",
        "colab": {
          "base_uri": "https://localhost:8080/",
          "height": 594
        },
        "outputId": "779d7bf0-b6da-41cf-d425-c3a7ea181647"
      },
      "source": [
        "plt.figure(figsize=(10,10)) # plt.figure(figsize=(x, y))를 입력하면 그림 크기를 결정\n",
        "\n",
        "# figure = 그림의 단위\n",
        "# figsize = figure의 크기를 결정\n",
        "\n",
        "plt.imshow(last_num, cmap=\"gray\")\n",
        "\n",
        "# plt.imshow 함수는 default 값이 color로 출력하게 되어있어서 내부적으로 변환이 이뤄지는것 \n",
        "# 같은데, cmap(color map)형식 인자값을 다양하게 변경가능하며, \n",
        "# plt.imshow(cv_img, cmap='gray') 으로 변경하면 gray형식으로 출력되는것을 확인 \n",
        "\n",
        "\n",
        "plt.grid(False) #무늬를 나타내주는 것 \n",
        "plt.xticks([]) # x축 눈금을 몇으로 지정해줄지 설정\n",
        "plt.title(\"matplotlib \") # 제목을 설정\n",
        "plt.xlabel(\"\") # x축 라벨을 설정\n",
        "plt.ylabel(\"yyyy\") # y축 라벨을 설정\n",
        "plt.yticks([]) #y축 눈금을 몇으로 할지 지정.\n",
        "plt.show()\n",
        "\n",
        "# show 명령은 시각화 명령을 실제로 차트로 렌더링(rendering)하고 마우스 움직임 등의 이벤트를 기다리라는 지시이다. \n",
        "# 주피터 노트북에서는 셀 단위로 플롯 명령을 자동 렌더링 해주므로 show 명령이 필요없지만\n",
        "# 일반 파이썬 인터프리터로 가동되는 경우를 대비하여 항상 마지막에 실행하도록 한다.\n",
        "# show 명령을 주면 마지막 플롯 명령으로부터 반환된 플롯 객체의 표현도"
      ],
      "execution_count": 22,
      "outputs": [
        {
          "output_type": "display_data",
          "data": {
            "image/png": "[encoded data removed]",
            "text/plain": [
              "<Figure size 720x720 with 1 Axes>"
            ]
          },
          "metadata": {
            "tags": []
          }
        }
      ]
    }
  ]
}