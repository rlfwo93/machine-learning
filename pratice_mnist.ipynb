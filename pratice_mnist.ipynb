{
  "nbformat": 4,
  "nbformat_minor": 0,
  "metadata": {
    "colab": {
      "name": "Untitled9.ipynb",
      "provenance": [],
      "authorship_tag": "ABX9TyNBNyD22K9JDmtAQ6zUJ4g0",
      "include_colab_link": true
    },
    "kernelspec": {
      "name": "python3",
      "display_name": "Python 3"
    }
  },
  "cells": [
    {
      "cell_type": "markdown",
      "metadata": {
        "id": "view-in-github",
        "colab_type": "text"
      },
      "source": [
        "<a href=\"https://colab.research.google.com/github/rlfwo93/machine-learning/blob/master/pratice_mnist.ipynb\" target=\"_parent\"><img src=\"https://colab.research.google.com/assets/colab-badge.svg\" alt=\"Open In Colab\"/></a>"
      ]
    },
    {
      "cell_type": "code",
      "metadata": {
        "id": "K8lb5J4rDvB3",
        "colab_type": "code",
        "colab": {}
      },
      "source": [
        "import numpy as np"
      ],
      "execution_count": 74,
      "outputs": []
    },
    {
      "cell_type": "code",
      "metadata": {
        "id": "I5VRHgjuDw_M",
        "colab_type": "code",
        "colab": {}
      },
      "source": [
        "data = np.loadtxt(\"sample_data/mnist_train_small.csv\", delimiter=\",\")\n",
        "# delimiter는 CSV 파일이 뭘로 나누어져 있는지(\\t, ' ', '+' 등)를 나타낸다\n",
        "# delimniter= \",\" 는 ,를 기준으로 파일을 나뉘어준다."
      ],
      "execution_count": 75,
      "outputs": []
    },
    {
      "cell_type": "code",
      "metadata": {
        "id": "WGCWsnpeDu_X",
        "colab_type": "code",
        "colab": {
          "base_uri": "https://localhost:8080/",
          "height": 71
        },
        "outputId": "0eaf4b07-1e25-4117-b54d-c6eb24dd2bf4"
      },
      "source": [
        "ndata = data[:,1:]  # ndata (iamge of hand-written numbers), 784 pixels for each number\n",
        "#첫번째값은 레이블이고, 뒤에있는 값들이 답을 구성하는 데이터이기떄문에 첫번째 값은 빼줌\n",
        "print(ndata.shape) # 20000,784 \n",
        "print(\"784 = {}\".format(28*28)) # 784 픽셀인것을 알려줌\n",
        "print(type(ndata)) # 넘파이의 배열 오브젝트"
      ],
      "execution_count": 76,
      "outputs": [
        {
          "output_type": "stream",
          "text": [
            "(20000, 784)\n",
            "784 = 784\n",
            "<class 'numpy.ndarray'>\n"
          ],
          "name": "stdout"
        }
      ]
    },
    {
      "cell_type": "code",
      "metadata": {
        "id": "kIKtZTImDu4u",
        "colab_type": "code",
        "colab": {
          "base_uri": "https://localhost:8080/",
          "height": 53
        },
        "outputId": "1819adc7-7498-46cc-cbb1-2e211b1679f7"
      },
      "source": [
        "first_num = ndata[0,0:].reshape(28,28) # 맨 첫번째 행렬을 28x28로\n",
        "first_num\n",
        "print(\"first_num = {0}\".format(first_num.size))\n",
        "print(type(first_num))"
      ],
      "execution_count": 77,
      "outputs": [
        {
          "output_type": "stream",
          "text": [
            "first_num = 784\n",
            "<class 'numpy.ndarray'>\n"
          ],
          "name": "stdout"
        }
      ]
    },
    {
      "cell_type": "code",
      "metadata": {
        "id": "5F6PRATED5gf",
        "colab_type": "code",
        "colab": {
          "base_uri": "https://localhost:8080/",
          "height": 53
        },
        "outputId": "ec43b7e1-73e2-43ed-fcbc-990f4f2de42f"
      },
      "source": [
        "last_num = ndata[-1,0:].reshape(28,28) # 맨 마지막  행렬을 28x28로\n",
        "last_num\n",
        "print(\"last_num = {0}\".format(last_num.size))\n",
        "print(type(last_num))"
      ],
      "execution_count": 78,
      "outputs": [
        {
          "output_type": "stream",
          "text": [
            "last_num = 784\n",
            "<class 'numpy.ndarray'>\n"
          ],
          "name": "stdout"
        }
      ]
    },
    {
      "cell_type": "code",
      "metadata": {
        "id": "1I1uE7G2DaNh",
        "colab_type": "code",
        "colab": {}
      },
      "source": [
        "import matplotlib.pyplot as plt\n",
        "import matplotlib as mpl\n",
        "%matplotlib inline\n",
        "# %matplotlib inline 의 역할은 notebook을 실행한 브라우저에서 바로 그림을 볼 수 있게 해주는 것\n",
        "# %pylab inline 또는 %matplotlib inline 을 실행하면 \n",
        "#ipython 과 쥬피터 노트북에서 plt.show() 를 실행하지 않아도 되고 도표가 실행창에 포함된다"
      ],
      "execution_count": 79,
      "outputs": []
    },
    {
      "cell_type": "code",
      "metadata": {
        "id": "z_ldvMBeDgtI",
        "colab_type": "code",
        "colab": {
          "base_uri": "https://localhost:8080/",
          "height": 605
        },
        "outputId": "3c855916-6804-413a-b302-a1963934e967"
      },
      "source": [
        "plt.figure(figsize=(10,10)) # plt.figure(figsize=(x, y))를 입력하면 그림 크기를 결정\n",
        "\n",
        "# figure = 그림의 단위\n",
        "# figsize = figure의 크기를 결정\n",
        "\n",
        "plt.imshow(last_num, cmap=\"gray\")\n",
        "\n",
        "# plt.imshow 함수는 default 값이 color로 출력하게 되어있어서 내부적으로 변환이 이뤄지는것 \n",
        "# 같은데, cmap(color map)형식 인자값을 다양하게 변경가능하며, \n",
        "# plt.imshow(cv_img, cmap='gray') 으로 변경하면 gray형식으로 출력되는것을 확인 \n",
        "\n",
        "\n",
        "plt.grid(False) #무늬를 나타내주는 것 \n",
        "plt.xticks([]) # x축 눈금을 몇으로 지정해줄지 설정\n",
        "plt.title(\"matplotlib \") # 제목을 설정\n",
        "plt.xlabel(\"xxxx\") # x축 라벨을 설정\n",
        "plt.ylabel(\"yyyy\") # y축 라벨을 설정\n",
        "plt.yticks([]) #y축 눈금을 몇으로 할지 지정.\n",
        "plt.show()\n",
        "\n",
        "# show 명령은 시각화 명령을 실제로 차트로 렌더링(rendering)하고 마우스 움직임 등의 이벤트를 기다리라는 지시이다. \n",
        "# 주피터 노트북에서는 셀 단위로 플롯 명령을 자동 렌더링 해주므로 show 명령이 필요없지만\n",
        "# 일반 파이썬 인터프리터로 가동되는 경우를 대비하여 항상 마지막에 실행하도록 한다.\n",
        "# show 명령을 주면 마지막 플롯 명령으로부터 반환된 플롯 객체의 표현도"
      ],
      "execution_count": null,
      "outputs": [
        {
          "output_type": "display_data",
          "data": {
            "image/png": "[encoded data removed]",
            "text/plain": [
              "<Figure size 720x720 with 1 Axes>"
            ]
          },
          "metadata": {
            "tags": []
          }
        }
      ]
    },
    {
      "cell_type": "code",
      "metadata": {
        "id": "cq0jm1qHfH8Y",
        "colab_type": "code",
        "colab": {
          "base_uri": "https://localhost:8080/",
          "height": 446
        },
        "outputId": "cde71db3-0a5d-4a53-d4e6-450870dde179"
      },
      "source": [
        "test = ndata[3:4,:].reshape(1,784) #레이블7의 데이터가 있는 행렬\n",
        "def plot_digits(instances, images_per_row=10, **options):\n",
        "    size = 28\n",
        "    images_per_row = min(len(instances), images_per_row) # 1  \n",
        "    images = [instance.reshape(size,size) for instance in instances]\n",
        "    # ndata[2:3,:].reshape(1,784) 을 (28,28) 로 바꿔줌\n",
        "    n_rows = (len(instances) - 1) // images_per_row + 1 # 1\n",
        "\n",
        " \n",
        "    print(\"len(instances) = {0}\".format(len(instances) )) # 1\n",
        "    print(\"images_per_row = {0}\".format(images_per_row)) # 1   \n",
        "    print(\"len(instances) - 1 = {0}\".format(len(instances) - 1)) # 0\n",
        "    print(\"images_per_row + 1 = {0}\".format(images_per_row + 1)) # 2\n",
        "    print(\"n_rows = {0} \".format(n_rows)) # 1\n",
        "\n",
        "    row_images = []\n",
        "    n_empty = n_rows * images_per_row - len(instances) # 0 \n",
        "\n",
        "    print(\"n_empty = {0} \".format(n_empty)) # 0\n",
        "    print(type(images))\n",
        "    images.append(np.zeros((size, size * n_empty))) \n",
        "    print(\"instance ={0}\".format(instances.size))\n",
        "    for row in range(n_rows):\n",
        "        rimages = images[row * images_per_row : (row + 1) * images_per_row]\n",
        "        print(\"rimages길이 = {0}\".format(len(rimages)))\n",
        "        row_images.append(np.concatenate(rimages, axis=1))\n",
        "        print(len(row_images))\n",
        "    image_all = np.concatenate(row_images, axis=0)\n",
        "    print(\"image_all.shape = {0}\".format(image_all.shape))\n",
        "    plt.imshow(image_all, cmap = mpl.cm.binary, **options)\n",
        "    plt.axis(\"off\")\n",
        "    \n",
        "plot_digits(test)\n"
      ],
      "execution_count": null,
      "outputs": [
        {
          "output_type": "stream",
          "text": [
            "len(instances) = 1\n",
            "images_per_row = 1\n",
            "len(instances) - 1 = 0\n",
            "images_per_row + 1 = 2\n",
            "n_rows = 1 \n",
            "n_empty = 0 \n",
            "<class 'list'>\n",
            "instance =784\n",
            "rimages길이 = 1\n",
            "1\n",
            "image_all.shape = (28, 28)\n"
          ],
          "name": "stdout"
        },
        {
          "output_type": "display_data",
          "data": {
            "image/png": "[encoded data removed]",
            "text/plain": [
              "<Figure size 432x288 with 1 Axes>"
            ]
          },
          "metadata": {
            "tags": [],
            "needs_background": "light"
          }
        }
      ]
    },
    {
      "cell_type": "code",
      "metadata": {
        "id": "Vo2Km_UKkWlu",
        "colab_type": "code",
        "colab": {
          "base_uri": "https://localhost:8080/",
          "height": 89
        },
        "outputId": "3e3453fd-b76e-48fb-b408-546221bca9fb"
      },
      "source": [
        "instances = np.array(range(0,784)).reshape(1,784)\n",
        "instances1 = np.array(range(0,784)).reshape(28,28)\n",
        "size = 28\n",
        "# image = [instances.reshape(28,28) for instance in instances]\n",
        "\n",
        "print(instances1[0:1,:])\n",
        "print(len(instances1))\n",
        "images = [instance.reshape(size,size) for instance in instances]\n",
        "\n",
        "print(len(images))"
      ],
      "execution_count": 7,
      "outputs": [
        {
          "output_type": "stream",
          "text": [
            "[[ 0  1  2  3  4  5  6  7  8  9 10 11 12 13 14 15 16 17 18 19 20 21 22 23\n",
            "  24 25 26 27]]\n",
            "28\n",
            "1\n"
          ],
          "name": "stdout"
        }
      ]
    },
    {
      "cell_type": "code",
      "metadata": {
        "id": "9aRXmlACkXeZ",
        "colab_type": "code",
        "colab": {
          "base_uri": "https://localhost:8080/",
          "height": 89
        },
        "outputId": "8da033cc-80bb-4b39-dea4-13bb5c5c1d3f"
      },
      "source": [
        "c = np.array([[0, 1, 2], [3, 4, 5], [4,5,6]])  # 2 x 3 array\n",
        "print(c)\n",
        "print(len(c))"
      ],
      "execution_count": 8,
      "outputs": [
        {
          "output_type": "stream",
          "text": [
            "[[0 1 2]\n",
            " [3 4 5]\n",
            " [4 5 6]]\n",
            "3\n"
          ],
          "name": "stdout"
        }
      ]
    },
    {
      "cell_type": "code",
      "metadata": {
        "id": "hXjemcl70xxe",
        "colab_type": "code",
        "colab": {
          "base_uri": "https://localhost:8080/",
          "height": 262
        },
        "outputId": "d81b63b5-77d1-4987-e8f8-cea17a616258"
      },
      "source": [
        "plt.figure(figsize=(9,9))\n",
        "example_images = np.r_[ndata[:50]]\n",
        "plot_digits(ndata[:50], images_per_row=10)\n",
        "plot_digits(example_images, images_per_row=10)\n",
        "\n",
        "plt.show()\n",
        "\n",
        "print(\"============================\")\n",
        "print(ndata[:50].shape)\n",
        "print(example_images.shape)\n",
        "print(type(example_images))"
      ],
      "execution_count": 9,
      "outputs": [
        {
          "output_type": "error",
          "ename": "NameError",
          "evalue": "ignored",
          "traceback": [
            "\u001b[0;31m---------------------------------------------------------------------------\u001b[0m",
            "\u001b[0;31mNameError\u001b[0m                                 Traceback (most recent call last)",
            "\u001b[0;32m<ipython-input-9-cc74f1a37f16>\u001b[0m in \u001b[0;36m<module>\u001b[0;34m()\u001b[0m\n\u001b[1;32m      1\u001b[0m \u001b[0mplt\u001b[0m\u001b[0;34m.\u001b[0m\u001b[0mfigure\u001b[0m\u001b[0;34m(\u001b[0m\u001b[0mfigsize\u001b[0m\u001b[0;34m=\u001b[0m\u001b[0;34m(\u001b[0m\u001b[0;36m9\u001b[0m\u001b[0;34m,\u001b[0m\u001b[0;36m9\u001b[0m\u001b[0;34m)\u001b[0m\u001b[0;34m)\u001b[0m\u001b[0;34m\u001b[0m\u001b[0;34m\u001b[0m\u001b[0m\n\u001b[0;32m----> 2\u001b[0;31m \u001b[0mexample_images\u001b[0m \u001b[0;34m=\u001b[0m \u001b[0mnp\u001b[0m\u001b[0;34m.\u001b[0m\u001b[0mr_\u001b[0m\u001b[0;34m[\u001b[0m\u001b[0mndata\u001b[0m\u001b[0;34m[\u001b[0m\u001b[0;34m:\u001b[0m\u001b[0;36m50\u001b[0m\u001b[0;34m]\u001b[0m\u001b[0;34m]\u001b[0m\u001b[0;34m\u001b[0m\u001b[0;34m\u001b[0m\u001b[0m\n\u001b[0m\u001b[1;32m      3\u001b[0m \u001b[0mplot_digits\u001b[0m\u001b[0;34m(\u001b[0m\u001b[0mndata\u001b[0m\u001b[0;34m[\u001b[0m\u001b[0;34m:\u001b[0m\u001b[0;36m50\u001b[0m\u001b[0;34m]\u001b[0m\u001b[0;34m,\u001b[0m \u001b[0mimages_per_row\u001b[0m\u001b[0;34m=\u001b[0m\u001b[0;36m10\u001b[0m\u001b[0;34m)\u001b[0m\u001b[0;34m\u001b[0m\u001b[0;34m\u001b[0m\u001b[0m\n\u001b[1;32m      4\u001b[0m \u001b[0mplot_digits\u001b[0m\u001b[0;34m(\u001b[0m\u001b[0mexample_images\u001b[0m\u001b[0;34m,\u001b[0m \u001b[0mimages_per_row\u001b[0m\u001b[0;34m=\u001b[0m\u001b[0;36m10\u001b[0m\u001b[0;34m)\u001b[0m\u001b[0;34m\u001b[0m\u001b[0;34m\u001b[0m\u001b[0m\n\u001b[1;32m      5\u001b[0m \u001b[0;34m\u001b[0m\u001b[0m\n",
            "\u001b[0;31mNameError\u001b[0m: name 'ndata' is not defined"
          ]
        },
        {
          "output_type": "display_data",
          "data": {
            "text/plain": [
              "<Figure size 648x648 with 0 Axes>"
            ]
          },
          "metadata": {
            "tags": []
          }
        }
      ]
    },
    {
      "cell_type": "code",
      "metadata": {
        "id": "H2bh9tDrDfk9",
        "colab_type": "code",
        "colab": {}
      },
      "source": [
        "tdata = np.loadtxt(\"sample_data/mnist_test.csv\", delimiter=\",\")"
      ],
      "execution_count": 80,
      "outputs": []
    },
    {
      "cell_type": "code",
      "metadata": {
        "id": "dqLt2LGrDjke",
        "colab_type": "code",
        "colab": {
          "base_uri": "https://localhost:8080/",
          "height": 35
        },
        "outputId": "3e44bb81-c89e-4aab-e470-99ba278285d1"
      },
      "source": [
        "tdata.shape"
      ],
      "execution_count": 81,
      "outputs": [
        {
          "output_type": "execute_result",
          "data": {
            "text/plain": [
              "(10000, 785)"
            ]
          },
          "metadata": {
            "tags": []
          },
          "execution_count": 81
        }
      ]
    },
    {
      "cell_type": "code",
      "metadata": {
        "id": "5FbPvUQHSNsq",
        "colab_type": "code",
        "colab": {}
      },
      "source": [
        "from sklearn.model_selection import train_test_split"
      ],
      "execution_count": 15,
      "outputs": []
    },
    {
      "cell_type": "code",
      "metadata": {
        "id": "2V-fXPMaVHKT",
        "colab_type": "code",
        "colab": {
          "base_uri": "https://localhost:8080/",
          "height": 35
        },
        "outputId": "d89b668a-8c66-426d-a458-82d4a33d9c9e"
      },
      "source": [
        "def train_val_split(data,diffe =0.2):\n",
        "  train,val = train_test_split(data,test_size =diffe)\n",
        "  return train, val\n",
        "\n",
        "\n",
        "train,val = train_val_split(ndata)\n",
        "print(train.shape, val.shape)\n"
      ],
      "execution_count": 82,
      "outputs": [
        {
          "output_type": "stream",
          "text": [
            "(16000, 784) (4000, 784)\n"
          ],
          "name": "stdout"
        }
      ]
    },
    {
      "cell_type": "code",
      "metadata": {
        "id": "Efg0XshHZm6t",
        "colab_type": "code",
        "colab": {}
      },
      "source": [
        "dataset = dict()\n",
        "dataset[\"train\"], dataset[\"val\"] = train_val_split(ndata)"
      ],
      "execution_count": 33,
      "outputs": []
    },
    {
      "cell_type": "code",
      "metadata": {
        "id": "MSEjh8SHZv5G",
        "colab_type": "code",
        "colab": {
          "base_uri": "https://localhost:8080/",
          "height": 35
        },
        "outputId": "88878834-8eb1-4fc7-f4b2-7b04c9782350"
      },
      "source": [
        "type(dataset[\"train\"]), type(dataset[\"val\"])"
      ],
      "execution_count": 34,
      "outputs": [
        {
          "output_type": "execute_result",
          "data": {
            "text/plain": [
              "(numpy.ndarray, numpy.ndarray)"
            ]
          },
          "metadata": {
            "tags": []
          },
          "execution_count": 34
        }
      ]
    },
    {
      "cell_type": "code",
      "metadata": {
        "id": "rQzA9uiPZy29",
        "colab_type": "code",
        "colab": {
          "base_uri": "https://localhost:8080/",
          "height": 35
        },
        "outputId": "94fa21b3-886a-485b-ea2e-397091a94cbc"
      },
      "source": [
        "dataset[\"train\"].shape, dataset[\"val\"].shape"
      ],
      "execution_count": 35,
      "outputs": [
        {
          "output_type": "execute_result",
          "data": {
            "text/plain": [
              "((16000, 784), (4000, 784))"
            ]
          },
          "metadata": {
            "tags": []
          },
          "execution_count": 35
        }
      ]
    },
    {
      "cell_type": "code",
      "metadata": {
        "id": "TFFUh1S9Z2SG",
        "colab_type": "code",
        "colab": {}
      },
      "source": [
        "def train_val_test_split(data, val_pct=0.1, test_pct=0.1):\n",
        "    size = data.shape[0]\n",
        "    print(\"size = {0}\".format(size), end = \"\\n\\n\")\n",
        "\n",
        "    print(\"val_pct = {0}\".format(val_pct), end = \"\\n\\n\")\n",
        "    \n",
        "    print(\"val_pct * size = {0}\".format((val_pct * size)), end = \"\\n\\n\")\n",
        "    \n",
        "    print(\"1 - test_pct = {0}\".format(1 - test_pct), end = \"\\n\\n\")\n",
        "\n",
        "    print(\"(size * (1 - test_pct)) = {0}\".format(((size * (1 - test_pct)))), end = \"\\n\\n\")\n",
        "\n",
        "    print(\"1 - test_pct = {0}\".format((1 - test_pct)), end = \"\\n\\n\")\n",
        "    \n",
        "    print(\"(val_pct * size) / (size * (1 - test_pct)) = {0}\".format((val_pct * size) / (size * (1 - test_pct))), end = \"\\n\\n\")\n",
        "\n",
        "    val_pct = (val_pct * size) / (size * (1 - test_pct))\n",
        "    \n",
        "    train_val, test = train_test_split(data, test_size=test_pct)\n",
        "    print(\"test_pct = {0}\".format(test_pct), end = \"\\n\\n\")\n",
        "\n",
        "    print(\" train_val, test ={0},{1}\".format(train_val.shape,test.shape), end = \"\\n\\n\")\n",
        "\n",
        "    train, val = train_test_split(train_val, test_size=val_pct)\n",
        "\n",
        "    print(\"val_pct={0}\".format(val_pct), end = \"\\n\\n\")\n",
        "    \n",
        "    return train, val, test\n",
        "\n"
      ],
      "execution_count": 105,
      "outputs": []
    },
    {
      "cell_type": "code",
      "metadata": {
        "id": "fq-KUoeSgMEh",
        "colab_type": "code",
        "colab": {
          "base_uri": "https://localhost:8080/",
          "height": 395
        },
        "outputId": "091caff5-cdf1-481f-b1f8-094a809a6268"
      },
      "source": [
        "data=dict()\n",
        "data[\"train\"] ,data[\"val\"] ,data[\"test\"] = train_val_test_split(ndata)\n",
        "print(data[\"train\"].shape ,data[\"val\"].shape ,data[\"test\"].shape)"
      ],
      "execution_count": 104,
      "outputs": [
        {
          "output_type": "stream",
          "text": [
            "size = 20000\n",
            "\n",
            "val_pct = 0.1\n",
            "\n",
            "val_pct * size = 2000.0\n",
            "\n",
            "1 - test_pct = 0.9\n",
            "\n",
            "(size * (1 - test_pct)) = 18000.0\n",
            "\n",
            "1 - test_pct = 0.9\n",
            "\n",
            "(val_pct * size) / (size * (1 - test_pct)) = 0.1111111111111111\n",
            "\n",
            "test_pct = 0.1\n",
            "\n",
            " train_val, test =(18000, 784),(2000, 784)\n",
            "\n",
            "val_pct=0.1111111111111111\n",
            "\n",
            "(16000, 784) (2000, 784) (2000, 784)\n"
          ],
          "name": "stdout"
        }
      ]
    },
    {
      "cell_type": "code",
      "metadata": {
        "id": "ZwX0LEn59eVW",
        "colab_type": "code",
        "colab": {}
      },
      "source": [
        "def train_val_test_split2(data, val_pct=0.2, test_pct=0.2):\n",
        "    size = data.shape[0]\n",
        "    print(\"size = {0}\".format(size), end = \"\\n\\n\")\n",
        "\n",
        "    print(\"val_pct = {0}\".format(val_pct), end = \"\\n\\n\")\n",
        "    \n",
        "    print(\"val_pct * size = {0}\".format((val_pct * size)), end = \"\\n\\n\")\n",
        "    \n",
        "    print(\"1 - test_pct = {0}\".format(1 - test_pct), end = \"\\n\\n\")\n",
        "\n",
        "    print(\"(size * (1 - test_pct)) = {0}\".format(((size * (1 - test_pct)))), end = \"\\n\\n\")\n",
        "\n",
        "    print(\"1 - test_pct = {0}\".format((1 - test_pct)), end = \"\\n\\n\")\n",
        "    \n",
        "    print(\"(val_pct * size) / (size * (1 - test_pct)) = {0}\".format((val_pct * size) / (size * (1 - test_pct))), end = \"\\n\\n\")\n",
        "\n",
        "    val_pct = (val_pct * size) / (size * (1 - test_pct))\n",
        "    train_val, test = train_test_split(data, test_size=test_pct)\n",
        "    print(\"test_pct = {0}\".format(test_pct), end = \"\\n\\n\")\n",
        "\n",
        "    print(\" train_val, test ={0},{1}\".format(train_val.shape,test.shape), end = \"\\n\\n\")\n",
        "\n",
        "    train, val = train_test_split(train_val, test_size=val_pct)\n",
        "\n",
        "    print(\"val_pct={0}\".format(val_pct), end = \"\\n\\n\")\n",
        "    \n",
        "    return train, val, test\n"
      ],
      "execution_count": 133,
      "outputs": []
    },
    {
      "cell_type": "code",
      "metadata": {
        "id": "HPJ_8Gqb9gBh",
        "colab_type": "code",
        "colab": {
          "base_uri": "https://localhost:8080/",
          "height": 395
        },
        "outputId": "d9ba3710-19c0-42bc-c769-a202bc8831ab"
      },
      "source": [
        "data=dict()\n",
        "data[\"train\"] ,data[\"val\"] ,data[\"test\"] = train_val_test_split2(ndata)\n",
        "print(data[\"train\"].shape ,data[\"val\"].shape ,data[\"test\"].shape)"
      ],
      "execution_count": 134,
      "outputs": [
        {
          "output_type": "stream",
          "text": [
            "size = 20000\n",
            "\n",
            "val_pct = 0.2\n",
            "\n",
            "val_pct * size = 4000.0\n",
            "\n",
            "1 - test_pct = 0.8\n",
            "\n",
            "(size * (1 - test_pct)) = 16000.0\n",
            "\n",
            "1 - test_pct = 0.8\n",
            "\n",
            "(val_pct * size) / (size * (1 - test_pct)) = 0.25\n",
            "\n",
            "test_pct = 0.2\n",
            "\n",
            " train_val, test =(16000, 784),(4000, 784)\n",
            "\n",
            "val_pct=0.25\n",
            "\n",
            "(12000, 784) (4000, 784) (4000, 784)\n"
          ],
          "name": "stdout"
        }
      ]
    },
    {
      "cell_type": "code",
      "metadata": {
        "id": "vJY6PJmW5ej0",
        "colab_type": "code",
        "colab": {}
      },
      "source": [
        "def train_val_test_split1(data, val_pct=0.2, test_pct=0.2):\n",
        "    size = data.shape[0]\n",
        "    val_pct = (val_pct * size) / (size * (1 - test_pct))\n",
        "    train_val, test = train_test_split(data, test_size=test_pct)\n",
        "    train, val = train_test_split(train_val, test_size=val_pct)\n",
        "    return train, val, test"
      ],
      "execution_count": 128,
      "outputs": []
    },
    {
      "cell_type": "code",
      "metadata": {
        "id": "7eS6pj-j5mqb",
        "colab_type": "code",
        "colab": {
          "base_uri": "https://localhost:8080/",
          "height": 35
        },
        "outputId": "131ceab2-2ad3-4a52-c62a-06483b9e5ec2"
      },
      "source": [
        "train ,val ,test = train_val_test_split1(ndata)\n",
        "\n",
        "print(train.shape, val.shape, test.shape)"
      ],
      "execution_count": 130,
      "outputs": [
        {
          "output_type": "stream",
          "text": [
            "(12000, 784) (4000, 784) (4000, 784)\n"
          ],
          "name": "stdout"
        }
      ]
    }
  ]
}