{
  "nbformat": 4,
  "nbformat_minor": 0,
  "metadata": {
    "colab": {
      "name": "Untitled37.ipynb",
      "provenance": [],
      "authorship_tag": "ABX9TyOk0MgJ6Eo9NjiZ7dg+EwTm",
      "include_colab_link": true
    },
    "kernelspec": {
      "name": "python3",
      "display_name": "Python 3"
    }
  },
  "cells": [
    {
      "cell_type": "markdown",
      "metadata": {
        "id": "view-in-github",
        "colab_type": "text"
      },
      "source": [
        "<a href=\"https://colab.research.google.com/github/rlfwo93/machine-learning/blob/master/CnnModel.ipynb\" target=\"_parent\"><img src=\"https://colab.research.google.com/assets/colab-badge.svg\" alt=\"Open In Colab\"/></a>"
      ]
    },
    {
      "cell_type": "markdown",
      "metadata": {
        "id": "WpgM9FsFkv11"
      },
      "source": [
        "# **모듈 불러오기**"
      ]
    },
    {
      "cell_type": "code",
      "metadata": {
        "id": "Nge1mIWXco59",
        "outputId": "bbfb6336-1072-4dde-8844-892d46b03688",
        "colab": {
          "base_uri": "https://localhost:8080/",
          "height": 35
        }
      },
      "source": [
        "import numpy as np\n",
        "import matplotlib.pyplot as plt\n",
        "%matplotlib inline\n",
        "import tensorflow as tf\n",
        "tf.__version__\n"
      ],
      "execution_count": 1,
      "outputs": [
        {
          "output_type": "execute_result",
          "data": {
            "application/vnd.google.colaboratory.intrinsic+json": {
              "type": "string"
            },
            "text/plain": [
              "'2.3.0'"
            ]
          },
          "metadata": {
            "tags": []
          },
          "execution_count": 1
        }
      ]
    },
    {
      "cell_type": "markdown",
      "metadata": {
        "id": "5LT3uAezxhQu"
      },
      "source": [
        "# **구글드라이브 연동**"
      ]
    },
    {
      "cell_type": "code",
      "metadata": {
        "id": "Kk64h7taxgwo",
        "outputId": "a89e4fe8-2215-42d5-f0a5-642cd375f9dd",
        "colab": {
          "base_uri": "https://localhost:8080/"
        }
      },
      "source": [
        "from google.colab import drive\n",
        "drive.mount('/gdrive', force_remount=True)\n",
        "from IPython.display import Image"
      ],
      "execution_count": 34,
      "outputs": [
        {
          "output_type": "stream",
          "text": [
            "Mounted at /gdrive\n"
          ],
          "name": "stdout"
        }
      ]
    },
    {
      "cell_type": "markdown",
      "metadata": {
        "id": "rRqVo2ZjkyYO"
      },
      "source": [
        "# **데이터 정규화**"
      ]
    },
    {
      "cell_type": "code",
      "metadata": {
        "id": "iJ0RMNPlcq4s",
        "outputId": "bdbaafa3-c93a-4627-893d-3c599208074b",
        "colab": {
          "base_uri": "https://localhost:8080/"
        }
      },
      "source": [
        "mnist = tf.keras.datasets.mnist\n",
        "(x_train,y_train),(x_test,y_test) = mnist.load_data()\n",
        "(x_image,y_image),(x_testimage,y_testimage) = mnist.load_data()\n",
        "x_train = x_train.reshape(60000,28,28,1)\n",
        "x_test = x_test.reshape(10000,28,28,1)\n",
        "#mnist는 흑백 이미지이기 때문에 채널이1. 그래서 채널1값이 들어갈 차원을 추가\n",
        "\n",
        "print(\"x_train.shape{0}\".format(x_train.shape))\n",
        "print(\"x_test.shape{0}\".format(x_test.shape))\n",
        "\n",
        "x_train = x_train/255.0\n",
        "x_test = x_test/255.0"
      ],
      "execution_count": 2,
      "outputs": [
        {
          "output_type": "stream",
          "text": [
            "Downloading data from https://storage.googleapis.com/tensorflow/tf-keras-datasets/mnist.npz\n",
            "11493376/11490434 [==============================] - 0s 0us/step\n",
            "x_train.shape(60000, 28, 28, 1)\n",
            "x_test.shape(10000, 28, 28, 1)\n"
          ],
          "name": "stdout"
        }
      ]
    },
    {
      "cell_type": "markdown",
      "metadata": {
        "id": "F2E4rDkPk1yc"
      },
      "source": [
        "# **원핫 인코딩**\n",
        "- 표현하고 싶은 데이터의 인덱스에 1의 값을 부여하고, 다른 인덱스에는 0을 부여"
      ]
    },
    {
      "cell_type": "markdown",
      "metadata": {
        "id": "dsGj8qJsr3WX"
      },
      "source": [
        ""
      ]
    },
    {
      "cell_type": "code",
      "metadata": {
        "id": "_Jpnb4Uvcsly",
        "outputId": "3783ff21-b8c7-4fe2-84e3-a82ac751ab41",
        "colab": {
          "base_uri": "https://localhost:8080/"
        }
      },
      "source": [
        "y_test1 = tf.keras.utils.to_categorical(y_test,10)\n",
        "y_train1 = tf.keras.utils.to_categorical(y_train,10)"
      ],
      "execution_count": 27,
      "outputs": [
        {
          "output_type": "execute_result",
          "data": {
            "text/plain": [
              "numpy.ndarray"
            ]
          },
          "metadata": {
            "tags": []
          },
          "execution_count": 27
        }
      ]
    },
    {
      "cell_type": "markdown",
      "metadata": {
        "id": "hLU4yD_6k0h0"
      },
      "source": [
        "원핫 인코딩 예시\n",
        "\n",
        "\n",
        "사과 : [1,0,0,0]\n",
        "\n",
        "배    : [0,1,0,0]\n",
        "\n",
        "감    : [0,0,1,0]\n",
        "\n",
        "포도 : [0,0,0,1]"
      ]
    },
    {
      "cell_type": "markdown",
      "metadata": {
        "id": "dI3xtQ4YkZnt"
      },
      "source": [
        "# **CNN(합성곱 신경망) 모델** "
      ]
    },
    {
      "cell_type": "code",
      "metadata": {
        "id": "b85go3CJxqD9",
        "outputId": "f580602d-1b82-4715-e509-7dded8f1ba83",
        "colab": {
          "base_uri": "https://localhost:8080/",
          "height": 285
        }
      },
      "source": [
        "Image('/gdrive/My Drive/cnn/cnn구조.PNG')"
      ],
      "execution_count": 36,
      "outputs": [
        {
          "output_type": "execute_result",
          "data": {
            "image/png": "[encoded data removed]",
            "text/plain": [
              "<IPython.core.display.Image object>"
            ]
          },
          "metadata": {
            "tags": []
          },
          "execution_count": 36
        }
      ]
    },
    {
      "cell_type": "code",
      "metadata": {
        "id": "pylBV1iqcuWS"
      },
      "source": [
        "cnn = tf.keras.models.Sequential([\n",
        "    tf.keras.layers.Conv2D(input_shape=(28,28,1),kernel_size=(3,3),strides=(1,1),filters= 16,padding=\"same\",activation=\"relu\"),\n",
        "    tf.keras.layers.MaxPool2D(pool_size=(2,2),strides=(1,1)),\n",
        "    tf.keras.layers.Conv2D(kernel_size=(3,3),strides=(1,1),filters=32,padding=\"same\",activation=\"relu\"),\n",
        "    tf.keras.layers.MaxPool2D(pool_size=(2,2),strides=(1,1)),\n",
        "    tf.keras.layers.Dropout(0.2),\n",
        "    tf.keras.layers.Flatten(),\n",
        "    tf.keras.layers.Dense(128,activation=\"relu\"),\n",
        "    tf.keras.layers.Dropout(0.1),\n",
        "    tf.keras.layers.Dense(10,activation=\"softmax\")\n",
        "\n",
        "])\n",
        "cnn.compile(optimizer= \"adam\",\n",
        "         loss='categorical_crossentropy',\n",
        "              metrics=['accuracy'])"
      ],
      "execution_count": 28,
      "outputs": []
    },
    {
      "cell_type": "markdown",
      "metadata": {
        "id": "MA96e2ylrKXs"
      },
      "source": [
        "-  대상이 원-핫 인코딩 된 경우 categorical_crossentropy\n",
        "-  정수이면 sparse_categorical_crossentropy"
      ]
    },
    {
      "cell_type": "markdown",
      "metadata": {
        "id": "wLZiX_SysBa1"
      },
      "source": [
        "# **CNN모델 구조 확인**"
      ]
    },
    {
      "cell_type": "code",
      "metadata": {
        "id": "7laxN8DksCeE",
        "outputId": "6c8bc50e-e9d8-4872-864e-bc3cbe3ade38",
        "colab": {
          "base_uri": "https://localhost:8080/"
        }
      },
      "source": [
        "cnn.summary()"
      ],
      "execution_count": 33,
      "outputs": [
        {
          "output_type": "stream",
          "text": [
            "Model: \"sequential_1\"\n",
            "_________________________________________________________________\n",
            "Layer (type)                 Output Shape              Param #   \n",
            "=================================================================\n",
            "conv2d_2 (Conv2D)            (None, 28, 28, 16)        160       \n",
            "_________________________________________________________________\n",
            "max_pooling2d_2 (MaxPooling2 (None, 27, 27, 16)        0         \n",
            "_________________________________________________________________\n",
            "conv2d_3 (Conv2D)            (None, 27, 27, 32)        4640      \n",
            "_________________________________________________________________\n",
            "max_pooling2d_3 (MaxPooling2 (None, 26, 26, 32)        0         \n",
            "_________________________________________________________________\n",
            "dropout_2 (Dropout)          (None, 26, 26, 32)        0         \n",
            "_________________________________________________________________\n",
            "flatten_1 (Flatten)          (None, 21632)             0         \n",
            "_________________________________________________________________\n",
            "dense_2 (Dense)              (None, 128)               2769024   \n",
            "_________________________________________________________________\n",
            "dropout_3 (Dropout)          (None, 128)               0         \n",
            "_________________________________________________________________\n",
            "dense_3 (Dense)              (None, 10)                1290      \n",
            "=================================================================\n",
            "Total params: 2,775,114\n",
            "Trainable params: 2,775,114\n",
            "Non-trainable params: 0\n",
            "_________________________________________________________________\n"
          ],
          "name": "stdout"
        }
      ]
    },
    {
      "cell_type": "markdown",
      "metadata": {
        "id": "luwLqPXNqqO8"
      },
      "source": [
        "# **cnn 모델 학습하기**"
      ]
    },
    {
      "cell_type": "code",
      "metadata": {
        "id": "wti5RyP3cvk5",
        "outputId": "617585f2-4120-41b0-de6a-ec82328b90e8",
        "colab": {
          "base_uri": "https://localhost:8080/"
        }
      },
      "source": [
        "cnn.fit(x_train,y_train1,epochs=20,batch_size=32)"
      ],
      "execution_count": 29,
      "outputs": [
        {
          "output_type": "stream",
          "text": [
            "Epoch 1/20\n",
            "1875/1875 [==============================] - 153s 82ms/step - loss: 0.1137 - accuracy: 0.9656\n",
            "Epoch 2/20\n",
            "1875/1875 [==============================] - 152s 81ms/step - loss: 0.0438 - accuracy: 0.9865\n",
            "Epoch 3/20\n",
            "1875/1875 [==============================] - 155s 83ms/step - loss: 0.0308 - accuracy: 0.9906\n",
            "Epoch 4/20\n",
            "1875/1875 [==============================] - 157s 84ms/step - loss: 0.0217 - accuracy: 0.9932\n",
            "Epoch 5/20\n",
            "1875/1875 [==============================] - 157s 84ms/step - loss: 0.0186 - accuracy: 0.9941\n",
            "Epoch 6/20\n",
            "1875/1875 [==============================] - 154s 82ms/step - loss: 0.0145 - accuracy: 0.9952\n",
            "Epoch 7/20\n",
            "1875/1875 [==============================] - 154s 82ms/step - loss: 0.0121 - accuracy: 0.9959\n",
            "Epoch 8/20\n",
            "1875/1875 [==============================] - 154s 82ms/step - loss: 0.0103 - accuracy: 0.9966\n",
            "Epoch 9/20\n",
            "1875/1875 [==============================] - 153s 82ms/step - loss: 0.0098 - accuracy: 0.9970\n",
            "Epoch 10/20\n",
            "1875/1875 [==============================] - 153s 82ms/step - loss: 0.0077 - accuracy: 0.9975\n",
            "Epoch 11/20\n",
            "1875/1875 [==============================] - 155s 83ms/step - loss: 0.0087 - accuracy: 0.9972\n",
            "Epoch 12/20\n",
            "1875/1875 [==============================] - 153s 82ms/step - loss: 0.0066 - accuracy: 0.9978\n",
            "Epoch 13/20\n",
            "1875/1875 [==============================] - 152s 81ms/step - loss: 0.0058 - accuracy: 0.9983\n",
            "Epoch 14/20\n",
            "1875/1875 [==============================] - 153s 81ms/step - loss: 0.0066 - accuracy: 0.9978\n",
            "Epoch 15/20\n",
            "1875/1875 [==============================] - 155s 82ms/step - loss: 0.0048 - accuracy: 0.9986\n",
            "Epoch 16/20\n",
            "1875/1875 [==============================] - 152s 81ms/step - loss: 0.0070 - accuracy: 0.9979\n",
            "Epoch 17/20\n",
            "1875/1875 [==============================] - 153s 81ms/step - loss: 0.0060 - accuracy: 0.9981\n",
            "Epoch 18/20\n",
            "1875/1875 [==============================] - 152s 81ms/step - loss: 0.0063 - accuracy: 0.9982\n",
            "Epoch 19/20\n",
            "1875/1875 [==============================] - 154s 82ms/step - loss: 0.0035 - accuracy: 0.9989\n",
            "Epoch 20/20\n",
            "1875/1875 [==============================] - 152s 81ms/step - loss: 0.0054 - accuracy: 0.9986\n"
          ],
          "name": "stdout"
        },
        {
          "output_type": "execute_result",
          "data": {
            "text/plain": [
              "<tensorflow.python.keras.callbacks.History at 0x7ff8455fb710>"
            ]
          },
          "metadata": {
            "tags": []
          },
          "execution_count": 29
        }
      ]
    },
    {
      "cell_type": "markdown",
      "metadata": {
        "id": "ZPmOnIq-qtSV"
      },
      "source": [
        "# **모델평가하기**"
      ]
    },
    {
      "cell_type": "code",
      "metadata": {
        "id": "ES4vIYx-dZDZ",
        "outputId": "a49893c0-be33-4952-d8d0-aae4bd5c0d7c",
        "colab": {
          "base_uri": "https://localhost:8080/"
        }
      },
      "source": [
        "cnn.evaluate(x_test,y_test1,batch_size = 32)"
      ],
      "execution_count": 31,
      "outputs": [
        {
          "output_type": "stream",
          "text": [
            "313/313 [==============================] - 6s 19ms/step - loss: 0.0512 - accuracy: 0.9905\n"
          ],
          "name": "stdout"
        },
        {
          "output_type": "execute_result",
          "data": {
            "text/plain": [
              "[0.0511668398976326, 0.9904999732971191]"
            ]
          },
          "metadata": {
            "tags": []
          },
          "execution_count": 31
        }
      ]
    }
  ]
}