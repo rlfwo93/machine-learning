{
  "nbformat": 4,
  "nbformat_minor": 0,
  "metadata": {
    "colab": {
      "name": "mnist.ipynb",
      "provenance": [],
      "authorship_tag": "ABX9TyOeMfD70ykHSKHUqUSM/ZHH",
      "include_colab_link": true
    },
    "kernelspec": {
      "name": "python3",
      "display_name": "Python 3"
    }
  },
  "cells": [
    {
      "cell_type": "markdown",
      "metadata": {
        "id": "view-in-github",
        "colab_type": "text"
      },
      "source": [
        "<a href=\"https://colab.research.google.com/github/rlfwo93/machine-learning/blob/master/mnist.ipynb\" target=\"_parent\"><img src=\"https://colab.research.google.com/assets/colab-badge.svg\" alt=\"Open In Colab\"/></a>"
      ]
    },
    {
      "cell_type": "code",
      "metadata": {
        "id": "65fbkfLs9ScK",
        "colab_type": "code",
        "colab": {}
      },
      "source": [
        "import numpy as np"
      ],
      "execution_count": 1,
      "outputs": []
    },
    {
      "cell_type": "markdown",
      "metadata": {
        "id": "FsBSaC5COAeV",
        "colab_type": "text"
      },
      "source": [
        "# mnist란 ?\n",
        "\n",
        "- MNIST 데이터란 필기 숫자의 분류를 위한 학습 데이터 집합입니다. 즉, 이 데이터는 어지럽게 필기된 숫자가 어떤 숫자에 해당하는지 정확하게 맞추기 위한 학습을 위한 것입니다.\n",
        "\n",
        "- 사이즈는 28x28의 크기를 가진다. 이미지의 값은 0 또는 1이다 (흑,백)\n",
        "\n",
        "- 0 부터 9 까지의 숫자를 28x28 픽셀 크기의 이미지로 구성\n",
        "\n",
        "-  1개의 레코드(1개의행 row)는 785개의 숫자로 구성\n",
        "-  1열에는 정답이있다.\n",
        "-  2열부터 마지막 열까지는 정답을 나타내는 이미지의 색을 나타내는 숫자 값들이 784개 연속으로 있다.\n",
        "\n",
        " * 흑백 이미지를 표현 할떄 숫자 0에 가까울 수록 검은색으로. 255에 가까울수록 하얀새으로 나타내는데 2열부터 마지막 열까지 나열된 숫자가 바로 이미지 색을 나타내는 정보.\n"
      ]
    },
    {
      "cell_type": "code",
      "metadata": {
        "id": "6-C2qgtx_cP9",
        "colab_type": "code",
        "colab": {}
      },
      "source": [
        "data = np.loadtxt(\"sample_data/mnist_train_small.csv\", delimiter=\",\")\n",
        "# delimiter는 CSV 파일이 뭘로 나누어져 있는지(\\t, ' ', '+' 등)를 나타낸다\n",
        "# delimniter= \",\" 는 ,를 기준으로 파일을 나뉘어준다.\n"
      ],
      "execution_count": 2,
      "outputs": []
    },
    {
      "cell_type": "code",
      "metadata": {
        "id": "nmUC0lm2Wqqs",
        "colab_type": "code",
        "colab": {
          "base_uri": "https://localhost:8080/",
          "height": 141
        },
        "outputId": "a651f5e3-afcf-4bad-a6f3-0d1efd80cee6"
      },
      "source": [
        "data\n",
        "\n",
        "\"\"\"\n",
        " array([[6., 0., 0., ..., 0., 0., 0.],\n",
        "       [5., 0., 0., ..., 0., 0., 0.],\n",
        "       [7., 0., 0., ..., 0., 0., 0.],\n",
        "       ...,\n",
        "       [2., 0., 0., ..., 0., 0., 0.],\n",
        "       [9., 0., 0., ..., 0., 0., 0.],\n",
        "       [5., 0., 0., ..., 0., 0., 0.]])\n",
        "\n",
        "       => 맨처음에 나오는 값이 정답이고 뒤에나오는 값들은 정답을 이루는 숫자들임.\n",
        "\n",
        "       \"\"\""
      ],
      "execution_count": 20,
      "outputs": [
        {
          "output_type": "execute_result",
          "data": {
            "text/plain": [
              "array([[6., 0., 0., ..., 0., 0., 0.],\n",
              "       [5., 0., 0., ..., 0., 0., 0.],\n",
              "       [7., 0., 0., ..., 0., 0., 0.],\n",
              "       ...,\n",
              "       [2., 0., 0., ..., 0., 0., 0.],\n",
              "       [9., 0., 0., ..., 0., 0., 0.],\n",
              "       [5., 0., 0., ..., 0., 0., 0.]])"
            ]
          },
          "metadata": {
            "tags": []
          },
          "execution_count": 20
        }
      ]
    },
    {
      "cell_type": "code",
      "metadata": {
        "id": "mlk_CKHfEeQ6",
        "colab_type": "code",
        "colab": {
          "base_uri": "https://localhost:8080/",
          "height": 34
        },
        "outputId": "a4ef77bf-bdb0-436f-f7a1-1dce48e7e94c"
      },
      "source": [
        "data.shape,type(data)\n",
        "\n",
        "#((20000, 785) = 행렬을 나타냄, \n",
        "#numpy.ndarray) = 넘파이로 만든 배열."
      ],
      "execution_count": 3,
      "outputs": [
        {
          "output_type": "execute_result",
          "data": {
            "text/plain": [
              "((20000, 785), numpy.ndarray)"
            ]
          },
          "metadata": {
            "tags": []
          },
          "execution_count": 3
        }
      ]
    },
    {
      "cell_type": "markdown",
      "metadata": {
        "id": "9QBuB8U5Gdw6",
        "colab_type": "text"
      },
      "source": [
        "# Hand-written number images and target level\n",
        "# data: images of hand-written numbers (28 X 28 pixels)\n",
        "# target: numbers (0 ~ 9)"
      ]
    },
    {
      "cell_type": "code",
      "metadata": {
        "id": "kxJfT2P4F3LA",
        "colab_type": "code",
        "colab": {
          "base_uri": "https://localhost:8080/",
          "height": 34
        },
        "outputId": "f5ab3af2-5e94-45e1-fd5e-210a45adb5aa"
      },
      "source": [
        "data[:,0]  # target (hand-written numbers)"
      ],
      "execution_count": 6,
      "outputs": [
        {
          "output_type": "execute_result",
          "data": {
            "text/plain": [
              "array([6., 5., 7., ..., 2., 9., 5.])"
            ]
          },
          "metadata": {
            "tags": []
          },
          "execution_count": 6
        }
      ]
    },
    {
      "cell_type": "code",
      "metadata": {
        "id": "d20RdGUiGoJa",
        "colab_type": "code",
        "colab": {
          "base_uri": "https://localhost:8080/",
          "height": 34
        },
        "outputId": "4552f3bb-86f8-4b38-a7f1-0e010c4f892f"
      },
      "source": [
        "data[-1,0]"
      ],
      "execution_count": 8,
      "outputs": [
        {
          "output_type": "execute_result",
          "data": {
            "text/plain": [
              "5.0"
            ]
          },
          "metadata": {
            "tags": []
          },
          "execution_count": 8
        }
      ]
    },
    {
      "cell_type": "code",
      "metadata": {
        "id": "O0lBtK9-Grq8",
        "colab_type": "code",
        "colab": {
          "base_uri": "https://localhost:8080/",
          "height": 34
        },
        "outputId": "46672d9f-4ba2-4caa-91f4-d94672bfe5a4"
      },
      "source": [
        "data[-5:,0]"
      ],
      "execution_count": 9,
      "outputs": [
        {
          "output_type": "execute_result",
          "data": {
            "text/plain": [
              "array([0., 1., 2., 9., 5.])"
            ]
          },
          "metadata": {
            "tags": []
          },
          "execution_count": 9
        }
      ]
    },
    {
      "cell_type": "code",
      "metadata": {
        "id": "UhNjAAEkH5g4",
        "colab_type": "code",
        "colab": {
          "base_uri": "https://localhost:8080/",
          "height": 34
        },
        "outputId": "102e0e87-efae-46ab-9c37-e330bcf84f7e"
      },
      "source": [
        "data[:,0].shape"
      ],
      "execution_count": 12,
      "outputs": [
        {
          "output_type": "execute_result",
          "data": {
            "text/plain": [
              "(20000,)"
            ]
          },
          "metadata": {
            "tags": []
          },
          "execution_count": 12
        }
      ]
    },
    {
      "cell_type": "code",
      "metadata": {
        "id": "-aWuKWSQPXEI",
        "colab_type": "code",
        "colab": {
          "base_uri": "https://localhost:8080/",
          "height": 34
        },
        "outputId": "9367b662-57ba-4675-f35c-8c35b08eb7cd"
      },
      "source": [
        "target = data[:,0] #data의 모든행 0번째 원소\n",
        "target"
      ],
      "execution_count": 16,
      "outputs": [
        {
          "output_type": "execute_result",
          "data": {
            "text/plain": [
              "array([6., 5., 7., ..., 2., 9., 5.])"
            ]
          },
          "metadata": {
            "tags": []
          },
          "execution_count": 16
        }
      ]
    },
    {
      "cell_type": "code",
      "metadata": {
        "id": "aQ6lEUH9PrKd",
        "colab_type": "code",
        "colab": {
          "base_uri": "https://localhost:8080/",
          "height": 34
        },
        "outputId": "ea456f42-7735-4d99-8838-4a1144e6a6b1"
      },
      "source": [
        "target[:5],target[-5:]"
      ],
      "execution_count": 17,
      "outputs": [
        {
          "output_type": "execute_result",
          "data": {
            "text/plain": [
              "(array([6., 5., 7., 9., 5.]), array([0., 1., 2., 9., 5.]))"
            ]
          },
          "metadata": {
            "tags": []
          },
          "execution_count": 17
        }
      ]
    },
    {
      "cell_type": "code",
      "metadata": {
        "id": "OAUS9qQlQ-_f",
        "colab_type": "code",
        "colab": {
          "base_uri": "https://localhost:8080/",
          "height": 70
        },
        "outputId": "c1b0668b-031c-42c8-9907-74a29df9de33"
      },
      "source": [
        "ndata = data[:,1:]  # ndata (iamge of hand-written numbers), 784 pixels for each number\n",
        "#첫번째값은 레이블이고, 뒤에있는 값들이 답을 구성하는 데이터이기떄문에 첫번째 값은 빼줌\n",
        "print(ndata.shape) # 20000,784 \n",
        "print(\"784 = {}\".format(28*28)) # 784 픽셀인것을 알려줌\n",
        "print(type(ndata)) # 넘파이의 배열 오브젝트"
      ],
      "execution_count": 18,
      "outputs": [
        {
          "output_type": "stream",
          "text": [
            "(20000, 784)\n",
            "784 = 784\n",
            "<class 'numpy.ndarray'>\n"
          ],
          "name": "stdout"
        }
      ]
    },
    {
      "cell_type": "markdown",
      "metadata": {
        "id": "MoZCbD1rRrE-",
        "colab_type": "text"
      },
      "source": [
        "\n",
        "# 행벡터(1X784)를 이미지 배열 (28X28)로 재구성"
      ]
    },
    {
      "cell_type": "code",
      "metadata": {
        "id": "yntB-6CcRseR",
        "colab_type": "code",
        "colab": {
          "base_uri": "https://localhost:8080/",
          "height": 1000
        },
        "outputId": "970f313c-2420-42e5-a82e-fa2ccf0d80ae"
      },
      "source": [
        "ndata[0,0:]  # first number\n"
      ],
      "execution_count": 19,
      "outputs": [
        {
          "output_type": "execute_result",
          "data": {
            "text/plain": [
              "array([  0.,   0.,   0.,   0.,   0.,   0.,   0.,   0.,   0.,   0.,   0.,\n",
              "         0.,   0.,   0.,   0.,   0.,   0.,   0.,   0.,   0.,   0.,   0.,\n",
              "         0.,   0.,   0.,   0.,   0.,   0.,   0.,   0.,   0.,   0.,   0.,\n",
              "         0.,   0.,   0.,   0.,   0.,   0.,   0.,   0.,   0.,   0.,   0.,\n",
              "         0.,   0.,   0.,   0.,   0.,   0.,   0.,   0.,   0.,   0.,   0.,\n",
              "         0.,   0.,   0.,   0.,   0.,   0.,   0.,   0.,   0.,   0.,   0.,\n",
              "         0.,   0.,   0.,   0.,   0.,   0.,   0.,   0.,   0.,   0.,   0.,\n",
              "         0.,   0.,   0.,   0.,   0.,   0.,   0.,   0.,   0.,   0.,   0.,\n",
              "         0.,   0.,   0.,   0.,   0.,   0.,   0.,   0.,   0.,   0.,   0.,\n",
              "         0.,   0.,   0.,   0.,   0.,   0.,   0.,   0.,   0.,   0.,   0.,\n",
              "         0.,   0.,   0.,   0.,   0.,   0.,   0.,   0.,   0.,   0.,   0.,\n",
              "         0.,  24.,  67.,  67.,  18.,   0.,   0.,   0.,   0.,   0.,   0.,\n",
              "         0.,   0.,   0.,   0.,   0.,   0.,   0.,   0.,   0.,   0.,   0.,\n",
              "         0.,   0.,   0.,   0.,   0.,   0.,   0., 131., 252., 252.,  66.,\n",
              "         0.,   0.,   0.,   0.,   0.,   0.,   0.,   0.,   0.,   0.,   0.,\n",
              "         0.,   0.,   0.,   0.,   0.,   0.,   0.,   0.,   0.,   0.,   0.,\n",
              "         0., 159., 250., 232.,  30.,  32.,   0.,   0.,   0.,   0.,   0.,\n",
              "         0.,   0.,   0.,   0.,   0.,   0.,   0.,   0.,   0.,   0.,   0.,\n",
              "         0.,   0.,   0.,   0.,   0.,   0.,  15., 222., 252., 108.,   0.,\n",
              "         0.,   0.,   0.,   0.,   0.,   0.,   0.,   0.,   0.,   0.,   0.,\n",
              "         0.,   0.,   0.,   0.,   0.,   0.,   0.,   0.,   0.,   0.,   0.,\n",
              "         0., 147., 252., 183.,   5.,   0.,   0.,   0.,   0.,   0.,   0.,\n",
              "         0.,  20.,  89.,  89.,  73.,   0.,   0.,   0.,   0.,   0.,   0.,\n",
              "         0.,   0.,   0.,   0.,   0.,   0.,  48., 247., 252., 159.,   0.,\n",
              "         0.,   0.,   0.,   0.,   0.,   0.,  79., 236., 252., 252., 249.,\n",
              "       198.,  16.,   0.,   0.,   0.,   0.,   0.,   0.,   0.,   0.,   0.,\n",
              "        41., 193., 252., 199.,  22.,   0.,   0.,   0.,   0.,   0.,  12.,\n",
              "       135., 248., 252., 252., 252., 252., 252., 100.,   0.,   0.,   0.,\n",
              "         0.,   0.,   0.,   0.,   0.,   0., 100., 252., 252.,  88.,   0.,\n",
              "         0.,   0.,   0.,   0.,  11., 171., 252., 252., 235., 175., 178.,\n",
              "       252., 252., 224.,   0.,   0.,   0.,   0.,   0.,   0.,   0.,   0.,\n",
              "        15., 209., 252., 233.,  12.,   0.,   0.,   0.,   0.,  49., 177.,\n",
              "       252., 252.,  89.,  26.,   0.,   2., 166., 252., 252.,   0.,   0.,\n",
              "         0.,   0.,   0.,   0.,   0.,   0.,  96., 253., 253.,  59.,   0.,\n",
              "         0.,   0.,   0.,  11., 177., 255., 253.,  92.,   0.,   0.,   0.,\n",
              "         0., 155., 253., 128.,   0.,   0.,   0.,   0.,   0.,   0.,   0.,\n",
              "         0., 143., 252., 252.,  10.,   0.,   0.,   0.,  12., 171., 252.,\n",
              "       216., 110.,  13.,   0.,   0.,   0.,   3., 180., 232.,  24.,   0.,\n",
              "         0.,   0.,   0.,   0.,   0.,   0.,   0., 143., 252., 170.,   2.,\n",
              "         0.,   0.,   0., 135., 252., 209.,  19.,   0.,   0.,   0.,   0.,\n",
              "         0.,  12., 252., 132.,   0.,   0.,   0.,   0.,   0.,   0.,   0.,\n",
              "         0.,   0., 249., 252.,  96.,   0.,   0.,   0.,  21., 248., 246.,\n",
              "        34.,   0.,   0.,   0.,   0.,   5.,  61., 234., 152.,   3.,   0.,\n",
              "         0.,   0.,   0.,   0.,   0.,   0.,   0.,   0., 253., 252.,  44.,\n",
              "         0.,   0.,   0., 145., 252., 104.,   0.,   0.,   0.,  46., 114.,\n",
              "       184., 252., 149.,  34.,   0.,   0.,   0.,   0.,   0.,   0.,   0.,\n",
              "         0.,   0.,   0., 253., 252.,  82.,   0.,   0.,  31., 239., 252.,\n",
              "        66.,  39.,  89., 165., 243., 252., 233., 126.,   5.,   0.,   0.,\n",
              "         0.,   0.,   0.,   0.,   0.,   0.,   0.,   0.,   0., 249., 252.,\n",
              "       244., 126.,  98., 143., 252., 252., 237., 240., 253., 252., 243.,\n",
              "       174.,  17.,   0.,   0.,   0.,   0.,   0.,   0.,   0.,   0.,   0.,\n",
              "         0.,   0.,   0.,   0., 119., 239., 252., 252., 252., 252., 252.,\n",
              "       252., 252., 252., 228., 179.,  17.,   0.,   0.,   0.,   0.,   0.,\n",
              "         0.,   0.,   0.,   0.,   0.,   0.,   0.,   0.,   0.,   0.,   0.,\n",
              "        46.,  66.,  66.,  66.,  66.,  66.,  66.,  66.,  66.,  29.,   0.,\n",
              "         0.,   0.,   0.,   0.,   0.,   0.,   0.,   0.,   0.,   0.,   0.,\n",
              "         0.,   0.,   0.,   0.,   0.,   0.,   0.,   0.,   0.,   0.,   0.,\n",
              "         0.,   0.,   0.,   0.,   0.,   0.,   0.,   0.,   0.,   0.,   0.,\n",
              "         0.,   0.,   0.,   0.,   0.,   0.,   0.,   0.,   0.,   0.,   0.,\n",
              "         0.,   0.,   0.,   0.,   0.,   0.,   0.,   0.,   0.,   0.,   0.,\n",
              "         0.,   0.,   0.,   0.,   0.,   0.,   0.,   0.,   0.,   0.,   0.,\n",
              "         0.,   0.,   0.,   0.,   0.,   0.,   0.,   0.,   0.,   0.,   0.,\n",
              "         0.,   0.,   0.,   0.,   0.,   0.,   0.,   0.,   0.,   0.,   0.,\n",
              "         0.,   0.,   0.,   0.,   0.,   0.,   0.,   0.,   0.,   0.,   0.,\n",
              "         0.,   0.,   0.,   0.,   0.,   0.,   0.,   0.,   0.,   0.,   0.,\n",
              "         0.,   0.,   0.,   0.,   0.,   0.,   0.,   0.,   0.,   0.,   0.,\n",
              "         0.,   0.,   0.,   0.,   0.,   0.,   0.,   0.,   0.,   0.,   0.,\n",
              "         0.,   0.,   0.,   0.,   0.,   0.,   0.,   0.,   0.,   0.,   0.,\n",
              "         0.,   0.,   0.,   0.,   0.,   0.,   0.,   0.,   0.,   0.,   0.,\n",
              "         0.,   0.,   0.,   0.,   0.,   0.,   0.,   0.,   0.,   0.,   0.,\n",
              "         0.,   0.,   0.,   0.,   0.,   0.,   0.,   0.,   0.,   0.,   0.,\n",
              "         0.,   0.,   0.])"
            ]
          },
          "metadata": {
            "tags": []
          },
          "execution_count": 19
        }
      ]
    },
    {
      "cell_type": "code",
      "metadata": {
        "id": "4SV6ZG28Z5aJ",
        "colab_type": "code",
        "colab": {
          "base_uri": "https://localhost:8080/",
          "height": 34
        },
        "outputId": "ce626431-00ba-4d77-dc15-2c14fa913b4a"
      },
      "source": [
        "ndata[0,0:].shape, target[0]  # 첫번째 숫자는 6"
      ],
      "execution_count": 21,
      "outputs": [
        {
          "output_type": "execute_result",
          "data": {
            "text/plain": [
              "((784,), 6.0)"
            ]
          },
          "metadata": {
            "tags": []
          },
          "execution_count": 21
        }
      ]
    },
    {
      "cell_type": "code",
      "metadata": {
        "id": "czPmQ7d6aJnN",
        "colab_type": "code",
        "colab": {
          "base_uri": "https://localhost:8080/",
          "height": 34
        },
        "outputId": "6842ee1e-1aa6-411a-fef6-024f170e2e9c"
      },
      "source": [
        "first_num = ndata[0,0:].reshape(28,28) # 맨 첫번째 행렬을 28x28로\n",
        "first_num\n",
        "print(type(first_num))"
      ],
      "execution_count": 27,
      "outputs": [
        {
          "output_type": "stream",
          "text": [
            "<class 'numpy.ndarray'>\n"
          ],
          "name": "stdout"
        }
      ]
    },
    {
      "cell_type": "code",
      "metadata": {
        "id": "UFm5EibpaLnF",
        "colab_type": "code",
        "colab": {
          "base_uri": "https://localhost:8080/",
          "height": 34
        },
        "outputId": "51f2511c-8a94-433a-f1a6-891308136153"
      },
      "source": [
        "last_num = ndata[-1,0:].reshape(28,28) # 맨 마지막  행렬을 28x28로\n",
        "last_num\n",
        "print(type(last_num))"
      ],
      "execution_count": 26,
      "outputs": [
        {
          "output_type": "stream",
          "text": [
            "<class 'numpy.ndarray'>\n"
          ],
          "name": "stdout"
        }
      ]
    },
    {
      "cell_type": "markdown",
      "metadata": {
        "id": "WHM2549thbH7",
        "colab_type": "text"
      },
      "source": [
        "# Matplotlib \n",
        "\n",
        "- matplotlib은 다양한 데이터를 많은 방법으로 도식화 할 수 있도록 하는 파이썬 라이브러리로써, 우리는 matplotlib의 pyplot을 이용하게 됩니다.\n",
        "\n",
        "이는 mathworks에서 개발한 매트랩(MATLAB)과 비슷한 형태를 가지고 있습니다.\n",
        "\n",
        "matplotlib을 이용하면 우리가 이전에 알아본 numpy나 pandas에서 사용되는 자료구조를 쉽게 시각화 할 수 있습니다.\n"
      ]
    },
    {
      "cell_type": "code",
      "metadata": {
        "id": "ToXvgtdjb9W0",
        "colab_type": "code",
        "colab": {}
      },
      "source": [
        "import matplotlib.pyplot as plt\n",
        "import matplotlib as mpl\n",
        "%matplotlib inline\n",
        "# %matplotlib inline 의 역할은 notebook을 실행한 브라우저에서 바로 그림을 볼 수 있게 해주는 것\n",
        "\n"
      ],
      "execution_count": 33,
      "outputs": []
    },
    {
      "cell_type": "code",
      "metadata": {
        "id": "UVytrGn_lRNT",
        "colab_type": "code",
        "colab": {
          "base_uri": "https://localhost:8080/",
          "height": 170
        },
        "outputId": "116048a8-7ca5-46f0-c182-8443fdf346ba"
      },
      "source": [
        "plt.figure(figsize=(2,2)) # plt.figure(figsize=(x, y))를 입력하면 그림 크기를 결정\n",
        "# figure = 그림의 단위\n",
        "# figsize = figure의 크기를 결정\n",
        "plt.imshow(last_num, cmap=\"Blues\")\n",
        "\"\"\" plt.imshow 함수는 default 값이 color로 출력하게 되어있어서 내부적으로 변환이 이뤄지는것 \n",
        "같은데, cmap(color map)형식 인자값을 다양하게 변경가능하며, \n",
        "plt.imshow(cv_img, cmap='gray') 으로 변경하면 gray형식으로 출력되는것을 확인 \"\"\"\n",
        "\n",
        "\n",
        "plt.grid(False)\n",
        "plt.xticks([])\n",
        "plt.title(\"matplotlib sample\")\n",
        "plt.xlabel(\"xxxx\")\n",
        "plt.ylabel(\"yyyy\")\n",
        "plt.yticks([])\n",
        "plt.show()"
      ],
      "execution_count": 54,
      "outputs": [
        {
          "output_type": "display_data",
          "data": {
            "image/png": "[encoded data removed]",
            "text/plain": [
              "<Figure size 144x144 with 1 Axes>"
            ]
          },
          "metadata": {
            "tags": []
          }
        }
      ]
    }
  ]
}