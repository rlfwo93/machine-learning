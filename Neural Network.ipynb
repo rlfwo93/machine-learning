{
  "nbformat": 4,
  "nbformat_minor": 0,
  "metadata": {
    "colab": {
      "name": "Untitled27.ipynb",
      "provenance": [],
      "collapsed_sections": [],
      "authorship_tag": "ABX9TyPOiNNT046O/Da5x7flG0P1",
      "include_colab_link": true
    },
    "kernelspec": {
      "name": "python3",
      "display_name": "Python 3"
    }
  },
  "cells": [
    {
      "cell_type": "markdown",
      "metadata": {
        "id": "view-in-github",
        "colab_type": "text"
      },
      "source": [
        "<a href=\"https://colab.research.google.com/github/rlfwo93/machine-learning/blob/master/Neural%20Network.ipynb\" target=\"_parent\"><img src=\"https://colab.research.google.com/assets/colab-badge.svg\" alt=\"Open In Colab\"/></a>"
      ]
    },
    {
      "cell_type": "markdown",
      "metadata": {
        "id": "rswfCVLZ-QW0"
      },
      "source": [
        "# **모듈 불러오기**"
      ]
    },
    {
      "cell_type": "code",
      "metadata": {
        "id": "ijR8RkrX4C2k",
        "outputId": "c7ee52cb-9a1d-4373-816a-32054e440df9",
        "colab": {
          "base_uri": "https://localhost:8080/",
          "height": 35
        }
      },
      "source": [
        "import tensorflow as tf\n",
        "import matplotlib.pyplot as plt\n",
        "import matplotlib as mpl\n",
        "import numpy as np\n",
        "%matplotlib inline \n",
        "tf.__version__"
      ],
      "execution_count": null,
      "outputs": [
        {
          "output_type": "execute_result",
          "data": {
            "application/vnd.google.colaboratory.intrinsic+json": {
              "type": "string"
            },
            "text/plain": [
              "'2.3.0'"
            ]
          },
          "metadata": {
            "tags": []
          },
          "execution_count": 1
        }
      ]
    },
    {
      "cell_type": "markdown",
      "metadata": {
        "id": "1ADPCsG2-UpY"
      },
      "source": [
        "# **이미지 불러오기**"
      ]
    },
    {
      "cell_type": "code",
      "metadata": {
        "id": "k3_Oq6G79Nf8",
        "outputId": "bf25114d-840a-478d-e7a6-746a87d51e52",
        "colab": {
          "base_uri": "https://localhost:8080/"
        }
      },
      "source": [
        "from google.colab import drive\n",
        "drive.mount('/gdrive', force_remount=True)\n",
        "from IPython.display import Image"
      ],
      "execution_count": 1,
      "outputs": [
        {
          "output_type": "stream",
          "text": [
            "Mounted at /gdrive\n"
          ],
          "name": "stdout"
        }
      ]
    },
    {
      "cell_type": "markdown",
      "metadata": {
        "id": "-0IOOUM14Jk1"
      },
      "source": [
        "# **데이터 정규화**"
      ]
    },
    {
      "cell_type": "code",
      "metadata": {
        "id": "N1ogJ7I64Fz-",
        "outputId": "0466cc08-4afb-4d8d-ac36-dd4e6667cb68",
        "colab": {
          "base_uri": "https://localhost:8080/"
        }
      },
      "source": [
        "mnist = tf.keras.datasets.mnist\n",
        "\n",
        "(x_train, y_train), (x_test, y_test) = mnist.load_data()\n",
        "x_train, x_test = x_train/255.0, x_test/255.0 \n",
        "\n",
        "print(\"x_train={0}\".format(x_train.shape))\n",
        "print(\"y_train={0}\".format(y_train.shape)) \n",
        "print(\"x_test={0}\".format(x_test.shape))\n",
        "print(\"y_test={0}\".format(y_test.shape))"
      ],
      "execution_count": null,
      "outputs": [
        {
          "output_type": "stream",
          "text": [
            "Downloading data from https://storage.googleapis.com/tensorflow/tf-keras-datasets/mnist.npz\n",
            "11493376/11490434 [==============================] - 0s 0us/step\n",
            "x_train=(60000, 28, 28)\n",
            "y_train=(60000,)\n",
            "x_test=(10000, 28, 28)\n",
            "y_test=(10000,)\n"
          ],
          "name": "stdout"
        }
      ]
    },
    {
      "cell_type": "markdown",
      "metadata": {
        "id": "pkaGYiPY4L4J"
      },
      "source": [
        "# **2층 NN**"
      ]
    },
    {
      "cell_type": "code",
      "metadata": {
        "id": "-LL0E4UX4Nj-"
      },
      "source": [
        "second = tf.keras.models.Sequential([ \n",
        "    tf.keras.layers.Flatten(input_shape=(28, 28)),\n",
        "    tf.keras.layers.Dense(128, activation='relu'),  \n",
        "    tf.keras.layers.Dropout(0.2), \n",
        "    tf.keras.layers.Dense(10, activation='softmax')\n",
        "])\n",
        "\n",
        "second.compile(optimizer='adam',\n",
        "              loss='sparse_categorical_crossentropy',\n",
        "              metrics=['accuracy']) "
      ],
      "execution_count": null,
      "outputs": []
    },
    {
      "cell_type": "code",
      "metadata": {
        "id": "3r9oCDEN4UGu",
        "outputId": "fc7e9f6c-194e-4f6c-8a34-4e50e8f733e5",
        "colab": {
          "base_uri": "https://localhost:8080/"
        }
      },
      "source": [
        "second.summary()"
      ],
      "execution_count": null,
      "outputs": [
        {
          "output_type": "stream",
          "text": [
            "Model: \"sequential\"\n",
            "_________________________________________________________________\n",
            "Layer (type)                 Output Shape              Param #   \n",
            "=================================================================\n",
            "flatten (Flatten)            (None, 784)               0         \n",
            "_________________________________________________________________\n",
            "dense (Dense)                (None, 128)               100480    \n",
            "_________________________________________________________________\n",
            "dropout (Dropout)            (None, 128)               0         \n",
            "_________________________________________________________________\n",
            "dense_1 (Dense)              (None, 10)                1290      \n",
            "=================================================================\n",
            "Total params: 101,770\n",
            "Trainable params: 101,770\n",
            "Non-trainable params: 0\n",
            "_________________________________________________________________\n"
          ],
          "name": "stdout"
        }
      ]
    },
    {
      "cell_type": "code",
      "metadata": {
        "id": "E5P-W0384WCv",
        "outputId": "57cfd887-82b0-44e2-942b-f127b20d20e1",
        "colab": {
          "base_uri": "https://localhost:8080/"
        }
      },
      "source": [
        "second.fit(x_train,y_train,epochs = 20, batch_size = 32 )"
      ],
      "execution_count": null,
      "outputs": [
        {
          "output_type": "stream",
          "text": [
            "Epoch 1/20\n",
            "1875/1875 [==============================] - 4s 2ms/step - loss: 0.2928 - accuracy: 0.9153\n",
            "Epoch 2/20\n",
            "1875/1875 [==============================] - 3s 2ms/step - loss: 0.1421 - accuracy: 0.9579\n",
            "Epoch 3/20\n",
            "1875/1875 [==============================] - 3s 2ms/step - loss: 0.1070 - accuracy: 0.9670\n",
            "Epoch 4/20\n",
            "1875/1875 [==============================] - 3s 2ms/step - loss: 0.0881 - accuracy: 0.9719\n",
            "Epoch 5/20\n",
            "1875/1875 [==============================] - 3s 2ms/step - loss: 0.0749 - accuracy: 0.9764\n",
            "Epoch 6/20\n",
            "1875/1875 [==============================] - 3s 2ms/step - loss: 0.0647 - accuracy: 0.9793\n",
            "Epoch 7/20\n",
            "1875/1875 [==============================] - 3s 2ms/step - loss: 0.0585 - accuracy: 0.9814\n",
            "Epoch 8/20\n",
            "1875/1875 [==============================] - 4s 2ms/step - loss: 0.0523 - accuracy: 0.9830\n",
            "Epoch 9/20\n",
            "1875/1875 [==============================] - 3s 2ms/step - loss: 0.0479 - accuracy: 0.9841\n",
            "Epoch 10/20\n",
            "1875/1875 [==============================] - 3s 2ms/step - loss: 0.0426 - accuracy: 0.9857\n",
            "Epoch 11/20\n",
            "1875/1875 [==============================] - 3s 2ms/step - loss: 0.0408 - accuracy: 0.9866\n",
            "Epoch 12/20\n",
            "1875/1875 [==============================] - 3s 2ms/step - loss: 0.0379 - accuracy: 0.9873\n",
            "Epoch 13/20\n",
            "1875/1875 [==============================] - 3s 2ms/step - loss: 0.0350 - accuracy: 0.9884\n",
            "Epoch 14/20\n",
            "1875/1875 [==============================] - 3s 2ms/step - loss: 0.0320 - accuracy: 0.9890\n",
            "Epoch 15/20\n",
            "1875/1875 [==============================] - 3s 2ms/step - loss: 0.0317 - accuracy: 0.9890\n",
            "Epoch 16/20\n",
            "1875/1875 [==============================] - 3s 2ms/step - loss: 0.0296 - accuracy: 0.9901\n",
            "Epoch 17/20\n",
            "1875/1875 [==============================] - 3s 2ms/step - loss: 0.0288 - accuracy: 0.9898\n",
            "Epoch 18/20\n",
            "1875/1875 [==============================] - 3s 2ms/step - loss: 0.0267 - accuracy: 0.9909\n",
            "Epoch 19/20\n",
            "1875/1875 [==============================] - 3s 2ms/step - loss: 0.0268 - accuracy: 0.9905\n",
            "Epoch 20/20\n",
            "1875/1875 [==============================] - 3s 2ms/step - loss: 0.0257 - accuracy: 0.9913\n"
          ],
          "name": "stdout"
        },
        {
          "output_type": "execute_result",
          "data": {
            "text/plain": [
              "<tensorflow.python.keras.callbacks.History at 0x7f859d063518>"
            ]
          },
          "metadata": {
            "tags": []
          },
          "execution_count": 6
        }
      ]
    },
    {
      "cell_type": "code",
      "metadata": {
        "id": "JTLIG-8Y4guU",
        "outputId": "1d944631-5538-4c1b-a0ff-f8a70c8644ee",
        "colab": {
          "base_uri": "https://localhost:8080/"
        }
      },
      "source": [
        "second.evaluate(x_test,y_test,batch_size =32)"
      ],
      "execution_count": null,
      "outputs": [
        {
          "output_type": "stream",
          "text": [
            "313/313 [==============================] - 0s 1ms/step - loss: 0.0821 - accuracy: 0.9808\n"
          ],
          "name": "stdout"
        },
        {
          "output_type": "execute_result",
          "data": {
            "text/plain": [
              "[0.08207618445158005, 0.9807999730110168]"
            ]
          },
          "metadata": {
            "tags": []
          },
          "execution_count": 7
        }
      ]
    },
    {
      "cell_type": "markdown",
      "metadata": {
        "id": "-ajQvZoB5M-B"
      },
      "source": [
        "# **3층 NN**"
      ]
    },
    {
      "cell_type": "code",
      "metadata": {
        "id": "ru3C9Fdb5MJ9"
      },
      "source": [
        "three = tf.keras.models.Sequential([ \n",
        "    tf.keras.layers.Flatten(input_shape=(28, 28)),\n",
        "    tf.keras.layers.Dense(256, activation='relu'),  \n",
        "    tf.keras.layers.Dropout(0.1),\n",
        "    tf.keras.layers.Dense(128, activation='relu'),  \n",
        "    tf.keras.layers.Dropout(0.2), \n",
        "    tf.keras.layers.Dense(10, activation='softmax')\n",
        "])\n",
        "\n",
        "three.compile(optimizer='adam',\n",
        "              loss='sparse_categorical_crossentropy',\n",
        "              metrics=['accuracy']) "
      ],
      "execution_count": null,
      "outputs": []
    },
    {
      "cell_type": "code",
      "metadata": {
        "id": "WUKcSnnc5XcD",
        "outputId": "3bfed440-3656-48ef-d919-f18868659d7e",
        "colab": {
          "base_uri": "https://localhost:8080/"
        }
      },
      "source": [
        "three.summary()"
      ],
      "execution_count": null,
      "outputs": [
        {
          "output_type": "stream",
          "text": [
            "Model: \"sequential_1\"\n",
            "_________________________________________________________________\n",
            "Layer (type)                 Output Shape              Param #   \n",
            "=================================================================\n",
            "flatten_1 (Flatten)          (None, 784)               0         \n",
            "_________________________________________________________________\n",
            "dense_2 (Dense)              (None, 256)               200960    \n",
            "_________________________________________________________________\n",
            "dropout_1 (Dropout)          (None, 256)               0         \n",
            "_________________________________________________________________\n",
            "dense_3 (Dense)              (None, 128)               32896     \n",
            "_________________________________________________________________\n",
            "dropout_2 (Dropout)          (None, 128)               0         \n",
            "_________________________________________________________________\n",
            "dense_4 (Dense)              (None, 10)                1290      \n",
            "=================================================================\n",
            "Total params: 235,146\n",
            "Trainable params: 235,146\n",
            "Non-trainable params: 0\n",
            "_________________________________________________________________\n"
          ],
          "name": "stdout"
        }
      ]
    },
    {
      "cell_type": "code",
      "metadata": {
        "id": "WHnUbwan5Zq7",
        "outputId": "d8ffa742-9ff2-4e36-925e-f6579e8ef2bd",
        "colab": {
          "base_uri": "https://localhost:8080/"
        }
      },
      "source": [
        "three.fit(x_train,y_train,epochs= 20 , batch_size =32)"
      ],
      "execution_count": null,
      "outputs": [
        {
          "output_type": "stream",
          "text": [
            "Epoch 1/20\n",
            "1875/1875 [==============================] - 6s 3ms/step - loss: 0.2389 - accuracy: 0.9281\n",
            "Epoch 2/20\n",
            "1875/1875 [==============================] - 6s 3ms/step - loss: 0.1055 - accuracy: 0.9688\n",
            "Epoch 3/20\n",
            "1875/1875 [==============================] - 6s 3ms/step - loss: 0.0796 - accuracy: 0.9750\n",
            "Epoch 4/20\n",
            "1875/1875 [==============================] - 6s 3ms/step - loss: 0.0630 - accuracy: 0.9803\n",
            "Epoch 5/20\n",
            "1875/1875 [==============================] - 6s 3ms/step - loss: 0.0541 - accuracy: 0.9829\n",
            "Epoch 6/20\n",
            "1875/1875 [==============================] - 7s 4ms/step - loss: 0.0459 - accuracy: 0.9854\n",
            "Epoch 7/20\n",
            "1875/1875 [==============================] - 6s 3ms/step - loss: 0.0395 - accuracy: 0.9869\n",
            "Epoch 8/20\n",
            "1875/1875 [==============================] - 6s 3ms/step - loss: 0.0355 - accuracy: 0.9884\n",
            "Epoch 9/20\n",
            "1875/1875 [==============================] - 6s 3ms/step - loss: 0.0328 - accuracy: 0.9896\n",
            "Epoch 10/20\n",
            "1875/1875 [==============================] - 6s 3ms/step - loss: 0.0308 - accuracy: 0.9897\n",
            "Epoch 11/20\n",
            "1875/1875 [==============================] - 6s 3ms/step - loss: 0.0270 - accuracy: 0.9909\n",
            "Epoch 12/20\n",
            "1875/1875 [==============================] - 6s 3ms/step - loss: 0.0274 - accuracy: 0.9912\n",
            "Epoch 13/20\n",
            "1875/1875 [==============================] - 6s 3ms/step - loss: 0.0231 - accuracy: 0.9921\n",
            "Epoch 14/20\n",
            "1875/1875 [==============================] - 6s 3ms/step - loss: 0.0240 - accuracy: 0.9924\n",
            "Epoch 15/20\n",
            "1875/1875 [==============================] - 6s 3ms/step - loss: 0.0251 - accuracy: 0.9922\n",
            "Epoch 16/20\n",
            "1875/1875 [==============================] - 6s 3ms/step - loss: 0.0233 - accuracy: 0.9924\n",
            "Epoch 17/20\n",
            "1875/1875 [==============================] - 6s 3ms/step - loss: 0.0219 - accuracy: 0.9929\n",
            "Epoch 18/20\n",
            "1875/1875 [==============================] - 6s 3ms/step - loss: 0.0215 - accuracy: 0.9934\n",
            "Epoch 19/20\n",
            "1875/1875 [==============================] - 6s 3ms/step - loss: 0.0194 - accuracy: 0.9936\n",
            "Epoch 20/20\n",
            "1875/1875 [==============================] - 6s 3ms/step - loss: 0.0194 - accuracy: 0.9943\n"
          ],
          "name": "stdout"
        },
        {
          "output_type": "execute_result",
          "data": {
            "text/plain": [
              "<tensorflow.python.keras.callbacks.History at 0x7f859a11f668>"
            ]
          },
          "metadata": {
            "tags": []
          },
          "execution_count": 10
        }
      ]
    },
    {
      "cell_type": "code",
      "metadata": {
        "id": "kTaGJMFG7FbH",
        "outputId": "49c93d80-7c31-432e-c4a1-a8db42692a67",
        "colab": {
          "base_uri": "https://localhost:8080/"
        }
      },
      "source": [
        "three.evaluate(x_test,y_test,batch_size= 32)"
      ],
      "execution_count": null,
      "outputs": [
        {
          "output_type": "stream",
          "text": [
            "313/313 [==============================] - 0s 1ms/step - loss: 0.0981 - accuracy: 0.9813\n"
          ],
          "name": "stdout"
        },
        {
          "output_type": "execute_result",
          "data": {
            "text/plain": [
              "[0.09811870008707047, 0.9812999963760376]"
            ]
          },
          "metadata": {
            "tags": []
          },
          "execution_count": 11
        }
      ]
    },
    {
      "cell_type": "markdown",
      "metadata": {
        "id": "8F4iQbGN7ORS"
      },
      "source": [
        "# **4층 NN**"
      ]
    },
    {
      "cell_type": "code",
      "metadata": {
        "id": "pV3NFglM7P65"
      },
      "source": [
        "four = tf.keras.models.Sequential([ \n",
        "    tf.keras.layers.Flatten(input_shape=(28, 28)),\n",
        "    tf.keras.layers.Dense(512, activation='relu'),  \n",
        "    tf.keras.layers.Dropout(0.1),\n",
        "    tf.keras.layers.Dense(256, activation='relu'),  \n",
        "    tf.keras.layers.Dropout(0.1),\n",
        "    tf.keras.layers.Dense(128, activation='relu'),  \n",
        "    tf.keras.layers.Dropout(0.2), \n",
        "    tf.keras.layers.Dense(10, activation='softmax')\n",
        "])\n",
        "\n",
        "four.compile(optimizer='adam',\n",
        "              loss='sparse_categorical_crossentropy',\n",
        "              metrics=['accuracy']) "
      ],
      "execution_count": null,
      "outputs": []
    },
    {
      "cell_type": "code",
      "metadata": {
        "id": "OGtCiKy57YkR",
        "outputId": "daaf082b-a7dc-44b7-ff2b-554087b8de8a",
        "colab": {
          "base_uri": "https://localhost:8080/"
        }
      },
      "source": [
        "four.summary()"
      ],
      "execution_count": null,
      "outputs": [
        {
          "output_type": "stream",
          "text": [
            "Model: \"sequential_2\"\n",
            "_________________________________________________________________\n",
            "Layer (type)                 Output Shape              Param #   \n",
            "=================================================================\n",
            "flatten_2 (Flatten)          (None, 784)               0         \n",
            "_________________________________________________________________\n",
            "dense_5 (Dense)              (None, 512)               401920    \n",
            "_________________________________________________________________\n",
            "dropout_3 (Dropout)          (None, 512)               0         \n",
            "_________________________________________________________________\n",
            "dense_6 (Dense)              (None, 256)               131328    \n",
            "_________________________________________________________________\n",
            "dropout_4 (Dropout)          (None, 256)               0         \n",
            "_________________________________________________________________\n",
            "dense_7 (Dense)              (None, 128)               32896     \n",
            "_________________________________________________________________\n",
            "dropout_5 (Dropout)          (None, 128)               0         \n",
            "_________________________________________________________________\n",
            "dense_8 (Dense)              (None, 10)                1290      \n",
            "=================================================================\n",
            "Total params: 567,434\n",
            "Trainable params: 567,434\n",
            "Non-trainable params: 0\n",
            "_________________________________________________________________\n"
          ],
          "name": "stdout"
        }
      ]
    },
    {
      "cell_type": "code",
      "metadata": {
        "id": "94GWWQt-7eRS",
        "outputId": "a6e854d3-8489-4242-a203-3400c4b0c17b",
        "colab": {
          "base_uri": "https://localhost:8080/"
        }
      },
      "source": [
        "four.fit(x_train,y_train,epochs = 20 , batch_size =32)"
      ],
      "execution_count": null,
      "outputs": [
        {
          "output_type": "stream",
          "text": [
            "Epoch 1/20\n",
            "1875/1875 [==============================] - 11s 6ms/step - loss: 0.2333 - accuracy: 0.9292\n",
            "Epoch 2/20\n",
            "1875/1875 [==============================] - 11s 6ms/step - loss: 0.1085 - accuracy: 0.9677\n",
            "Epoch 3/20\n",
            "1875/1875 [==============================] - 11s 6ms/step - loss: 0.0819 - accuracy: 0.9760\n",
            "Epoch 4/20\n",
            "1875/1875 [==============================] - 11s 6ms/step - loss: 0.0643 - accuracy: 0.9805\n",
            "Epoch 5/20\n",
            "1875/1875 [==============================] - 11s 6ms/step - loss: 0.0565 - accuracy: 0.9822\n",
            "Epoch 6/20\n",
            "1875/1875 [==============================] - 11s 6ms/step - loss: 0.0503 - accuracy: 0.9845\n",
            "Epoch 7/20\n",
            "1875/1875 [==============================] - 11s 6ms/step - loss: 0.0417 - accuracy: 0.9876\n",
            "Epoch 8/20\n",
            "1875/1875 [==============================] - 11s 6ms/step - loss: 0.0423 - accuracy: 0.9873\n",
            "Epoch 9/20\n",
            "1875/1875 [==============================] - 11s 6ms/step - loss: 0.0357 - accuracy: 0.9892\n",
            "Epoch 10/20\n",
            "1875/1875 [==============================] - 12s 7ms/step - loss: 0.0319 - accuracy: 0.9910\n",
            "Epoch 11/20\n",
            "1875/1875 [==============================] - 11s 6ms/step - loss: 0.0308 - accuracy: 0.9912\n",
            "Epoch 12/20\n",
            "1875/1875 [==============================] - 12s 6ms/step - loss: 0.0294 - accuracy: 0.9913\n",
            "Epoch 13/20\n",
            "1875/1875 [==============================] - 12s 6ms/step - loss: 0.0253 - accuracy: 0.9927\n",
            "Epoch 14/20\n",
            "1875/1875 [==============================] - 11s 6ms/step - loss: 0.0268 - accuracy: 0.9921\n",
            "Epoch 15/20\n",
            "1875/1875 [==============================] - 12s 6ms/step - loss: 0.0265 - accuracy: 0.9925\n",
            "Epoch 16/20\n",
            "1875/1875 [==============================] - 11s 6ms/step - loss: 0.0229 - accuracy: 0.9933\n",
            "Epoch 17/20\n",
            "1875/1875 [==============================] - 12s 6ms/step - loss: 0.0241 - accuracy: 0.9932\n",
            "Epoch 18/20\n",
            "1875/1875 [==============================] - 12s 6ms/step - loss: 0.0213 - accuracy: 0.9940\n",
            "Epoch 19/20\n",
            "1875/1875 [==============================] - 12s 6ms/step - loss: 0.0228 - accuracy: 0.9939\n",
            "Epoch 20/20\n",
            "1875/1875 [==============================] - 12s 7ms/step - loss: 0.0212 - accuracy: 0.9942\n"
          ],
          "name": "stdout"
        },
        {
          "output_type": "execute_result",
          "data": {
            "text/plain": [
              "<tensorflow.python.keras.callbacks.History at 0x7f859984d5c0>"
            ]
          },
          "metadata": {
            "tags": []
          },
          "execution_count": 14
        }
      ]
    },
    {
      "cell_type": "code",
      "metadata": {
        "id": "0-7is2U49A6Z",
        "outputId": "12d6ede6-1aaa-4ad2-c6c9-6e3b11e6d384",
        "colab": {
          "base_uri": "https://localhost:8080/"
        }
      },
      "source": [
        "four.evaluate(x_test,y_test,batch_size =32)"
      ],
      "execution_count": null,
      "outputs": [
        {
          "output_type": "stream",
          "text": [
            "313/313 [==============================] - 1s 2ms/step - loss: 0.1036 - accuracy: 0.9831\n"
          ],
          "name": "stdout"
        },
        {
          "output_type": "execute_result",
          "data": {
            "text/plain": [
              "[0.10356054455041885, 0.9830999970436096]"
            ]
          },
          "metadata": {
            "tags": []
          },
          "execution_count": 15
        }
      ]
    },
    {
      "cell_type": "markdown",
      "metadata": {
        "id": "BJGAxdSp_-9c"
      },
      "source": [
        "## **5층 NN**"
      ]
    },
    {
      "cell_type": "code",
      "metadata": {
        "id": "Nl5CyAymAB34"
      },
      "source": [
        "five = tf.keras.models.Sequential([ \n",
        "    tf.keras.layers.Flatten(input_shape=(28, 28)),\n",
        "    tf.keras.layers.Dense(1024, activation='relu'), \n",
        "    tf.keras.layers.Dropout(0.1),\n",
        "    tf.keras.layers.Dense(512, activation='relu'),  \n",
        "    tf.keras.layers.Dropout(0.1),\n",
        "    tf.keras.layers.Dense(256, activation='relu'),  \n",
        "    tf.keras.layers.Dropout(0.1),\n",
        "    tf.keras.layers.Dense(128, activation='relu'),  \n",
        "    tf.keras.layers.Dropout(0.2), \n",
        "    tf.keras.layers.Dense(10, activation='softmax')\n",
        "])\n",
        "\n",
        "five.compile(optimizer='adam',\n",
        "              loss='sparse_categorical_crossentropy',\n",
        "              metrics=['accuracy']) "
      ],
      "execution_count": null,
      "outputs": []
    },
    {
      "cell_type": "code",
      "metadata": {
        "id": "gYxuGW_2ANL8",
        "outputId": "1698c091-c4dd-4e14-a744-229a0798021b",
        "colab": {
          "base_uri": "https://localhost:8080/"
        }
      },
      "source": [
        "five.summary()"
      ],
      "execution_count": null,
      "outputs": [
        {
          "output_type": "stream",
          "text": [
            "Model: \"sequential_3\"\n",
            "_________________________________________________________________\n",
            "Layer (type)                 Output Shape              Param #   \n",
            "=================================================================\n",
            "flatten_3 (Flatten)          (None, 784)               0         \n",
            "_________________________________________________________________\n",
            "dense_9 (Dense)              (None, 1024)              803840    \n",
            "_________________________________________________________________\n",
            "dropout_6 (Dropout)          (None, 1024)              0         \n",
            "_________________________________________________________________\n",
            "dense_10 (Dense)             (None, 512)               524800    \n",
            "_________________________________________________________________\n",
            "dropout_7 (Dropout)          (None, 512)               0         \n",
            "_________________________________________________________________\n",
            "dense_11 (Dense)             (None, 256)               131328    \n",
            "_________________________________________________________________\n",
            "dropout_8 (Dropout)          (None, 256)               0         \n",
            "_________________________________________________________________\n",
            "dense_12 (Dense)             (None, 128)               32896     \n",
            "_________________________________________________________________\n",
            "dropout_9 (Dropout)          (None, 128)               0         \n",
            "_________________________________________________________________\n",
            "dense_13 (Dense)             (None, 10)                1290      \n",
            "=================================================================\n",
            "Total params: 1,494,154\n",
            "Trainable params: 1,494,154\n",
            "Non-trainable params: 0\n",
            "_________________________________________________________________\n"
          ],
          "name": "stdout"
        }
      ]
    },
    {
      "cell_type": "code",
      "metadata": {
        "id": "lO1of4AOAQlV",
        "outputId": "fe5e9e32-f790-46e6-8e2a-9ac1998692f0",
        "colab": {
          "base_uri": "https://localhost:8080/"
        }
      },
      "source": [
        "five.fit(x_train,y_train,epochs=20, batch_size =32)"
      ],
      "execution_count": null,
      "outputs": [
        {
          "output_type": "stream",
          "text": [
            "Epoch 1/20\n",
            "1875/1875 [==============================] - 30s 16ms/step - loss: 0.2390 - accuracy: 0.9295\n",
            "Epoch 2/20\n",
            "1875/1875 [==============================] - 32s 17ms/step - loss: 0.1171 - accuracy: 0.9666\n",
            "Epoch 3/20\n",
            "1875/1875 [==============================] - 32s 17ms/step - loss: 0.0893 - accuracy: 0.9748\n",
            "Epoch 4/20\n",
            "1875/1875 [==============================] - 32s 17ms/step - loss: 0.0757 - accuracy: 0.9792\n",
            "Epoch 5/20\n",
            "1875/1875 [==============================] - 31s 17ms/step - loss: 0.0615 - accuracy: 0.9825\n",
            "Epoch 6/20\n",
            "1875/1875 [==============================] - 32s 17ms/step - loss: 0.0575 - accuracy: 0.9841\n",
            "Epoch 7/20\n",
            "1875/1875 [==============================] - 32s 17ms/step - loss: 0.0494 - accuracy: 0.9860\n",
            "Epoch 8/20\n",
            "1875/1875 [==============================] - 32s 17ms/step - loss: 0.0445 - accuracy: 0.9875\n",
            "Epoch 9/20\n",
            "1875/1875 [==============================] - 31s 17ms/step - loss: 0.0423 - accuracy: 0.9882\n",
            "Epoch 10/20\n",
            "1875/1875 [==============================] - 32s 17ms/step - loss: 0.0404 - accuracy: 0.9900\n",
            "Epoch 11/20\n",
            "1875/1875 [==============================] - 31s 17ms/step - loss: 0.0387 - accuracy: 0.9901\n",
            "Epoch 12/20\n",
            "1875/1875 [==============================] - 31s 17ms/step - loss: 0.0349 - accuracy: 0.9905\n",
            "Epoch 13/20\n",
            "1875/1875 [==============================] - 33s 17ms/step - loss: 0.0335 - accuracy: 0.9918\n",
            "Epoch 14/20\n",
            "1875/1875 [==============================] - 32s 17ms/step - loss: 0.0337 - accuracy: 0.9913\n",
            "Epoch 15/20\n",
            "1875/1875 [==============================] - 31s 16ms/step - loss: 0.0311 - accuracy: 0.9923\n",
            "Epoch 16/20\n",
            "1875/1875 [==============================] - 31s 16ms/step - loss: 0.0301 - accuracy: 0.9926\n",
            "Epoch 17/20\n",
            "1875/1875 [==============================] - 31s 17ms/step - loss: 0.0302 - accuracy: 0.9926\n",
            "Epoch 18/20\n",
            "1875/1875 [==============================] - 30s 16ms/step - loss: 0.0283 - accuracy: 0.9930\n",
            "Epoch 19/20\n",
            "1875/1875 [==============================] - 32s 17ms/step - loss: 0.0275 - accuracy: 0.9933\n",
            "Epoch 20/20\n",
            "1875/1875 [==============================] - 32s 17ms/step - loss: 0.0313 - accuracy: 0.9932\n"
          ],
          "name": "stdout"
        },
        {
          "output_type": "execute_result",
          "data": {
            "text/plain": [
              "<tensorflow.python.keras.callbacks.History at 0x7f8597d996d8>"
            ]
          },
          "metadata": {
            "tags": []
          },
          "execution_count": 18
        }
      ]
    },
    {
      "cell_type": "code",
      "metadata": {
        "id": "W-eIxCasDBil",
        "outputId": "c9a0ee37-aebd-47f3-ddce-ce619a0ea8b9",
        "colab": {
          "base_uri": "https://localhost:8080/"
        }
      },
      "source": [
        "five.evaluate(x_test,y_test,batch_size = 32)"
      ],
      "execution_count": null,
      "outputs": [
        {
          "output_type": "stream",
          "text": [
            "313/313 [==============================] - 1s 5ms/step - loss: 0.1437 - accuracy: 0.9824\n"
          ],
          "name": "stdout"
        },
        {
          "output_type": "execute_result",
          "data": {
            "text/plain": [
              "[0.14369173347949982, 0.9824000000953674]"
            ]
          },
          "metadata": {
            "tags": []
          },
          "execution_count": 19
        }
      ]
    },
    {
      "cell_type": "markdown",
      "metadata": {
        "id": "5XYSVtC-DVsz"
      },
      "source": [
        "# **Hidden layer에 따른 정확도**"
      ]
    },
    {
      "cell_type": "markdown",
      "metadata": {
        "id": "UPII5RBQDf-1"
      },
      "source": [
        "# **2층**"
      ]
    },
    {
      "cell_type": "code",
      "metadata": {
        "id": "x09oWsjqJe7Z",
        "outputId": "2754b2bf-cce1-484d-faaa-8208df65633b",
        "colab": {
          "base_uri": "https://localhost:8080/",
          "height": 356
        }
      },
      "source": [
        "Image('/gdrive/My Drive/서머리/2층.PNG')"
      ],
      "execution_count": 2,
      "outputs": [
        {
          "output_type": "execute_result",
          "data": {
            "image/png": "[encoded data removed]",
            "text/plain": [
              "<IPython.core.display.Image object>"
            ]
          },
          "metadata": {
            "tags": []
          },
          "execution_count": 2
        }
      ]
    },
    {
      "cell_type": "code",
      "metadata": {
        "id": "X_R6pAtH-ZMA",
        "outputId": "748e9c7b-47e0-44e5-fc56-3beba703ea38",
        "colab": {
          "base_uri": "https://localhost:8080/",
          "height": 132
        }
      },
      "source": [
        "Image('/gdrive/My Drive/mnist/2층.PNG')"
      ],
      "execution_count": null,
      "outputs": [
        {
          "output_type": "execute_result",
          "data": {
            "image/png": "[encoded data removed]",
            "text/plain": [
              "<IPython.core.display.Image object>"
            ]
          },
          "metadata": {
            "tags": []
          },
          "execution_count": 5
        }
      ]
    },
    {
      "cell_type": "markdown",
      "metadata": {
        "id": "ejulBvbz-3UE"
      },
      "source": [
        "# **3층**"
      ]
    },
    {
      "cell_type": "code",
      "metadata": {
        "id": "7eigUerCJj_S",
        "outputId": "2b96b7ac-c819-4d1d-e85d-06f35e350bf9",
        "colab": {
          "base_uri": "https://localhost:8080/",
          "height": 405
        }
      },
      "source": [
        "Image('/gdrive/My Drive/서머리/3층.PNG')"
      ],
      "execution_count": 3,
      "outputs": [
        {
          "output_type": "execute_result",
          "data": {
            "image/png": "[encoded data removed]",
            "text/plain": [
              "<IPython.core.display.Image object>"
            ]
          },
          "metadata": {
            "tags": []
          },
          "execution_count": 3
        }
      ]
    },
    {
      "cell_type": "code",
      "metadata": {
        "id": "MDs2cTVs-tCZ",
        "outputId": "d19fa15c-8bb9-43c2-da09-744fcc14da99",
        "colab": {
          "base_uri": "https://localhost:8080/",
          "height": 131
        }
      },
      "source": [
        "Image('/gdrive/My Drive/mnist/3층.PNG')"
      ],
      "execution_count": null,
      "outputs": [
        {
          "output_type": "execute_result",
          "data": {
            "image/png": "[encoded data removed]",
            "text/plain": [
              "<IPython.core.display.Image object>"
            ]
          },
          "metadata": {
            "tags": []
          },
          "execution_count": 6
        }
      ]
    },
    {
      "cell_type": "markdown",
      "metadata": {
        "id": "Oa5aUJaI-2ZP"
      },
      "source": [
        "# **4층**"
      ]
    },
    {
      "cell_type": "code",
      "metadata": {
        "id": "gVY4n9_7JlTJ",
        "outputId": "59ba3dd1-0537-45b8-e01f-f8d0bf6a6190",
        "colab": {
          "base_uri": "https://localhost:8080/",
          "height": 479
        }
      },
      "source": [
        "Image('/gdrive/My Drive/서머리/4층.PNG')"
      ],
      "execution_count": 4,
      "outputs": [
        {
          "output_type": "execute_result",
          "data": {
            "image/png": "[encoded data removed]",
            "text/plain": [
              "<IPython.core.display.Image object>"
            ]
          },
          "metadata": {
            "tags": []
          },
          "execution_count": 4
        }
      ]
    },
    {
      "cell_type": "code",
      "metadata": {
        "id": "7HGW-Ae5-vEF",
        "outputId": "47a29ba3-3e8e-411d-bea4-54cd3c962269",
        "colab": {
          "base_uri": "https://localhost:8080/",
          "height": 100
        }
      },
      "source": [
        "Image('/gdrive/My Drive/mnist/4층.PNG')"
      ],
      "execution_count": null,
      "outputs": [
        {
          "output_type": "execute_result",
          "data": {
            "image/png": "[encoded data removed]",
            "text/plain": [
              "<IPython.core.display.Image object>"
            ]
          },
          "metadata": {
            "tags": []
          },
          "execution_count": 7
        }
      ]
    },
    {
      "cell_type": "markdown",
      "metadata": {
        "id": "UFgjLvSj-5Zt"
      },
      "source": [
        "# **5층**"
      ]
    },
    {
      "cell_type": "code",
      "metadata": {
        "id": "Hg2k_KV6JmX5",
        "outputId": "bb865e79-65eb-4ed4-8fb6-a1c2da97b0a3",
        "colab": {
          "base_uri": "https://localhost:8080/",
          "height": 551
        }
      },
      "source": [
        "Image('/gdrive/My Drive/서머리/5층.PNG')"
      ],
      "execution_count": 5,
      "outputs": [
        {
          "output_type": "execute_result",
          "data": {
            "image/png": "[encoded data removed]",
            "text/plain": [
              "<IPython.core.display.Image object>"
            ]
          },
          "metadata": {
            "tags": []
          },
          "execution_count": 5
        }
      ]
    },
    {
      "cell_type": "code",
      "metadata": {
        "id": "lklMKJJF-xfT",
        "outputId": "4d74bf5d-2adc-4d53-d51f-97378b18dc1a",
        "colab": {
          "base_uri": "https://localhost:8080/",
          "height": 112
        }
      },
      "source": [
        "Image('/gdrive/My Drive/mnist/5층.PNG')"
      ],
      "execution_count": null,
      "outputs": [
        {
          "output_type": "execute_result",
          "data": {
            "image/png": "[encoded data removed]",
            "text/plain": [
              "<IPython.core.display.Image object>"
            ]
          },
          "metadata": {
            "tags": []
          },
          "execution_count": 8
        }
      ]
    }
  ]
}