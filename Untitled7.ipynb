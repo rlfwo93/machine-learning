{
  "nbformat": 4,
  "nbformat_minor": 0,
  "metadata": {
    "colab": {
      "name": "Untitled7.ipynb",
      "provenance": [],
      "collapsed_sections": [],
      "authorship_tag": "ABX9TyPomFp2BiRPdSqTxWdAlcPf",
      "include_colab_link": true
    },
    "kernelspec": {
      "name": "python3",
      "display_name": "Python 3"
    }
  },
  "cells": [
    {
      "cell_type": "markdown",
      "metadata": {
        "id": "view-in-github",
        "colab_type": "text"
      },
      "source": [
        "<a href=\"https://colab.research.google.com/github/rlfwo93/machine-learning/blob/master/Untitled7.ipynb\" target=\"_parent\"><img src=\"https://colab.research.google.com/assets/colab-badge.svg\" alt=\"Open In Colab\"/></a>"
      ]
    },
    {
      "cell_type": "markdown",
      "metadata": {
        "id": "Jbpxbut459Sa",
        "colab_type": "text"
      },
      "source": [
        "# numpy\n",
        "\n",
        "numpy의 개념과 numpy가 필요한 이유, numpy를 이용하여 벡터와 matrix 즉, 행렬을 만들고 이를 상호변환 시킬 수 있는 API를 사용하는 방법에 대해 알아본다.\n",
        "\n",
        "numpy의 개념, 그리고 numpy를 사용하는 이유¶\n",
        "numpy\n",
        "\n",
        "numpy는 머신러닝 코드 개발을 할 경우 자주 사용되는 벡터, 행렬 등을 표현하고 연산할 때 반드시 필요한 라이브러리다.\n",
        "벡터와 행렬을 이용하면 수치계산이 매우 빨리 수행된다.\n",
        "numpy array vs. list\n",
        "\n",
        "머신러닝에서 숫자, 사람, 동물 등의 인식을 하기 위해서는 이미지 데이터를 행렬(matrix)로 변환하는 것이 중요하다.\n",
        "## 행렬을 나타내기 위해서는 list를 사용할 수도 있지만, 행렬 연산이 직관적이지 않고 오류 가능성이 높기 때문에 행렬 연산을 위해서는 numpy 사용이 필수적이다. \n",
        "\n",
        "\n"
      ]
    },
    {
      "cell_type": "markdown",
      "metadata": {
        "id": "auO4UeOphc3C",
        "colab_type": "text"
      },
      "source": [
        "# import로 모듈을 불러오고 as로 모듈의 이름을 지정"
      ]
    },
    {
      "cell_type": "code",
      "metadata": {
        "id": "0sCqHA-MhPxJ",
        "colab_type": "code",
        "colab": {}
      },
      "source": [
        "import numpy as np\n",
        " "
      ],
      "execution_count": 2,
      "outputs": []
    },
    {
      "cell_type": "markdown",
      "metadata": {
        "id": "4h3c4xF-hkPe",
        "colab_type": "text"
      },
      "source": [
        "# 모듈 지정하기 사용\n",
        "\n",
        "\n"
      ]
    },
    {
      "cell_type": "code",
      "metadata": {
        "id": "NLpxlZl_hstT",
        "colab_type": "code",
        "colab": {
          "base_uri": "https://localhost:8080/",
          "height": 52
        },
        "outputId": "55debf8a-874d-45c4-9b9b-942478745838"
      },
      "source": [
        "a = np.array(range(1,5)).reshape(2,2)\n",
        "# np모듈을 사용하여 1~5까지 숫자를 reshape를 이용하여 2행2열로 만든다는 것 \n",
        "print(a)"
      ],
      "execution_count": null,
      "outputs": [
        {
          "output_type": "stream",
          "text": [
            "[[1 2]\n",
            " [3 4]]\n"
          ],
          "name": "stdout"
        }
      ]
    },
    {
      "cell_type": "code",
      "metadata": {
        "id": "BvICBJNCkEnQ",
        "colab_type": "code",
        "colab": {
          "base_uri": "https://localhost:8080/",
          "height": 34
        },
        "outputId": "355fff89-fc69-492f-fa67-75c1bac3bb60"
      },
      "source": [
        "a.shape # 배열a의 형식을 보여줌"
      ],
      "execution_count": null,
      "outputs": [
        {
          "output_type": "execute_result",
          "data": {
            "text/plain": [
              "(2, 2)"
            ]
          },
          "metadata": {
            "tags": []
          },
          "execution_count": 4
        }
      ]
    },
    {
      "cell_type": "code",
      "metadata": {
        "id": "YLwBdnCNkM2j",
        "colab_type": "code",
        "colab": {
          "base_uri": "https://localhost:8080/",
          "height": 52
        },
        "outputId": "0f09d525-d610-4539-8eed-0bdb6a52a7e4"
      },
      "source": [
        "ar2 = np.array(range(1,7)).reshape(2,3)\n",
        "ar2\n",
        "# 1~6까지의 숫자를 2행 3열로 만든다는것 "
      ],
      "execution_count": null,
      "outputs": [
        {
          "output_type": "execute_result",
          "data": {
            "text/plain": [
              "array([[1, 2, 3],\n",
              "       [4, 5, 6]])"
            ]
          },
          "metadata": {
            "tags": []
          },
          "execution_count": 16
        }
      ]
    },
    {
      "cell_type": "markdown",
      "metadata": {
        "id": "20BNW20VLSif",
        "colab_type": "text"
      },
      "source": [
        "# numpy vector(1차원 배열)\n",
        "  < array 생성방법>\n",
        "\n",
        "1.벡터는 np.array([...])를 사용하여 생성한다.\n",
        "\n",
        "2.np.array(range()).reshape\n",
        "\n",
        "3.np.array().reshape\n",
        "\n",
        "\n",
        "머신러닝 코드 구현 시, 연산을 위해서 벡터, matrix 등의 구조(shape), 차원(dimension)을 확인하는 것이 필요하다."
      ]
    },
    {
      "cell_type": "code",
      "metadata": {
        "id": "1VvnO_-nLRjG",
        "colab_type": "code",
        "colab": {
          "base_uri": "https://localhost:8080/",
          "height": 230
        },
        "outputId": "63e214f6-4236-404d-ccd9-6c86cafce614"
      },
      "source": [
        "a = np.array([1,2,3])\n",
        "b = np.array(range(1,5))\n",
        "c = np.array(range(1,5)).reshape(2,2)\n",
        "d = np.array([1,2,3,4]).reshape(2,2)\n",
        "#reshape = 행과열을 설정하여 만듬\n",
        "#배열을 생성하는 다양한 방법이 있음.\n",
        "\n",
        "\n",
        "print(\"a = \",a)\n",
        "print(\"\\n\")\n",
        "print(\"b = \",b)\n",
        "print(\"\\n\")\n",
        "print(\"c = \",c)\n",
        "print(\"\\n\")\n",
        "print(\"d = \",d)"
      ],
      "execution_count": 16,
      "outputs": [
        {
          "output_type": "stream",
          "text": [
            "a =  [1 2 3]\n",
            "\n",
            "\n",
            "b =  [1 2 3 4]\n",
            "\n",
            "\n",
            "c =  [[1 2]\n",
            " [3 4]]\n",
            "\n",
            "\n",
            "d =  [[1 2]\n",
            " [3 4]]\n"
          ],
          "name": "stdout"
        }
      ]
    },
    {
      "cell_type": "markdown",
      "metadata": {
        "id": "QX6A_wWbOg5C",
        "colab_type": "text"
      },
      "source": [
        "# 구조와 차원 확인해보기\n"
      ]
    },
    {
      "cell_type": "code",
      "metadata": {
        "id": "aqqvyb2EOlNg",
        "colab_type": "code",
        "colab": {
          "base_uri": "https://localhost:8080/",
          "height": 230
        },
        "outputId": "303a73e3-71e3-480b-bc0d-693cff5c7789"
      },
      "source": [
        "a = np.array([1,2,3])\n",
        "b = np.array(range(1,5)).reshape(4,1)\n",
        "print(\"a = \",a)\n",
        "print(\"a.shape = \",a.shape) #shpae함수는 구조를 확인하는 함수\n",
        "print(\"a.ndim = \",a.ndim) # ndim함수는 차원을 확인하는 함수\n",
        "print(\"\\n--------------------------------\\n\")\n",
        "print(\"b = \",b)\n",
        "print(\"b.shape = \",b.shape) # (2,2)행렬이기 떄문에 2,2가 나옴\n",
        "print(\"b.ndim = \",b.ndim) #2차원이기떄문에 2가 나옴 \n"
      ],
      "execution_count": 32,
      "outputs": [
        {
          "output_type": "stream",
          "text": [
            "a =  [1 2 3]\n",
            "a.shape =  (3,)\n",
            "a.ndim =  1\n",
            "\n",
            "--------------------------------\n",
            "\n",
            "b =  [[1]\n",
            " [2]\n",
            " [3]\n",
            " [4]]\n",
            "b.shape =  (4, 1)\n",
            "b.ndim =  2\n"
          ],
          "name": "stdout"
        }
      ]
    },
    {
      "cell_type": "markdown",
      "metadata": {
        "id": "8V4YJmeHPrdX",
        "colab_type": "text"
      },
      "source": [
        "# 행벡터와 열벡터\n",
        "\n",
        "행벡터란 크기가 인 행렬, 즉 한 행만 있는 행렬을 말하고 다음과 같이 나타낸다.\n",
        "\n",
        "b =  [1 2 3 4]\n",
        "\n",
        "\n",
        "열벡터란 크기가 인 행렬, 즉 한 열만 있는 행렬을 말하며 열행렬이라고도 한다.\n",
        "\n",
        "c =\n",
        "  [[1]\n",
        " \n",
        "  [2]\n",
        " \n",
        "  [3]\n",
        " \n",
        " [4]]"
      ]
    },
    {
      "cell_type": "markdown",
      "metadata": {
        "id": "8SjRpICISSlk",
        "colab_type": "text"
      },
      "source": [
        "# 열백터로 변환"
      ]
    },
    {
      "cell_type": "code",
      "metadata": {
        "id": "iX2c6urYSlh2",
        "colab_type": "code",
        "colab": {
          "base_uri": "https://localhost:8080/",
          "height": 176
        },
        "outputId": "a48a5d79-bb55-4483-cf54-3f5ddafd9372"
      },
      "source": [
        "a = np.array([1,2,3,4])\n",
        "a1=a[:, np.newaxis] #열부분에 newaxis를 사용하면 한차원을 분해하고 추가함\n",
        "a2=a.reshape(4,1) #reshape를 이용하여 행변형을 할 수 있다\n",
        "print(\"a = \",a)\n",
        "print(\"a1 = \",a1)\n",
        "print(\"a2 = \",a2)\n"
      ],
      "execution_count": 51,
      "outputs": [
        {
          "output_type": "stream",
          "text": [
            "a =  [1 2 3 4]\n",
            "a1 =  [[1]\n",
            " [2]\n",
            " [3]\n",
            " [4]]\n",
            "a2 =  [[1]\n",
            " [2]\n",
            " [3]\n",
            " [4]]\n"
          ],
          "name": "stdout"
        }
      ]
    },
    {
      "cell_type": "markdown",
      "metadata": {
        "id": "iqwou2EaWTmp",
        "colab_type": "text"
      },
      "source": [
        "# 행백터로 변환"
      ]
    },
    {
      "cell_type": "code",
      "metadata": {
        "id": "ikmHKoiAWVtl",
        "colab_type": "code",
        "colab": {
          "base_uri": "https://localhost:8080/",
          "height": 34
        },
        "outputId": "9d87f51d-df1d-4e65-d594-cdb0b691f857"
      },
      "source": [
        "a = np.array([1,2,3,4])\n",
        "a1 = a[np.newaxis,:]\n",
        "print(\"a1 = \",a1)\n",
        "\n"
      ],
      "execution_count": 50,
      "outputs": [
        {
          "output_type": "stream",
          "text": [
            "a1 =  [[1 2 3 4]]\n"
          ],
          "name": "stdout"
        }
      ]
    },
    {
      "cell_type": "markdown",
      "metadata": {
        "id": "LOmj0zMK9FXz",
        "colab_type": "text"
      },
      "source": [
        "# 리스트와 행렬 차이"
      ]
    },
    {
      "cell_type": "code",
      "metadata": {
        "id": "_-vwthyv6r8o",
        "colab_type": "code",
        "colab": {
          "base_uri": "https://localhost:8080/",
          "height": 34
        },
        "outputId": "30ce987b-09a4-437f-b545-8ed0ab386623"
      },
      "source": [
        "a = [1,2]\n",
        "b = [3,4]\n",
        "a+b \n",
        "\n",
        "#리스트는 연산을 하는것이 아니라 a,b의 리스트를 합쳐줌"
      ],
      "execution_count": null,
      "outputs": [
        {
          "output_type": "execute_result",
          "data": {
            "text/plain": [
              "[1, 2, 3, 4]"
            ]
          },
          "metadata": {
            "tags": []
          },
          "execution_count": 50
        }
      ]
    },
    {
      "cell_type": "code",
      "metadata": {
        "id": "o36Ut7SF9Lht",
        "colab_type": "code",
        "colab": {
          "base_uri": "https://localhost:8080/",
          "height": 34
        },
        "outputId": "fe26119e-8923-4b66-a3cb-fafe0e7ada0d"
      },
      "source": [
        "a= np.array([1,2])\n",
        "b= np.array([3,4])\n",
        "a+b\n",
        "#행렬은 a,b에 있는 값들을 연산시켜줌"
      ],
      "execution_count": null,
      "outputs": [
        {
          "output_type": "execute_result",
          "data": {
            "text/plain": [
              "array([4, 6])"
            ]
          },
          "metadata": {
            "tags": []
          },
          "execution_count": 51
        }
      ]
    },
    {
      "cell_type": "markdown",
      "metadata": {
        "id": "OMnqdMzkXjZM",
        "colab_type": "text"
      },
      "source": [
        "# 백터 산술연산\n",
        "\n",
        "벡터 간 산술연산 (+, -, x, /, %)는 벡터의 각각의 원소에 대해서 행해진다."
      ]
    },
    {
      "cell_type": "code",
      "metadata": {
        "id": "FGEJVEFBYHwY",
        "colab_type": "code",
        "colab": {
          "base_uri": "https://localhost:8080/",
          "height": 390
        },
        "outputId": "e0c00e2f-fe6f-4e68-a1bc-967a23086e8b"
      },
      "source": [
        "A = np.array([1,2,3])\n",
        "B = np.array([4,5,6])\n",
        "\n",
        "A1= np.array([[1,2,3,4]])\n",
        "B1= np.array([1])\n",
        "\n",
        "A2= np.array([1,2,3,4])\n",
        "B2= 2\n",
        "\n",
        "print(\"A+B = \", A+B)\n",
        "print(\"A-B = \", A-B)\n",
        "print(\"A*B = \", A*B)\n",
        "print(\"A/B = \", A/B)\n",
        "print(\"A%B = \", A%B)\n",
        "print(\"\\n--------------------------------\\n\")\n",
        "print(\"A1+B1 = \", A1+B1)\n",
        "print(\"A1-B1 = \", A1-B1)\n",
        "print(\"A1*B1 = \", A1*B1)\n",
        "print(\"A1/B1 = \", A1/B1)\n",
        "print(\"A1%B1 = \", A1%B1)\n",
        "print(\"\\n--------------------------------\\n\")\n",
        "print(\"A2+B2 = \", A2+B2)\n",
        "print(\"A2-B2 = \", A2-B2)\n",
        "print(\"A2*B2 = \", A2*B2)\n",
        "print(\"A2/B2 = \", A2/B2)\n",
        "print(\"A2%B2 = \", A2%B2)"
      ],
      "execution_count": 60,
      "outputs": [
        {
          "output_type": "stream",
          "text": [
            "A+B =  [5 7 9]\n",
            "A-B =  [-3 -3 -3]\n",
            "A*B =  [ 4 10 18]\n",
            "A/B =  [0.25 0.4  0.5 ]\n",
            "A%B =  [1 2 3]\n",
            "\n",
            "--------------------------------\n",
            "\n",
            "A1+B1 =  [[2 3 4 5]]\n",
            "A1-B1 =  [[0 1 2 3]]\n",
            "A1*B1 =  [[1 2 3 4]]\n",
            "A1/B1 =  [[1. 2. 3. 4.]]\n",
            "A1%B1 =  [[0 0 0 0]]\n",
            "\n",
            "--------------------------------\n",
            "\n",
            "A2+B2 =  [3 4 5 6]\n",
            "A2-B2 =  [-1  0  1  2]\n",
            "A2*B2 =  [2 4 6 8]\n",
            "A2/B2 =  [0.5 1.  1.5 2. ]\n",
            "A2%B2 =  [1 0 1 0]\n"
          ],
          "name": "stdout"
        }
      ]
    },
    {
      "cell_type": "markdown",
      "metadata": {
        "id": "eBti6_AuZ8v5",
        "colab_type": "text"
      },
      "source": [
        "# numpy matrix (2차원 행렬)\n",
        "\n",
        "\n",
        "행렬 생성\n",
        "행렬 생성\n",
        "matrix는 벡터와 마찬가지로 np.array([ [...], [...], ... ])를 사용하여 생성한다.\n",
        "\n",
        "예)  \n",
        "\n",
        "import numpy as np\n",
        "\n",
        "      A = (1 2 3)       B = (-1 -2 -3)\n",
        "          (4 5 6)           (-4 -5 -6)\n",
        "        shape 2x3       shape 2x3"
      ]
    },
    {
      "cell_type": "code",
      "metadata": {
        "id": "EavTuLmUaJtm",
        "colab_type": "code",
        "colab": {
          "base_uri": "https://localhost:8080/",
          "height": 52
        },
        "outputId": "22ec963f-162f-4aed-aff0-747868b3f372"
      },
      "source": [
        "\n",
        "A = np.array([ [1,2,3], [4,5,6] ])\n",
        "B = np.array([ [-1,-2,-3], [-4,-5,-6] ])\n",
        "\n",
        "# vector A, B 구조 출력 => shape\n",
        "print(\"A.shape = {0}, B.shape =  {1}\".format(A.shape, B.shape))\n",
        "\n",
        "# vector A, B 차원 출력 => ndim\n",
        "print(\"A.ndim = {0}, B.ndim = {1}\".format(A.ndim, B.ndim))"
      ],
      "execution_count": 58,
      "outputs": [
        {
          "output_type": "stream",
          "text": [
            "A.shape = (2, 3), B.shape =  (2, 3)\n",
            "A.ndim = 2, B.ndim = 2\n"
          ],
          "name": "stdout"
        }
      ]
    },
    {
      "cell_type": "markdown",
      "metadata": {
        "id": "B7rIbnGLaV7G",
        "colab_type": "text"
      },
      "source": [
        "# 2차원 행렬 형 변환"
      ]
    },
    {
      "cell_type": "code",
      "metadata": {
        "id": "vqpx5Q07agJD",
        "colab_type": "code",
        "colab": {
          "base_uri": "https://localhost:8080/",
          "height": 265
        },
        "outputId": "cc64a8e4-282d-4d91-811f-d05b98d69bc4"
      },
      "source": [
        "\n",
        "# reshape()를 이용한 열벡터 생성\n",
        "\n",
        "C = np.array([1,2,3])  # 기본 벡터\n",
        "print(\"C = \",C)\n",
        "# 벡터 C의 구조 출력 => shape\n",
        "print(\"C.shape = \", C.shape)\n",
        "print(\"\\n--------------------------------\\n\")\n",
        "# 벡터를 (3,1) 행렬로 형 변환 => 열벡터로 변환\n",
        "C1 = C.reshape(3,1)\n",
        "print(\"C1 = \", C1)\n",
        "print(\"C1.shape = \", C1.shape)\n",
        "print(\"\\n--------------------------------\\n\")\n",
        "# 벡터를 (1,3) 행렬로 형 변환 => 행벡터로 변환\n",
        "C2 = C.reshape(1,3)\n",
        "print(\"C2 = \", C2)\n",
        "print(\"C2.shape = \", C2.shape)"
      ],
      "execution_count": 66,
      "outputs": [
        {
          "output_type": "stream",
          "text": [
            "C =  [1 2 3]\n",
            "C.shape =  (3,)\n",
            "\n",
            "--------------------------------\n",
            "\n",
            "C1 =  [[1]\n",
            " [2]\n",
            " [3]]\n",
            "C1.shape =  (3, 1)\n",
            "\n",
            "--------------------------------\n",
            "\n",
            "C2 =  [[1 2 3]]\n",
            "C2.shape =  (1, 3)\n"
          ],
          "name": "stdout"
        }
      ]
    },
    {
      "cell_type": "code",
      "metadata": {
        "id": "_oWTfM9pbbup",
        "colab_type": "code",
        "colab": {
          "base_uri": "https://localhost:8080/",
          "height": 141
        },
        "outputId": "622bd220-c53d-42ca-e7fa-41c5b1ed3bad"
      },
      "source": [
        "D = np.array([ [1,2,3], [4,5,6] ])  # (2,3) 행렬\n",
        "#각 행렬에 있는 원소의 갯수가 같아야함. \n",
        "\n",
        "# 배열 D의 구조 출력 => shape\n",
        "print(\"D.shape = \", D.shape)\n",
        "\n",
        "# 배열 D를 (3,2) 행렬로 형 변환 \n",
        "D1 = D.reshape(3,2)\n",
        "\n",
        "print(\"D1.shape = \", D1.shape)\n",
        "\n",
        "# D와 D1 출력\n",
        "print(D)\n",
        "print(D1)"
      ],
      "execution_count": 72,
      "outputs": [
        {
          "output_type": "stream",
          "text": [
            "D.shape =  (2, 3)\n",
            "D1.shape =  (3, 2)\n",
            "[[1 2 3]\n",
            " [4 5 6]]\n",
            "[[1 2]\n",
            " [3 4]\n",
            " [5 6]]\n"
          ],
          "name": "stdout"
        }
      ]
    },
    {
      "cell_type": "markdown",
      "metadata": {
        "id": "a_epxeoZgzlE",
        "colab_type": "text"
      },
      "source": [
        "# numpy 행렬 곱 (dot product)\n",
        "\n",
        "A 행렬과 B 행렬의 행렬 곱 (dot product)는 np.dot(A,B)로 나타내며, 행렬 A의 열벡터와 B 행렬의 행벡터가 같아야 한다.\n",
        "\n",
        "만약 같지 않으면 reshape 또는 전치행렬(transpose) 등을 사용하여 형 변환을 한 후에 행렬 곱을 실행해야 한다.\n",
        "\n",
        "\n",
        "\n",
        "행렬 곱은 사칙연산과는 다른 특징을 가진다.\n",
        "\n",
        "행렬 곱은 행렬의 원소 개수가 같아야만 계산할 수 있는 사칙연산의 한계를 벗어나\n",
        "행렬 곱 조건을 만족하는 다양한 크기의 행렬을 연속으로 만들고\n",
        "행렬 곱을 연속으로 계산하면서\n",
        "결괏값을 만들 수 있기 때문에 머신러닝과 이미지 프로세싱 분야에서 자주 사용된다.\n",
        "    예) 입력 행렬 형상이 64X64이고, 결과 행렬 형상이 64X10이라면, 중간에 dot product 를 만족시키는 어떤 형상의 행렬이라도 가질 수 있다.\n",
        "\n",
        "행렬 곱을 사용하지 않고 산술 연산만 가능하다면, 입력 행렬의 64X64 크기를 가지는 특성 값만을 사용해야 하기 때문에 다양한 특성을 갖는 필터 개발이 불가능하다."
      ]
    },
    {
      "cell_type": "code",
      "metadata": {
        "id": "_vx9cHNMhFzO",
        "colab_type": "code",
        "colab": {
          "base_uri": "https://localhost:8080/",
          "height": 318
        },
        "outputId": "64c7fc55-214f-45c3-ba60-4c6eaa98914d"
      },
      "source": [
        "a = np.array([ [1,2,3], [4,5,6] ]) # 2x3 행렬\n",
        "b = np.array([ [-1,-2], [-3,-4], [-5,-6] ]) # 3x2 행렬\n",
        "c = np.dot(a,b)\n",
        "print(\"c = \",c)\n",
        "print(\"\\n--------------------------------\\n\")\n",
        "\n",
        "a1 = np.array( [[1,2,3], [4,5,6],[7,8,9]])\n",
        "b2 = np.array([[1,2], [4,5],[7,8]])\n",
        "c2 = np.dot(a1,b2)\n",
        "print(\"c2 = \",c2)\n",
        "print(\"\\n--------------------------------\\n\")\n",
        "\n",
        "a3 = np.array([ [1,2], [3,4] ]) \n",
        "b3 = np.array([ [1,2,3], [4,5,6,] ])\n",
        "c3 = np.dot(a3,b3)\n",
        "print(\"c3 = \",c3)\n",
        "print(\"\\n--------------------------------\\n\")\n",
        "\n",
        "a4 = np.array([[[1,2,3]]])\n",
        "a5 = np.array([1,2,3])\n",
        "c4 = np.dot(a4,a5)\n",
        "print(\"c4 = \",c4)"
      ],
      "execution_count": 85,
      "outputs": [
        {
          "output_type": "stream",
          "text": [
            "c =  [[-22 -28]\n",
            " [-49 -64]]\n",
            "\n",
            "--------------------------------\n",
            "\n",
            "c2 =  [[ 30  36]\n",
            " [ 66  81]\n",
            " [102 126]]\n",
            "\n",
            "--------------------------------\n",
            "\n",
            "c3 =  [[ 9 12 15]\n",
            " [19 26 33]]\n",
            "\n",
            "--------------------------------\n",
            "\n",
            "c4 =  [[14]]\n"
          ],
          "name": "stdout"
        }
      ]
    },
    {
      "cell_type": "markdown",
      "metadata": {
        "id": "M_AmLHQck9cv",
        "colab_type": "text"
      },
      "source": [
        "# concatenate 함수사용 \n",
        "concatenate 함수는 배열을 합쳐준다.\n",
        "\n",
        "axis는 기준이다\n",
        "\n",
        "axis = 0: Y축 (세로 방향) 으로 설정합니다.\n",
        "\n",
        "axis = 1: X축 (가로 방향) 으로 설정합니다.\n"
      ]
    },
    {
      "cell_type": "code",
      "metadata": {
        "id": "MPvFOfpukes9",
        "colab_type": "code",
        "colab": {
          "base_uri": "https://localhost:8080/",
          "height": 52
        },
        "outputId": "c53b2036-3746-4c3f-d2af-b405d98b0efc"
      },
      "source": [
        "a1=np.concatenate((a,ar2),axis=1)\n",
        "\n",
        "a1\n",
        "\n",
        "#가로방향으로 합치려면 행의 갯수가 같아야함"
      ],
      "execution_count": null,
      "outputs": [
        {
          "output_type": "execute_result",
          "data": {
            "text/plain": [
              "array([[1, 2, 1, 2, 3],\n",
              "       [3, 4, 4, 5, 6]])"
            ]
          },
          "metadata": {
            "tags": []
          },
          "execution_count": 17
        }
      ]
    },
    {
      "cell_type": "code",
      "metadata": {
        "id": "qHpVl3xWpC-J",
        "colab_type": "code",
        "colab": {
          "base_uri": "https://localhost:8080/",
          "height": 261
        },
        "outputId": "65c6a958-bf15-4181-c13e-3b1c0ca3bbe0"
      },
      "source": [
        "a2=np.concatenate((a,ar2),axis=0)\n",
        "\n",
        "a2\n",
        "\n",
        "#세로방향으로 합치려면 열의 갯수가 같아야함."
      ],
      "execution_count": null,
      "outputs": [
        {
          "output_type": "error",
          "ename": "ValueError",
          "evalue": "ignored",
          "traceback": [
            "\u001b[0;31m---------------------------------------------------------------------------\u001b[0m",
            "\u001b[0;31mValueError\u001b[0m                                Traceback (most recent call last)",
            "\u001b[0;32m<ipython-input-18-46c7f1021b54>\u001b[0m in \u001b[0;36m<module>\u001b[0;34m()\u001b[0m\n\u001b[0;32m----> 1\u001b[0;31m \u001b[0ma2\u001b[0m\u001b[0;34m=\u001b[0m\u001b[0mnp\u001b[0m\u001b[0;34m.\u001b[0m\u001b[0mconcatenate\u001b[0m\u001b[0;34m(\u001b[0m\u001b[0;34m(\u001b[0m\u001b[0ma\u001b[0m\u001b[0;34m,\u001b[0m\u001b[0mar2\u001b[0m\u001b[0;34m)\u001b[0m\u001b[0;34m,\u001b[0m\u001b[0maxis\u001b[0m\u001b[0;34m=\u001b[0m\u001b[0;36m0\u001b[0m\u001b[0;34m)\u001b[0m\u001b[0;34m\u001b[0m\u001b[0;34m\u001b[0m\u001b[0m\n\u001b[0m\u001b[1;32m      2\u001b[0m \u001b[0;34m\u001b[0m\u001b[0m\n\u001b[1;32m      3\u001b[0m \u001b[0ma2\u001b[0m\u001b[0;34m\u001b[0m\u001b[0;34m\u001b[0m\u001b[0m\n",
            "\u001b[0;32m<__array_function__ internals>\u001b[0m in \u001b[0;36mconcatenate\u001b[0;34m(*args, **kwargs)\u001b[0m\n",
            "\u001b[0;31mValueError\u001b[0m: all the input array dimensions for the concatenation axis must match exactly, but along dimension 1, the array at index 0 has size 2 and the array at index 1 has size 3"
          ]
        }
      ]
    },
    {
      "cell_type": "code",
      "metadata": {
        "id": "0WIVqWTbmlH2",
        "colab_type": "code",
        "colab": {
          "base_uri": "https://localhost:8080/",
          "height": 87
        },
        "outputId": "cdde8ef5-a467-46ed-8fa0-1d7a566955e3"
      },
      "source": [
        "np.concatenate((a,a),axis=0) \n",
        "#axis=0은 세로"
      ],
      "execution_count": null,
      "outputs": [
        {
          "output_type": "execute_result",
          "data": {
            "text/plain": [
              "array([[1, 2],\n",
              "       [3, 4],\n",
              "       [1, 2],\n",
              "       [3, 4]])"
            ]
          },
          "metadata": {
            "tags": []
          },
          "execution_count": 21
        }
      ]
    },
    {
      "cell_type": "code",
      "metadata": {
        "id": "SsWdBID6qCj7",
        "colab_type": "code",
        "colab": {
          "base_uri": "https://localhost:8080/",
          "height": 52
        },
        "outputId": "ec347eaf-e98d-4aee-e476-a2fdf43ed85b"
      },
      "source": [
        "np.concatenate((a,a),axis=1)\n",
        "#axis=1은 가로"
      ],
      "execution_count": null,
      "outputs": [
        {
          "output_type": "execute_result",
          "data": {
            "text/plain": [
              "array([[1, 2, 1, 2],\n",
              "       [3, 4, 3, 4]])"
            ]
          },
          "metadata": {
            "tags": []
          },
          "execution_count": 22
        }
      ]
    },
    {
      "cell_type": "markdown",
      "metadata": {
        "id": "hWTxUDh0qU7W",
        "colab_type": "text"
      },
      "source": [
        "# BroadCasting\n",
        "\n",
        " 일정조건을 부합하는 다른 형태의 배열끼리 연산을 수행하는 것.\n",
        "\n",
        "1.맴버가 하나인 배열은 어떤 배열이나 브로드캐스팅이가능\n",
        "\n",
        "2.하나의 배열의 차원이 1인 경우 브로드캐스팅가능\n",
        "\n",
        "3.차원의 짝이 맞을 떄 브로드캐스팅가능\n",
        "\n",
        "\n",
        "\n"
      ]
    },
    {
      "cell_type": "code",
      "metadata": {
        "id": "szwZAb-p1IUc",
        "colab_type": "code",
        "colab": {
          "base_uri": "https://localhost:8080/",
          "height": 34
        },
        "outputId": "75fe862f-379a-4f72-9707-afc172755941"
      },
      "source": [
        "a = np.array([1.0, 2.0, 3.0])\n",
        "b = np.array([2.0, 2.0, 2.0])\n",
        "a+b"
      ],
      "execution_count": null,
      "outputs": [
        {
          "output_type": "execute_result",
          "data": {
            "text/plain": [
              "array([3., 4., 5.])"
            ]
          },
          "metadata": {
            "tags": []
          },
          "execution_count": 24
        }
      ]
    },
    {
      "cell_type": "code",
      "metadata": {
        "id": "RDgOn6oe1ga1",
        "colab_type": "code",
        "colab": {
          "base_uri": "https://localhost:8080/",
          "height": 34
        },
        "outputId": "549c7c3c-74bc-4df0-9536-ea0ac79e98ef"
      },
      "source": [
        "a = np.array([1.0, 2.0, 3.0])\n",
        "b = 2.0\n",
        "a+b"
      ],
      "execution_count": null,
      "outputs": [
        {
          "output_type": "execute_result",
          "data": {
            "text/plain": [
              "array([3., 4., 5.])"
            ]
          },
          "metadata": {
            "tags": []
          },
          "execution_count": 26
        }
      ]
    },
    {
      "cell_type": "code",
      "metadata": {
        "id": "mHNZiaTZ1fnP",
        "colab_type": "code",
        "colab": {
          "base_uri": "https://localhost:8080/",
          "height": 87
        },
        "outputId": "14162ae4-26dd-4c37-bbe8-3c37492ab81a"
      },
      "source": [
        " a= np.array([[1],\n",
        "             [2],\n",
        "             [3],\n",
        "             [4]])\n",
        " b=2\n",
        " a+b\n"
      ],
      "execution_count": null,
      "outputs": [
        {
          "output_type": "execute_result",
          "data": {
            "text/plain": [
              "array([[3],\n",
              "       [4],\n",
              "       [5],\n",
              "       [6]])"
            ]
          },
          "metadata": {
            "tags": []
          },
          "execution_count": 31
        }
      ]
    },
    {
      "cell_type": "code",
      "metadata": {
        "id": "Ad7sO6mc2MAw",
        "colab_type": "code",
        "colab": {
          "base_uri": "https://localhost:8080/",
          "height": 87
        },
        "outputId": "d2d88056-24b4-4bb9-8083-aad906d6ad3d"
      },
      "source": [
        " a= np.array([[1],\n",
        "             [2],\n",
        "             [3],\n",
        "             [4]])\n",
        " \n",
        " b = [1,2,3,4]\n",
        "\n",
        " a+b"
      ],
      "execution_count": null,
      "outputs": [
        {
          "output_type": "execute_result",
          "data": {
            "text/plain": [
              "array([[2, 3, 4, 5],\n",
              "       [3, 4, 5, 6],\n",
              "       [4, 5, 6, 7],\n",
              "       [5, 6, 7, 8]])"
            ]
          },
          "metadata": {
            "tags": []
          },
          "execution_count": 34
        }
      ]
    },
    {
      "cell_type": "code",
      "metadata": {
        "id": "i5PbzMUM24ob",
        "colab_type": "code",
        "colab": {
          "base_uri": "https://localhost:8080/",
          "height": 87
        },
        "outputId": "55ebd956-3ea0-44da-ff31-bf9c97732b22"
      },
      "source": [
        "a= np.array([[1],\n",
        "             [2],\n",
        "             [3],\n",
        "             [4]])\n",
        " \n",
        "b= np.array([[1],\n",
        "             [2],\n",
        "             [3],\n",
        "             [4]])\n",
        "\n",
        "a+b"
      ],
      "execution_count": null,
      "outputs": [
        {
          "output_type": "execute_result",
          "data": {
            "text/plain": [
              "array([[2],\n",
              "       [4],\n",
              "       [6],\n",
              "       [8]])"
            ]
          },
          "metadata": {
            "tags": []
          },
          "execution_count": 35
        }
      ]
    },
    {
      "cell_type": "markdown",
      "metadata": {
        "id": "owcES0Qk3BhO",
        "colab_type": "text"
      },
      "source": [
        "# 2차원 브로드캐스팅"
      ]
    },
    {
      "cell_type": "code",
      "metadata": {
        "id": "f8dFuh2l3DbA",
        "colab_type": "code",
        "colab": {
          "base_uri": "https://localhost:8080/",
          "height": 87
        },
        "outputId": "caf71f40-6059-4961-87ee-f1f217651940"
      },
      "source": [
        "a = np.array([[ 0.0,  0.0,  0.0],\n",
        "              [10.0, 10.0, 10.0],\n",
        "              [20.0, 20.0, 20.0],\n",
        "              [30.0, 30.0, 30.0]])\n",
        "\n",
        "b = np.array([1.0, 2.0, 3.0])\n",
        "\n",
        "a + b"
      ],
      "execution_count": null,
      "outputs": [
        {
          "output_type": "execute_result",
          "data": {
            "text/plain": [
              "array([[ 1.,  2.,  3.],\n",
              "       [11., 12., 13.],\n",
              "       [21., 22., 23.],\n",
              "       [31., 32., 33.]])"
            ]
          },
          "metadata": {
            "tags": []
          },
          "execution_count": 36
        }
      ]
    },
    {
      "cell_type": "code",
      "metadata": {
        "id": "_Eut9D0l3NiM",
        "colab_type": "code",
        "colab": {
          "base_uri": "https://localhost:8080/",
          "height": 87
        },
        "outputId": "f094ea4b-16e3-4269-a189-e8e580933214"
      },
      "source": [
        "a = np.array([[ 0.0,  0.0,  0.0],\n",
        "              [10.0, 10.0, 10.0],\n",
        "              [20.0, 20.0, 20.0],\n",
        "              [30.0, 30.0, 30.0]])\n",
        "b=[[1]]\n",
        "a+b"
      ],
      "execution_count": null,
      "outputs": [
        {
          "output_type": "execute_result",
          "data": {
            "text/plain": [
              "array([[ 1.,  1.,  1.],\n",
              "       [11., 11., 11.],\n",
              "       [21., 21., 21.],\n",
              "       [31., 31., 31.]])"
            ]
          },
          "metadata": {
            "tags": []
          },
          "execution_count": 39
        }
      ]
    },
    {
      "cell_type": "markdown",
      "metadata": {
        "id": "eSVguERV3eJY",
        "colab_type": "text"
      },
      "source": [
        "# newaxis사용\n",
        "newaxis = 행렬로 차원 확장에 사용됨\n",
        "\n",
        "행 부분에 np.newaxis를 입력시, 차원을 한 단계 추가합니다.\n",
        "\n",
        "열 부분에 np.newaxis를 입력시, 차원을 분해한 후 한 단계 추가합니다.\n"
      ]
    },
    {
      "cell_type": "code",
      "metadata": {
        "id": "LzbVRS633kcZ",
        "colab_type": "code",
        "colab": {
          "base_uri": "https://localhost:8080/",
          "height": 34
        },
        "outputId": "f107d21d-a15d-4e18-cfd3-a8d2acc976a1"
      },
      "source": [
        "a = np.array([1,2,3,4])\n",
        "arr = a[np.newaxis,:]\n",
        "#행부분에 np.newaxis 차원을 한 단계 추가\n",
        "\n",
        "arr"
      ],
      "execution_count": null,
      "outputs": [
        {
          "output_type": "execute_result",
          "data": {
            "text/plain": [
              "array([[1, 2, 3, 4]])"
            ]
          },
          "metadata": {
            "tags": []
          },
          "execution_count": 42
        }
      ]
    },
    {
      "cell_type": "code",
      "metadata": {
        "id": "3QzT2GAK41tY",
        "colab_type": "code",
        "colab": {
          "base_uri": "https://localhost:8080/",
          "height": 87
        },
        "outputId": "b69a1d63-9d82-499a-e88e-9d468f128ce1"
      },
      "source": [
        "a = np.array([1,2,3,4])\n",
        "arr = a[:,np.newaxis]\n",
        "#열부분에 np.newaxis 차원을 분해한 후  한 단계 추가\n",
        "\n",
        "arr"
      ],
      "execution_count": null,
      "outputs": [
        {
          "output_type": "execute_result",
          "data": {
            "text/plain": [
              "array([[1],\n",
              "       [2],\n",
              "       [3],\n",
              "       [4]])"
            ]
          },
          "metadata": {
            "tags": []
          },
          "execution_count": 44
        }
      ]
    },
    {
      "cell_type": "code",
      "metadata": {
        "id": "dlsjL3dI5UCZ",
        "colab_type": "code",
        "colab": {
          "base_uri": "https://localhost:8080/",
          "height": 87
        },
        "outputId": "1a96ac93-540d-4742-84c9-63b996b199c4"
      },
      "source": [
        "a = np.array([1,2,3,4])\n",
        "arr = a[:,np.newaxis]\n",
        "\n",
        "#[[1],\n",
        "#[2],\n",
        "#[3],\n",
        "#[4]])\n",
        "\n",
        "b = 3\n",
        "\n",
        "arr+b"
      ],
      "execution_count": null,
      "outputs": [
        {
          "output_type": "execute_result",
          "data": {
            "text/plain": [
              "array([[4],\n",
              "       [5],\n",
              "       [6],\n",
              "       [7]])"
            ]
          },
          "metadata": {
            "tags": []
          },
          "execution_count": 49
        }
      ]
    }
  ]
}