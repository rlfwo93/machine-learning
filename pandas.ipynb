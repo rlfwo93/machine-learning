{
  "nbformat": 4,
  "nbformat_minor": 0,
  "metadata": {
    "colab": {
      "name": "Untitled12.ipynb",
      "provenance": [],
      "authorship_tag": "ABX9TyNizLZS8NAUFMAAzcYFTZmb",
      "include_colab_link": true
    },
    "kernelspec": {
      "name": "python3",
      "display_name": "Python 3"
    }
  },
  "cells": [
    {
      "cell_type": "markdown",
      "metadata": {
        "id": "view-in-github",
        "colab_type": "text"
      },
      "source": [
        "<a href=\"https://colab.research.google.com/github/rlfwo93/machine-learning/blob/master/pandas.ipynb\" target=\"_parent\"><img src=\"https://colab.research.google.com/assets/colab-badge.svg\" alt=\"Open In Colab\"/></a>"
      ]
    },
    {
      "cell_type": "markdown",
      "metadata": {
        "id": "O3mt9p-Q2jTu"
      },
      "source": [
        "# **(Pandas) 판다스란 ?**\n",
        "-  Pandas는 python 파이썬 외부 공학용 라이브러리\n",
        "\n",
        "-  andas는 파이썬에서 사용하는 데이터분석 라이브러리로, 행과 열로 이루어진 데이터 객체를 만들어 다룰 수 있게 되며 보다 안정적으로 대용량의 데이터들을 처리하는데 매우 편리한 도구\n",
        "\n",
        "-  데이터를 표 형태의 데이터프레임에 넣어서 쉽게 이용할 수 있게 해주는데, 쉽게 말해서 파이썬의 엑셀 "
      ]
    },
    {
      "cell_type": "code",
      "metadata": {
        "id": "NjPhvhAW3HSP"
      },
      "source": [
        "import pandas as pd #판다스 모듈\n",
        "import numpy as np  # 넘파이 모듈\n",
        "import matplotlib.pyplot as plt #플롯립 모듈\n",
        "%matplotlib inline"
      ],
      "execution_count": 2,
      "outputs": []
    },
    {
      "cell_type": "markdown",
      "metadata": {
        "id": "Ca8bjHnY54WA"
      },
      "source": [
        "# **Series**\n",
        "-  1차원 데이터 \n",
        "-  엑셀형식으로 왼쪽에는 인덱스숫자가 나오고 오른쪽엔 입력한 값이 나옴.\n",
        "-  1차원 배열로 데이터를 담고있음.\n"
      ]
    },
    {
      "cell_type": "code",
      "metadata": {
        "id": "mkEfiyM63L53",
        "outputId": "d9e192fc-4179-4b12-92cf-b026e4c23a61",
        "colab": {
          "base_uri": "https://localhost:8080/",
          "height": 145
        }
      },
      "source": [
        "s = pd.Series([1,3,5,np.random.randn(1),6,8],index=[\"a\",\"b\",\"c\",\"d\",\"e\",\"f\"] )\n",
        "s\n",
        "# 엑셀형식으로 왼쪽에는 인덱스숫자가 나오고 오른쪽엔 입력한 값이 나옴.\n",
        "#Series에 값을 넣을땐 배열 형식으로 넣음.\n",
        "# 입력하는값에 float형이 하나라도 있으면 값 전체를 float형으로 출력.\n",
        "#인덱스 항목을 넣어서 인덱스를 설정 할 수 있음."
      ],
      "execution_count": null,
      "outputs": [
        {
          "output_type": "execute_result",
          "data": {
            "text/plain": [
              "a                        1\n",
              "b                        3\n",
              "c                        5\n",
              "d    [0.09024155649591789]\n",
              "e                        6\n",
              "f                        8\n",
              "dtype: object"
            ]
          },
          "metadata": {
            "tags": []
          },
          "execution_count": 9
        }
      ]
    },
    {
      "cell_type": "code",
      "metadata": {
        "id": "C8twziCdU8sr"
      },
      "source": [
        "s"
      ],
      "execution_count": null,
      "outputs": []
    },
    {
      "cell_type": "code",
      "metadata": {
        "id": "jU44bwN87XOO",
        "outputId": "bbbec656-08d0-47c3-f0d9-c4912ea13348",
        "colab": {
          "base_uri": "https://localhost:8080/",
          "height": 126
        }
      },
      "source": [
        "obj = pd.Series([4, 7, -5, 3])\n",
        "obj.name = \"Pratice\" # obj의 이름을 설정,\n",
        "obj.index.name = \"number\" # 인덱스의 제목\n",
        "obj\n",
        "\n",
        "#입력값이 전부 int형이기때문에 모든값이 int형로 출력되며 데이터 타입이 int"
      ],
      "execution_count": null,
      "outputs": [
        {
          "output_type": "execute_result",
          "data": {
            "text/plain": [
              "number\n",
              "0    4\n",
              "1    7\n",
              "2   -5\n",
              "3    3\n",
              "Name: Pratice, dtype: int64"
            ]
          },
          "metadata": {
            "tags": []
          },
          "execution_count": 6
        }
      ]
    },
    {
      "cell_type": "markdown",
      "metadata": {
        "id": "iwDNst6y9i85"
      },
      "source": [
        "# date_range \n",
        "-  시계열 데이터 설정\n",
        "-  freq 값을 s,d,m 등을 넣어서 원하는 시간데이터를 출력할 수 있음.\n"
      ]
    },
    {
      "cell_type": "code",
      "metadata": {
        "id": "ugFMX4qG5_N9",
        "outputId": "092ba0c9-25d0-49da-9f89-b715540fc30d",
        "colab": {
          "base_uri": "https://localhost:8080/",
          "height": 35
        }
      },
      "source": [
        "dates = pd.date_range(\"20201115\",periods=4,freq =\"d\") \n",
        "#periods 는 몇개의 값을 출력할지 설정.\n",
        "#입력한 값부터 perods로 설정한 값만큼 날짜가 증가하여 출력.\n",
        "#freq가 디폴트 값으로 D로 설정되어서 일별로 증가하여 출력됨.\n",
        "dates"
      ],
      "execution_count": 18,
      "outputs": [
        {
          "output_type": "execute_result",
          "data": {
            "text/plain": [
              "DatetimeIndex(['2020-11-15', '2020-11-16', '2020-11-17', '2020-11-18'], dtype='datetime64[ns]', freq='D')"
            ]
          },
          "metadata": {
            "tags": []
          },
          "execution_count": 18
        }
      ]
    },
    {
      "cell_type": "code",
      "metadata": {
        "id": "XmXBfURi-mXK",
        "outputId": "8cd23200-62fc-4a40-9398-2b9184e60a04",
        "colab": {
          "base_uri": "https://localhost:8080/",
          "height": 181
        }
      },
      "source": [
        "dates1 = pd.date_range(start = \"20190101\", end = \"20190201\")\n",
        "dates1\n",
        "#start값과 end 값을 주어서 명시적으로 출력."
      ],
      "execution_count": null,
      "outputs": [
        {
          "output_type": "execute_result",
          "data": {
            "text/plain": [
              "DatetimeIndex(['2019-01-01', '2019-01-02', '2019-01-03', '2019-01-04',\n",
              "               '2019-01-05', '2019-01-06', '2019-01-07', '2019-01-08',\n",
              "               '2019-01-09', '2019-01-10', '2019-01-11', '2019-01-12',\n",
              "               '2019-01-13', '2019-01-14', '2019-01-15', '2019-01-16',\n",
              "               '2019-01-17', '2019-01-18', '2019-01-19', '2019-01-20',\n",
              "               '2019-01-21', '2019-01-22', '2019-01-23', '2019-01-24',\n",
              "               '2019-01-25', '2019-01-26', '2019-01-27', '2019-01-28',\n",
              "               '2019-01-29', '2019-01-30', '2019-01-31', '2019-02-01'],\n",
              "              dtype='datetime64[ns]', freq='D')"
            ]
          },
          "metadata": {
            "tags": []
          },
          "execution_count": 2
        }
      ]
    },
    {
      "cell_type": "code",
      "metadata": {
        "id": "miyFe5Xm_Y_S",
        "outputId": "88798d8e-a619-47a3-a1a8-eb42b72a3b7f",
        "colab": {
          "base_uri": "https://localhost:8080/",
          "height": 126
        }
      },
      "source": [
        "dates2 = pd.date_range(\"20190101\",periods=10,freq=\"s\")\n",
        "dates2\n",
        "# freq값을 s로 입력하여 초단위로 출력\n"
      ],
      "execution_count": null,
      "outputs": [
        {
          "output_type": "execute_result",
          "data": {
            "text/plain": [
              "DatetimeIndex(['2019-01-01 00:00:00', '2019-01-01 00:00:01',\n",
              "               '2019-01-01 00:00:02', '2019-01-01 00:00:03',\n",
              "               '2019-01-01 00:00:04', '2019-01-01 00:00:05',\n",
              "               '2019-01-01 00:00:06', '2019-01-01 00:00:07',\n",
              "               '2019-01-01 00:00:08', '2019-01-01 00:00:09'],\n",
              "              dtype='datetime64[ns]', freq='S')"
            ]
          },
          "metadata": {
            "tags": []
          },
          "execution_count": 4
        }
      ]
    },
    {
      "cell_type": "markdown",
      "metadata": {
        "id": "baCEdTXlC2iA"
      },
      "source": [
        "\n",
        "# **데이터프레임 (DataFrame)**\n",
        "-  2차원 데이터\n",
        "-  다차원 데이터 \n",
        "-  2차원 행렬 데이터를 담고 있음."
      ]
    },
    {
      "cell_type": "code",
      "metadata": {
        "id": "57W1T49vAPCs",
        "outputId": "530d82eb-864a-4b02-d021-118eb94fcb70",
        "colab": {
          "base_uri": "https://localhost:8080/",
          "height": 168
        }
      },
      "source": [
        "df = pd.DataFrame([(4,9,3,1),(5,2,3,7),(3,6,4,1),(1,5,4,3)],index =dates, columns= (\"a\",\"b\",\"c\",\"d\"))\n",
        "df\n",
        "\n",
        "#맨첫번째 입력한 값은 실제출력되는 값.\n",
        "#index 인덱스 값을 설정.\n",
        "# columns는 위에 항목의 값을 설정."
      ],
      "execution_count": 3,
      "outputs": [
        {
          "output_type": "execute_result",
          "data": {
            "text/html": [
              "<div>\n",
              "<style scoped>\n",
              "    .dataframe tbody tr th:only-of-type {\n",
              "        vertical-align: middle;\n",
              "    }\n",
              "\n",
              "    .dataframe tbody tr th {\n",
              "        vertical-align: top;\n",
              "    }\n",
              "\n",
              "    .dataframe thead th {\n",
              "        text-align: right;\n",
              "    }\n",
              "</style>\n",
              "<table border=\"1\" class=\"dataframe\">\n",
              "  <thead>\n",
              "    <tr style=\"text-align: right;\">\n",
              "      <th></th>\n",
              "      <th>a</th>\n",
              "      <th>b</th>\n",
              "      <th>c</th>\n",
              "      <th>d</th>\n",
              "    </tr>\n",
              "  </thead>\n",
              "  <tbody>\n",
              "    <tr>\n",
              "      <th>2020-11-15</th>\n",
              "      <td>4</td>\n",
              "      <td>9</td>\n",
              "      <td>3</td>\n",
              "      <td>1</td>\n",
              "    </tr>\n",
              "    <tr>\n",
              "      <th>2020-11-16</th>\n",
              "      <td>5</td>\n",
              "      <td>2</td>\n",
              "      <td>3</td>\n",
              "      <td>7</td>\n",
              "    </tr>\n",
              "    <tr>\n",
              "      <th>2020-11-17</th>\n",
              "      <td>3</td>\n",
              "      <td>6</td>\n",
              "      <td>4</td>\n",
              "      <td>1</td>\n",
              "    </tr>\n",
              "    <tr>\n",
              "      <th>2020-11-18</th>\n",
              "      <td>1</td>\n",
              "      <td>5</td>\n",
              "      <td>4</td>\n",
              "      <td>3</td>\n",
              "    </tr>\n",
              "  </tbody>\n",
              "</table>\n",
              "</div>"
            ],
            "text/plain": [
              "            a  b  c  d\n",
              "2020-11-15  4  9  3  1\n",
              "2020-11-16  5  2  3  7\n",
              "2020-11-17  3  6  4  1\n",
              "2020-11-18  1  5  4  3"
            ]
          },
          "metadata": {
            "tags": []
          },
          "execution_count": 3
        }
      ]
    },
    {
      "cell_type": "code",
      "metadata": {
        "id": "C45BI8M8SRFZ",
        "outputId": "827fd74c-df7c-4e55-a4e9-6bfc2691cf0a",
        "colab": {
          "base_uri": "https://localhost:8080/",
          "height": 168
        }
      },
      "source": [
        "df2 = pd.DataFrame({'A': 1.,\n",
        "                    'B': pd.Timestamp('20130102'),\n",
        "                    'C': pd.Series(1, index=list(range(4)), dtype='float32'),\n",
        "                    'D': np.array([3]*4, dtype='int32'),\n",
        "                    'E': pd.Categorical(['test', 'train', 'test', 'train']),\n",
        "                    'F': 'foo'},\n",
        "                    index=(\"a\",\"b\",\"c\",\"d\"))\n",
        "df2"
      ],
      "execution_count": null,
      "outputs": [
        {
          "output_type": "execute_result",
          "data": {
            "text/html": [
              "<div>\n",
              "<style scoped>\n",
              "    .dataframe tbody tr th:only-of-type {\n",
              "        vertical-align: middle;\n",
              "    }\n",
              "\n",
              "    .dataframe tbody tr th {\n",
              "        vertical-align: top;\n",
              "    }\n",
              "\n",
              "    .dataframe thead th {\n",
              "        text-align: right;\n",
              "    }\n",
              "</style>\n",
              "<table border=\"1\" class=\"dataframe\">\n",
              "  <thead>\n",
              "    <tr style=\"text-align: right;\">\n",
              "      <th></th>\n",
              "      <th>A</th>\n",
              "      <th>B</th>\n",
              "      <th>C</th>\n",
              "      <th>D</th>\n",
              "      <th>E</th>\n",
              "      <th>F</th>\n",
              "    </tr>\n",
              "  </thead>\n",
              "  <tbody>\n",
              "    <tr>\n",
              "      <th>a</th>\n",
              "      <td>1.0</td>\n",
              "      <td>2013-01-02</td>\n",
              "      <td>NaN</td>\n",
              "      <td>3</td>\n",
              "      <td>test</td>\n",
              "      <td>foo</td>\n",
              "    </tr>\n",
              "    <tr>\n",
              "      <th>b</th>\n",
              "      <td>1.0</td>\n",
              "      <td>2013-01-02</td>\n",
              "      <td>NaN</td>\n",
              "      <td>3</td>\n",
              "      <td>train</td>\n",
              "      <td>foo</td>\n",
              "    </tr>\n",
              "    <tr>\n",
              "      <th>c</th>\n",
              "      <td>1.0</td>\n",
              "      <td>2013-01-02</td>\n",
              "      <td>NaN</td>\n",
              "      <td>3</td>\n",
              "      <td>test</td>\n",
              "      <td>foo</td>\n",
              "    </tr>\n",
              "    <tr>\n",
              "      <th>d</th>\n",
              "      <td>1.0</td>\n",
              "      <td>2013-01-02</td>\n",
              "      <td>NaN</td>\n",
              "      <td>3</td>\n",
              "      <td>train</td>\n",
              "      <td>foo</td>\n",
              "    </tr>\n",
              "  </tbody>\n",
              "</table>\n",
              "</div>"
            ],
            "text/plain": [
              "     A          B   C  D      E    F\n",
              "a  1.0 2013-01-02 NaN  3   test  foo\n",
              "b  1.0 2013-01-02 NaN  3  train  foo\n",
              "c  1.0 2013-01-02 NaN  3   test  foo\n",
              "d  1.0 2013-01-02 NaN  3  train  foo"
            ]
          },
          "metadata": {
            "tags": []
          },
          "execution_count": 50
        }
      ]
    },
    {
      "cell_type": "code",
      "metadata": {
        "id": "USTKam_CGmtH",
        "outputId": "46defeab-e6c0-4e4e-b0e9-e731a3990379",
        "colab": {
          "base_uri": "https://localhost:8080/",
          "height": 168
        }
      },
      "source": [
        "dic =  {'A': 1,\n",
        "        'B': pd.date_range('20130102',periods=4 ),\n",
        "        'C': pd.Series(1, index=list(range(4)), dtype='float32'),\n",
        "        'D': np.array([3]*4, dtype='int32'),\n",
        "        'E': pd.Categorical(['test', 'train', 'test', 'train']),\n",
        "        'F': 'foo'}\n",
        "\n",
        "pda = pd.DataFrame(dic,index = (\"a\",\"b\",\"c\",\"d\"))\n",
        "pda\n"
      ],
      "execution_count": null,
      "outputs": [
        {
          "output_type": "execute_result",
          "data": {
            "text/html": [
              "<div>\n",
              "<style scoped>\n",
              "    .dataframe tbody tr th:only-of-type {\n",
              "        vertical-align: middle;\n",
              "    }\n",
              "\n",
              "    .dataframe tbody tr th {\n",
              "        vertical-align: top;\n",
              "    }\n",
              "\n",
              "    .dataframe thead th {\n",
              "        text-align: right;\n",
              "    }\n",
              "</style>\n",
              "<table border=\"1\" class=\"dataframe\">\n",
              "  <thead>\n",
              "    <tr style=\"text-align: right;\">\n",
              "      <th></th>\n",
              "      <th>A</th>\n",
              "      <th>B</th>\n",
              "      <th>C</th>\n",
              "      <th>D</th>\n",
              "      <th>E</th>\n",
              "      <th>F</th>\n",
              "    </tr>\n",
              "  </thead>\n",
              "  <tbody>\n",
              "    <tr>\n",
              "      <th>a</th>\n",
              "      <td>1</td>\n",
              "      <td>2013-01-02</td>\n",
              "      <td>NaN</td>\n",
              "      <td>3</td>\n",
              "      <td>test</td>\n",
              "      <td>foo</td>\n",
              "    </tr>\n",
              "    <tr>\n",
              "      <th>b</th>\n",
              "      <td>1</td>\n",
              "      <td>2013-01-03</td>\n",
              "      <td>NaN</td>\n",
              "      <td>3</td>\n",
              "      <td>train</td>\n",
              "      <td>foo</td>\n",
              "    </tr>\n",
              "    <tr>\n",
              "      <th>c</th>\n",
              "      <td>1</td>\n",
              "      <td>2013-01-04</td>\n",
              "      <td>NaN</td>\n",
              "      <td>3</td>\n",
              "      <td>test</td>\n",
              "      <td>foo</td>\n",
              "    </tr>\n",
              "    <tr>\n",
              "      <th>d</th>\n",
              "      <td>1</td>\n",
              "      <td>2013-01-05</td>\n",
              "      <td>NaN</td>\n",
              "      <td>3</td>\n",
              "      <td>train</td>\n",
              "      <td>foo</td>\n",
              "    </tr>\n",
              "  </tbody>\n",
              "</table>\n",
              "</div>"
            ],
            "text/plain": [
              "   A          B   C  D      E    F\n",
              "a  1 2013-01-02 NaN  3   test  foo\n",
              "b  1 2013-01-03 NaN  3  train  foo\n",
              "c  1 2013-01-04 NaN  3   test  foo\n",
              "d  1 2013-01-05 NaN  3  train  foo"
            ]
          },
          "metadata": {
            "tags": []
          },
          "execution_count": 143
        }
      ]
    },
    {
      "cell_type": "markdown",
      "metadata": {
        "id": "gLDLXG2JJT7a"
      },
      "source": [
        "# **[2] Handling data**\n",
        "\n",
        "-   head() : 맨처음부터 인덱스 값을 보여줌\n",
        "-   tail() : 뒤에서부터 인덱스 값을 보여줌\n",
        "-   describe() : 데이터의 통계적 평균을 보여줌 \n",
        "-   df.columns : columns 값을 보여줌 "
      ]
    },
    {
      "cell_type": "code",
      "metadata": {
        "id": "41cfqXkDJje5",
        "outputId": "c6b27619-62b4-40d3-aca3-889b631e2b4c",
        "colab": {
          "base_uri": "https://localhost:8080/",
          "height": 168
        }
      },
      "source": [
        "df = pd.DataFrame([(4,9,3,1),(5,2,3,7),(3,6,4,1),(1,5,4,3)],index =dates, columns= (\"a\",\"b\",\"c\",\"d\"))\n",
        "df"
      ],
      "execution_count": 29,
      "outputs": [
        {
          "output_type": "execute_result",
          "data": {
            "text/html": [
              "<div>\n",
              "<style scoped>\n",
              "    .dataframe tbody tr th:only-of-type {\n",
              "        vertical-align: middle;\n",
              "    }\n",
              "\n",
              "    .dataframe tbody tr th {\n",
              "        vertical-align: top;\n",
              "    }\n",
              "\n",
              "    .dataframe thead th {\n",
              "        text-align: right;\n",
              "    }\n",
              "</style>\n",
              "<table border=\"1\" class=\"dataframe\">\n",
              "  <thead>\n",
              "    <tr style=\"text-align: right;\">\n",
              "      <th></th>\n",
              "      <th>a</th>\n",
              "      <th>b</th>\n",
              "      <th>c</th>\n",
              "      <th>d</th>\n",
              "    </tr>\n",
              "  </thead>\n",
              "  <tbody>\n",
              "    <tr>\n",
              "      <th>2020-11-15</th>\n",
              "      <td>4</td>\n",
              "      <td>9</td>\n",
              "      <td>3</td>\n",
              "      <td>1</td>\n",
              "    </tr>\n",
              "    <tr>\n",
              "      <th>2020-11-16</th>\n",
              "      <td>5</td>\n",
              "      <td>2</td>\n",
              "      <td>3</td>\n",
              "      <td>7</td>\n",
              "    </tr>\n",
              "    <tr>\n",
              "      <th>2020-11-17</th>\n",
              "      <td>3</td>\n",
              "      <td>6</td>\n",
              "      <td>4</td>\n",
              "      <td>1</td>\n",
              "    </tr>\n",
              "    <tr>\n",
              "      <th>2020-11-18</th>\n",
              "      <td>1</td>\n",
              "      <td>5</td>\n",
              "      <td>4</td>\n",
              "      <td>3</td>\n",
              "    </tr>\n",
              "  </tbody>\n",
              "</table>\n",
              "</div>"
            ],
            "text/plain": [
              "            a  b  c  d\n",
              "2020-11-15  4  9  3  1\n",
              "2020-11-16  5  2  3  7\n",
              "2020-11-17  3  6  4  1\n",
              "2020-11-18  1  5  4  3"
            ]
          },
          "metadata": {
            "tags": []
          },
          "execution_count": 29
        }
      ]
    },
    {
      "cell_type": "code",
      "metadata": {
        "id": "N_2LrmRbJd3y",
        "outputId": "c034d6eb-3c0d-448e-a0e6-65e1004fd9dc",
        "colab": {
          "base_uri": "https://localhost:8080/",
          "height": 138
        }
      },
      "source": [
        "df.head(3) #헤드는 데이터프레임중에서 원하는 인덱스값만큼 출력.\n",
        "#디폴트값은 5"
      ],
      "execution_count": null,
      "outputs": [
        {
          "output_type": "execute_result",
          "data": {
            "text/html": [
              "<div>\n",
              "<style scoped>\n",
              "    .dataframe tbody tr th:only-of-type {\n",
              "        vertical-align: middle;\n",
              "    }\n",
              "\n",
              "    .dataframe tbody tr th {\n",
              "        vertical-align: top;\n",
              "    }\n",
              "\n",
              "    .dataframe thead th {\n",
              "        text-align: right;\n",
              "    }\n",
              "</style>\n",
              "<table border=\"1\" class=\"dataframe\">\n",
              "  <thead>\n",
              "    <tr style=\"text-align: right;\">\n",
              "      <th></th>\n",
              "      <th>a</th>\n",
              "      <th>b</th>\n",
              "      <th>c</th>\n",
              "      <th>d</th>\n",
              "    </tr>\n",
              "  </thead>\n",
              "  <tbody>\n",
              "    <tr>\n",
              "      <th>2020-11-15</th>\n",
              "      <td>-2.417591</td>\n",
              "      <td>1.922836</td>\n",
              "      <td>-0.411459</td>\n",
              "      <td>-1.179493</td>\n",
              "    </tr>\n",
              "    <tr>\n",
              "      <th>2020-11-16</th>\n",
              "      <td>0.240926</td>\n",
              "      <td>0.277477</td>\n",
              "      <td>-0.595122</td>\n",
              "      <td>0.434107</td>\n",
              "    </tr>\n",
              "    <tr>\n",
              "      <th>2020-11-17</th>\n",
              "      <td>-0.320556</td>\n",
              "      <td>-1.120485</td>\n",
              "      <td>0.809318</td>\n",
              "      <td>-0.830291</td>\n",
              "    </tr>\n",
              "  </tbody>\n",
              "</table>\n",
              "</div>"
            ],
            "text/plain": [
              "                   a         b         c         d\n",
              "2020-11-15 -2.417591  1.922836 -0.411459 -1.179493\n",
              "2020-11-16  0.240926  0.277477 -0.595122  0.434107\n",
              "2020-11-17 -0.320556 -1.120485  0.809318 -0.830291"
            ]
          },
          "metadata": {
            "tags": []
          },
          "execution_count": 57
        }
      ]
    },
    {
      "cell_type": "code",
      "metadata": {
        "id": "QsqbmrJRcc72",
        "outputId": "c547afa4-aaaf-4fc0-80c5-757258e9c785",
        "colab": {
          "base_uri": "https://localhost:8080/",
          "height": 138
        }
      },
      "source": [
        "df.tail(3) # 테일은 파이썬인덱싱 -1같이 뒤에서부터 값을 출력\n",
        "# 디폴트값 5"
      ],
      "execution_count": null,
      "outputs": [
        {
          "output_type": "execute_result",
          "data": {
            "text/html": [
              "<div>\n",
              "<style scoped>\n",
              "    .dataframe tbody tr th:only-of-type {\n",
              "        vertical-align: middle;\n",
              "    }\n",
              "\n",
              "    .dataframe tbody tr th {\n",
              "        vertical-align: top;\n",
              "    }\n",
              "\n",
              "    .dataframe thead th {\n",
              "        text-align: right;\n",
              "    }\n",
              "</style>\n",
              "<table border=\"1\" class=\"dataframe\">\n",
              "  <thead>\n",
              "    <tr style=\"text-align: right;\">\n",
              "      <th></th>\n",
              "      <th>a</th>\n",
              "      <th>b</th>\n",
              "      <th>c</th>\n",
              "      <th>d</th>\n",
              "    </tr>\n",
              "  </thead>\n",
              "  <tbody>\n",
              "    <tr>\n",
              "      <th>2020-11-18</th>\n",
              "      <td>1.101119</td>\n",
              "      <td>-1.187997</td>\n",
              "      <td>0.486765</td>\n",
              "      <td>0.736575</td>\n",
              "    </tr>\n",
              "    <tr>\n",
              "      <th>2020-11-19</th>\n",
              "      <td>-0.240250</td>\n",
              "      <td>0.210699</td>\n",
              "      <td>-0.708597</td>\n",
              "      <td>-0.576366</td>\n",
              "    </tr>\n",
              "    <tr>\n",
              "      <th>2020-11-20</th>\n",
              "      <td>-1.436088</td>\n",
              "      <td>-0.635727</td>\n",
              "      <td>-1.500996</td>\n",
              "      <td>1.320064</td>\n",
              "    </tr>\n",
              "  </tbody>\n",
              "</table>\n",
              "</div>"
            ],
            "text/plain": [
              "                   a         b         c         d\n",
              "2020-11-18  1.101119 -1.187997  0.486765  0.736575\n",
              "2020-11-19 -0.240250  0.210699 -0.708597 -0.576366\n",
              "2020-11-20 -1.436088 -0.635727 -1.500996  1.320064"
            ]
          },
          "metadata": {
            "tags": []
          },
          "execution_count": 60
        }
      ]
    },
    {
      "cell_type": "code",
      "metadata": {
        "id": "U2bGpqPVcvzR",
        "outputId": "3eec918f-0aae-4996-b540-7402030b39dc",
        "colab": {
          "base_uri": "https://localhost:8080/",
          "height": 72
        }
      },
      "source": [
        "df.index #df인덱스값을 보여줌."
      ],
      "execution_count": null,
      "outputs": [
        {
          "output_type": "execute_result",
          "data": {
            "text/plain": [
              "DatetimeIndex(['2020-11-15', '2020-11-16', '2020-11-17', '2020-11-18',\n",
              "               '2020-11-19', '2020-11-20'],\n",
              "              dtype='datetime64[ns]', freq='D')"
            ]
          },
          "metadata": {
            "tags": []
          },
          "execution_count": 61
        }
      ]
    },
    {
      "cell_type": "code",
      "metadata": {
        "id": "Ji1bbhWcc816",
        "outputId": "d00956de-9926-402c-c952-9992679daf23",
        "colab": {
          "base_uri": "https://localhost:8080/",
          "height": 145
        }
      },
      "source": [
        "df.describe #데이터에 대한 통계적 요약"
      ],
      "execution_count": null,
      "outputs": [
        {
          "output_type": "execute_result",
          "data": {
            "text/plain": [
              "<bound method NDFrame.describe of                    a         b         c         d\n",
              "2020-11-15 -2.417591  1.922836 -0.411459 -1.179493\n",
              "2020-11-16  0.240926  0.277477 -0.595122  0.434107\n",
              "2020-11-17 -0.320556 -1.120485  0.809318 -0.830291\n",
              "2020-11-18  1.101119 -1.187997  0.486765  0.736575\n",
              "2020-11-19 -0.240250  0.210699 -0.708597 -0.576366\n",
              "2020-11-20 -1.436088 -0.635727 -1.500996  1.320064>"
            ]
          },
          "metadata": {
            "tags": []
          },
          "execution_count": 62
        }
      ]
    },
    {
      "cell_type": "code",
      "metadata": {
        "id": "TA8v6pIRecob",
        "outputId": "9ac4ec49-98fe-4ccb-f68d-7d50e97364b7",
        "colab": {
          "base_uri": "https://localhost:8080/",
          "height": 35
        }
      },
      "source": [
        "df.columns"
      ],
      "execution_count": null,
      "outputs": [
        {
          "output_type": "execute_result",
          "data": {
            "text/plain": [
              "Index(['a', 'b', 'c', 'd'], dtype='object')"
            ]
          },
          "metadata": {
            "tags": []
          },
          "execution_count": 64
        }
      ]
    },
    {
      "cell_type": "markdown",
      "metadata": {
        "id": "N9eevVJie23D"
      },
      "source": [
        "# **Sorting(정렬)**\n",
        "\n",
        "Sort by index : index를 기준으로 정렬\n",
        "\n",
        "-  sort_index(axis=0, ascending=False)\n",
        "-  sort_index(axis=1, ascending=False)"
      ]
    },
    {
      "cell_type": "code",
      "metadata": {
        "id": "4MB2arcjiy-5",
        "outputId": "089c3c5f-1eca-434c-d060-5601654ec4e8",
        "colab": {
          "base_uri": "https://localhost:8080/",
          "height": 173
        }
      },
      "source": [
        "df"
      ],
      "execution_count": 1,
      "outputs": [
        {
          "output_type": "error",
          "ename": "NameError",
          "evalue": "ignored",
          "traceback": [
            "\u001b[0;31m---------------------------------------------------------------------------\u001b[0m",
            "\u001b[0;31mNameError\u001b[0m                                 Traceback (most recent call last)",
            "\u001b[0;32m<ipython-input-1-00cf07b74dcd>\u001b[0m in \u001b[0;36m<module>\u001b[0;34m()\u001b[0m\n\u001b[0;32m----> 1\u001b[0;31m \u001b[0mdf\u001b[0m\u001b[0;34m\u001b[0m\u001b[0;34m\u001b[0m\u001b[0m\n\u001b[0m",
            "\u001b[0;31mNameError\u001b[0m: name 'df' is not defined"
          ]
        }
      ]
    },
    {
      "cell_type": "code",
      "metadata": {
        "id": "k_y8hJ0Ye_EQ",
        "outputId": "4438b3e7-1122-4ec5-9c0a-a97d8b7d8fce",
        "colab": {
          "base_uri": "https://localhost:8080/",
          "height": 168
        }
      },
      "source": [
        "df.sort_index(axis=0, ascending=False)\n",
        "#sort_index는 인덱스를 기준으로 값들을 정렬 \n",
        "# axis는 columns 값들을 정령할지 안할지 결정.\n",
        "# ascending 는 내림차순,오름차순 결정 \n",
        "# False 는 내림차순 True 는 오름차순 \n"
      ],
      "execution_count": 38,
      "outputs": [
        {
          "output_type": "execute_result",
          "data": {
            "text/html": [
              "<div>\n",
              "<style scoped>\n",
              "    .dataframe tbody tr th:only-of-type {\n",
              "        vertical-align: middle;\n",
              "    }\n",
              "\n",
              "    .dataframe tbody tr th {\n",
              "        vertical-align: top;\n",
              "    }\n",
              "\n",
              "    .dataframe thead th {\n",
              "        text-align: right;\n",
              "    }\n",
              "</style>\n",
              "<table border=\"1\" class=\"dataframe\">\n",
              "  <thead>\n",
              "    <tr style=\"text-align: right;\">\n",
              "      <th></th>\n",
              "      <th>a</th>\n",
              "      <th>b</th>\n",
              "      <th>c</th>\n",
              "      <th>d</th>\n",
              "    </tr>\n",
              "  </thead>\n",
              "  <tbody>\n",
              "    <tr>\n",
              "      <th>2020-11-18</th>\n",
              "      <td>1</td>\n",
              "      <td>5</td>\n",
              "      <td>4</td>\n",
              "      <td>3</td>\n",
              "    </tr>\n",
              "    <tr>\n",
              "      <th>2020-11-17</th>\n",
              "      <td>3</td>\n",
              "      <td>6</td>\n",
              "      <td>4</td>\n",
              "      <td>1</td>\n",
              "    </tr>\n",
              "    <tr>\n",
              "      <th>2020-11-16</th>\n",
              "      <td>5</td>\n",
              "      <td>2</td>\n",
              "      <td>3</td>\n",
              "      <td>7</td>\n",
              "    </tr>\n",
              "    <tr>\n",
              "      <th>2020-11-15</th>\n",
              "      <td>0</td>\n",
              "      <td>0</td>\n",
              "      <td>3</td>\n",
              "      <td>1</td>\n",
              "    </tr>\n",
              "  </tbody>\n",
              "</table>\n",
              "</div>"
            ],
            "text/plain": [
              "            a  b  c  d\n",
              "2020-11-18  1  5  4  3\n",
              "2020-11-17  3  6  4  1\n",
              "2020-11-16  5  2  3  7\n",
              "2020-11-15  0  0  3  1"
            ]
          },
          "metadata": {
            "tags": []
          },
          "execution_count": 38
        }
      ]
    },
    {
      "cell_type": "markdown",
      "metadata": {
        "id": "zX7FCYyjkrrF"
      },
      "source": [
        "\n",
        "Sort by value : column 값을 기준으로 정렬\n",
        "\n",
        "-  sort_values(by='column')"
      ]
    },
    {
      "cell_type": "code",
      "metadata": {
        "id": "QX7LjzCGkqXj"
      },
      "source": [
        "df.sort_values(by=\"b\")\n",
        "#b를 기준으로 값을 정렬"
      ],
      "execution_count": null,
      "outputs": []
    },
    {
      "cell_type": "code",
      "metadata": {
        "id": "hKL6hAhcqxD-"
      },
      "source": [
        "df.sort_values(by=[\"a\",\"b\"])\n",
        "#두개의 column을 넣어도 정렬을 하나, a를 기준으로 잡고 정렬을하기때문에 b값은 제대로 정렬인 안될 수 있음."
      ],
      "execution_count": null,
      "outputs": []
    },
    {
      "cell_type": "markdown",
      "metadata": {
        "id": "oHSoYtrfrZMq"
      },
      "source": [
        "# **Selecting data by indexing and slicing**\n",
        "\n",
        "- indexing\n",
        "- slicing"
      ]
    },
    {
      "cell_type": "code",
      "metadata": {
        "id": "VlYAZD4SsLof"
      },
      "source": [
        "df['a']\n",
        "#인덱스와, column a 의 값을 출력"
      ],
      "execution_count": null,
      "outputs": []
    },
    {
      "cell_type": "code",
      "metadata": {
        "id": "AM4GCCvMtRrE"
      },
      "source": [
        "df[0:3]\n",
        "#앞에 3개의 열만 출력"
      ],
      "execution_count": null,
      "outputs": []
    },
    {
      "cell_type": "code",
      "metadata": {
        "id": "j0sSNyYi2_H2"
      },
      "source": [
        "df['20201115':'20201118']\n",
        "#인덱스의 값으로 값을 출력"
      ],
      "execution_count": null,
      "outputs": []
    },
    {
      "cell_type": "markdown",
      "metadata": {
        "id": "zX0hjwAe8wKg"
      },
      "source": [
        "# **Selecting data by label**\n",
        "- loc : 데이터의 레이블을 기반으로 인덱싱\n",
        "- iloc : 위치 정수를 기반으로 인덱싱."
      ]
    },
    {
      "cell_type": "code",
      "metadata": {
        "id": "NbgNR_VG82fP",
        "outputId": "16cc36a5-70ba-43fd-be8e-e00c7216866b",
        "colab": {
          "base_uri": "https://localhost:8080/",
          "height": 108
        }
      },
      "source": [
        "df.loc[\"20201115\"]  \n",
        "#해당 인덱스 의 값을 다 가지고옴."
      ],
      "execution_count": null,
      "outputs": [
        {
          "output_type": "execute_result",
          "data": {
            "text/plain": [
              "a    4\n",
              "b    9\n",
              "c    3\n",
              "d    1\n",
              "Name: 2020-11-15 00:00:00, dtype: int64"
            ]
          },
          "metadata": {
            "tags": []
          },
          "execution_count": 166
        }
      ]
    },
    {
      "cell_type": "code",
      "metadata": {
        "id": "47-kY2eUOB5i",
        "outputId": "215aa241-75ae-4e1c-a8b1-27d3e966ed4c",
        "colab": {
          "base_uri": "https://localhost:8080/",
          "height": 138
        }
      },
      "source": [
        "df.loc[\"20201115\":\"20201117\",['a','b']]\n",
        "# 해당인덱스의 column값도 지정하서 값을 출력"
      ],
      "execution_count": null,
      "outputs": [
        {
          "output_type": "execute_result",
          "data": {
            "text/html": [
              "<div>\n",
              "<style scoped>\n",
              "    .dataframe tbody tr th:only-of-type {\n",
              "        vertical-align: middle;\n",
              "    }\n",
              "\n",
              "    .dataframe tbody tr th {\n",
              "        vertical-align: top;\n",
              "    }\n",
              "\n",
              "    .dataframe thead th {\n",
              "        text-align: right;\n",
              "    }\n",
              "</style>\n",
              "<table border=\"1\" class=\"dataframe\">\n",
              "  <thead>\n",
              "    <tr style=\"text-align: right;\">\n",
              "      <th></th>\n",
              "      <th>a</th>\n",
              "      <th>b</th>\n",
              "    </tr>\n",
              "  </thead>\n",
              "  <tbody>\n",
              "    <tr>\n",
              "      <th>2020-11-15</th>\n",
              "      <td>4</td>\n",
              "      <td>9</td>\n",
              "    </tr>\n",
              "    <tr>\n",
              "      <th>2020-11-16</th>\n",
              "      <td>5</td>\n",
              "      <td>2</td>\n",
              "    </tr>\n",
              "    <tr>\n",
              "      <th>2020-11-17</th>\n",
              "      <td>3</td>\n",
              "      <td>6</td>\n",
              "    </tr>\n",
              "  </tbody>\n",
              "</table>\n",
              "</div>"
            ],
            "text/plain": [
              "            a  b\n",
              "2020-11-15  4  9\n",
              "2020-11-16  5  2\n",
              "2020-11-17  3  6"
            ]
          },
          "metadata": {
            "tags": []
          },
          "execution_count": 185
        }
      ]
    },
    {
      "cell_type": "markdown",
      "metadata": {
        "id": "enx_Yb9saMJc"
      },
      "source": [
        "# **Select data for first two days AND comumn 3,4 from df.**"
      ]
    },
    {
      "cell_type": "code",
      "metadata": {
        "id": "RdJ9O2ySaLK5",
        "outputId": "465116c0-f2c2-4cb1-d2f2-d1c14b72f501",
        "colab": {
          "base_uri": "https://localhost:8080/",
          "height": 108
        }
      },
      "source": [
        "df.loc[\"20201115\":\"20201116\",[\"c\",\"d\"]]"
      ],
      "execution_count": null,
      "outputs": [
        {
          "output_type": "execute_result",
          "data": {
            "text/html": [
              "<div>\n",
              "<style scoped>\n",
              "    .dataframe tbody tr th:only-of-type {\n",
              "        vertical-align: middle;\n",
              "    }\n",
              "\n",
              "    .dataframe tbody tr th {\n",
              "        vertical-align: top;\n",
              "    }\n",
              "\n",
              "    .dataframe thead th {\n",
              "        text-align: right;\n",
              "    }\n",
              "</style>\n",
              "<table border=\"1\" class=\"dataframe\">\n",
              "  <thead>\n",
              "    <tr style=\"text-align: right;\">\n",
              "      <th></th>\n",
              "      <th>c</th>\n",
              "      <th>d</th>\n",
              "    </tr>\n",
              "  </thead>\n",
              "  <tbody>\n",
              "    <tr>\n",
              "      <th>2020-11-15</th>\n",
              "      <td>3</td>\n",
              "      <td>1</td>\n",
              "    </tr>\n",
              "    <tr>\n",
              "      <th>2020-11-16</th>\n",
              "      <td>3</td>\n",
              "      <td>7</td>\n",
              "    </tr>\n",
              "  </tbody>\n",
              "</table>\n",
              "</div>"
            ],
            "text/plain": [
              "            c  d\n",
              "2020-11-15  3  1\n",
              "2020-11-16  3  7"
            ]
          },
          "metadata": {
            "tags": []
          },
          "execution_count": 183
        }
      ]
    },
    {
      "cell_type": "code",
      "metadata": {
        "id": "xmJaa0edbTt_",
        "outputId": "d1b36c00-9aa0-4dfd-c6e3-23c7fdb106bf",
        "colab": {
          "base_uri": "https://localhost:8080/",
          "height": 108
        }
      },
      "source": [
        "df.iloc[3] #세번째 인덱스 값을 출력함."
      ],
      "execution_count": null,
      "outputs": [
        {
          "output_type": "execute_result",
          "data": {
            "text/plain": [
              "a    1\n",
              "b    5\n",
              "c    4\n",
              "d    3\n",
              "Name: 2020-11-18 00:00:00, dtype: int64"
            ]
          },
          "metadata": {
            "tags": []
          },
          "execution_count": 186
        }
      ]
    },
    {
      "cell_type": "code",
      "metadata": {
        "id": "DcyvKOvLdHcz",
        "outputId": "ec187179-c614-449e-c2fe-eb2360cefba3",
        "colab": {
          "base_uri": "https://localhost:8080/",
          "height": 108
        }
      },
      "source": [
        "df.iloc[0:2,2:4]"
      ],
      "execution_count": null,
      "outputs": [
        {
          "output_type": "execute_result",
          "data": {
            "text/html": [
              "<div>\n",
              "<style scoped>\n",
              "    .dataframe tbody tr th:only-of-type {\n",
              "        vertical-align: middle;\n",
              "    }\n",
              "\n",
              "    .dataframe tbody tr th {\n",
              "        vertical-align: top;\n",
              "    }\n",
              "\n",
              "    .dataframe thead th {\n",
              "        text-align: right;\n",
              "    }\n",
              "</style>\n",
              "<table border=\"1\" class=\"dataframe\">\n",
              "  <thead>\n",
              "    <tr style=\"text-align: right;\">\n",
              "      <th></th>\n",
              "      <th>c</th>\n",
              "      <th>d</th>\n",
              "    </tr>\n",
              "  </thead>\n",
              "  <tbody>\n",
              "    <tr>\n",
              "      <th>2020-11-15</th>\n",
              "      <td>3</td>\n",
              "      <td>1</td>\n",
              "    </tr>\n",
              "    <tr>\n",
              "      <th>2020-11-16</th>\n",
              "      <td>3</td>\n",
              "      <td>7</td>\n",
              "    </tr>\n",
              "  </tbody>\n",
              "</table>\n",
              "</div>"
            ],
            "text/plain": [
              "            c  d\n",
              "2020-11-15  3  1\n",
              "2020-11-16  3  7"
            ]
          },
          "metadata": {
            "tags": []
          },
          "execution_count": 22
        }
      ]
    },
    {
      "cell_type": "markdown",
      "metadata": {
        "id": "FQuEQh-g9URv"
      },
      "source": [
        "불린으로 인덱싱"
      ]
    },
    {
      "cell_type": "code",
      "metadata": {
        "id": "jrOtHh4hmjpD",
        "outputId": "930deee6-b2e3-46d9-a8a1-634499cd9ec2",
        "colab": {
          "base_uri": "https://localhost:8080/",
          "height": 138
        }
      },
      "source": [
        "df[df.a>1]\n",
        "# a의 요소중에서 1이랑같거나 작은 인덱스를 제외하고 출력"
      ],
      "execution_count": null,
      "outputs": [
        {
          "output_type": "execute_result",
          "data": {
            "text/html": [
              "<div>\n",
              "<style scoped>\n",
              "    .dataframe tbody tr th:only-of-type {\n",
              "        vertical-align: middle;\n",
              "    }\n",
              "\n",
              "    .dataframe tbody tr th {\n",
              "        vertical-align: top;\n",
              "    }\n",
              "\n",
              "    .dataframe thead th {\n",
              "        text-align: right;\n",
              "    }\n",
              "</style>\n",
              "<table border=\"1\" class=\"dataframe\">\n",
              "  <thead>\n",
              "    <tr style=\"text-align: right;\">\n",
              "      <th></th>\n",
              "      <th>a</th>\n",
              "      <th>b</th>\n",
              "      <th>c</th>\n",
              "      <th>d</th>\n",
              "    </tr>\n",
              "  </thead>\n",
              "  <tbody>\n",
              "    <tr>\n",
              "      <th>2020-11-15</th>\n",
              "      <td>4</td>\n",
              "      <td>9</td>\n",
              "      <td>3</td>\n",
              "      <td>1</td>\n",
              "    </tr>\n",
              "    <tr>\n",
              "      <th>2020-11-16</th>\n",
              "      <td>5</td>\n",
              "      <td>2</td>\n",
              "      <td>3</td>\n",
              "      <td>7</td>\n",
              "    </tr>\n",
              "    <tr>\n",
              "      <th>2020-11-17</th>\n",
              "      <td>3</td>\n",
              "      <td>6</td>\n",
              "      <td>4</td>\n",
              "      <td>1</td>\n",
              "    </tr>\n",
              "  </tbody>\n",
              "</table>\n",
              "</div>"
            ],
            "text/plain": [
              "            a  b  c  d\n",
              "2020-11-15  4  9  3  1\n",
              "2020-11-16  5  2  3  7\n",
              "2020-11-17  3  6  4  1"
            ]
          },
          "metadata": {
            "tags": []
          },
          "execution_count": 23
        }
      ]
    },
    {
      "cell_type": "code",
      "metadata": {
        "id": "0VPPDOmG9ilU",
        "outputId": "ed3ab343-45bb-43e8-8816-0e2be1fb29c1",
        "colab": {
          "base_uri": "https://localhost:8080/",
          "height": 168
        }
      },
      "source": [
        "df[df>1]\n",
        "#df중에서 1보다 작거나 같은값을 아예 제외시키고 출력."
      ],
      "execution_count": null,
      "outputs": [
        {
          "output_type": "execute_result",
          "data": {
            "text/html": [
              "<div>\n",
              "<style scoped>\n",
              "    .dataframe tbody tr th:only-of-type {\n",
              "        vertical-align: middle;\n",
              "    }\n",
              "\n",
              "    .dataframe tbody tr th {\n",
              "        vertical-align: top;\n",
              "    }\n",
              "\n",
              "    .dataframe thead th {\n",
              "        text-align: right;\n",
              "    }\n",
              "</style>\n",
              "<table border=\"1\" class=\"dataframe\">\n",
              "  <thead>\n",
              "    <tr style=\"text-align: right;\">\n",
              "      <th></th>\n",
              "      <th>a</th>\n",
              "      <th>b</th>\n",
              "      <th>c</th>\n",
              "      <th>d</th>\n",
              "    </tr>\n",
              "  </thead>\n",
              "  <tbody>\n",
              "    <tr>\n",
              "      <th>2020-11-15</th>\n",
              "      <td>4.0</td>\n",
              "      <td>9</td>\n",
              "      <td>3</td>\n",
              "      <td>NaN</td>\n",
              "    </tr>\n",
              "    <tr>\n",
              "      <th>2020-11-16</th>\n",
              "      <td>5.0</td>\n",
              "      <td>2</td>\n",
              "      <td>3</td>\n",
              "      <td>7.0</td>\n",
              "    </tr>\n",
              "    <tr>\n",
              "      <th>2020-11-17</th>\n",
              "      <td>3.0</td>\n",
              "      <td>6</td>\n",
              "      <td>4</td>\n",
              "      <td>NaN</td>\n",
              "    </tr>\n",
              "    <tr>\n",
              "      <th>2020-11-18</th>\n",
              "      <td>NaN</td>\n",
              "      <td>5</td>\n",
              "      <td>4</td>\n",
              "      <td>3.0</td>\n",
              "    </tr>\n",
              "  </tbody>\n",
              "</table>\n",
              "</div>"
            ],
            "text/plain": [
              "              a  b  c    d\n",
              "2020-11-15  4.0  9  3  NaN\n",
              "2020-11-16  5.0  2  3  7.0\n",
              "2020-11-17  3.0  6  4  NaN\n",
              "2020-11-18  NaN  5  4  3.0"
            ]
          },
          "metadata": {
            "tags": []
          },
          "execution_count": 24
        }
      ]
    },
    {
      "cell_type": "markdown",
      "metadata": {
        "id": "io71R0FF9r_F"
      },
      "source": [
        "\n",
        "# **데이터 재구성(setting) 또는 확장**"
      ]
    },
    {
      "cell_type": "code",
      "metadata": {
        "id": "JHSr48DyAP5P",
        "outputId": "f2731734-429e-488d-a8fe-79246d398e95",
        "colab": {
          "base_uri": "https://localhost:8080/",
          "height": 145
        }
      },
      "source": [
        "s1 = pd.Series([1,2,3,4,5,6], index=pd.date_range('20201115', periods=6))\n",
        "s1"
      ],
      "execution_count": null,
      "outputs": [
        {
          "output_type": "execute_result",
          "data": {
            "text/plain": [
              "2020-11-15    1\n",
              "2020-11-16    2\n",
              "2020-11-17    3\n",
              "2020-11-18    4\n",
              "2020-11-19    5\n",
              "2020-11-20    6\n",
              "Freq: D, dtype: int64"
            ]
          },
          "metadata": {
            "tags": []
          },
          "execution_count": 44
        }
      ]
    },
    {
      "cell_type": "code",
      "metadata": {
        "id": "bHdVI0gGATbr",
        "outputId": "14ff5bca-a08d-4674-b068-669f0c2f0b61",
        "colab": {
          "base_uri": "https://localhost:8080/",
          "height": 168
        }
      },
      "source": [
        "df[\"f\"]= s1\n",
        "df\n",
        "#기존에 있던 df에  column f와 s1시리즈를 추가함."
      ],
      "execution_count": null,
      "outputs": [
        {
          "output_type": "execute_result",
          "data": {
            "text/html": [
              "<div>\n",
              "<style scoped>\n",
              "    .dataframe tbody tr th:only-of-type {\n",
              "        vertical-align: middle;\n",
              "    }\n",
              "\n",
              "    .dataframe tbody tr th {\n",
              "        vertical-align: top;\n",
              "    }\n",
              "\n",
              "    .dataframe thead th {\n",
              "        text-align: right;\n",
              "    }\n",
              "</style>\n",
              "<table border=\"1\" class=\"dataframe\">\n",
              "  <thead>\n",
              "    <tr style=\"text-align: right;\">\n",
              "      <th></th>\n",
              "      <th>a</th>\n",
              "      <th>b</th>\n",
              "      <th>c</th>\n",
              "      <th>d</th>\n",
              "      <th>f</th>\n",
              "    </tr>\n",
              "  </thead>\n",
              "  <tbody>\n",
              "    <tr>\n",
              "      <th>2020-11-15</th>\n",
              "      <td>0</td>\n",
              "      <td>9</td>\n",
              "      <td>3</td>\n",
              "      <td>1</td>\n",
              "      <td>1</td>\n",
              "    </tr>\n",
              "    <tr>\n",
              "      <th>2020-11-16</th>\n",
              "      <td>5</td>\n",
              "      <td>2</td>\n",
              "      <td>3</td>\n",
              "      <td>7</td>\n",
              "      <td>2</td>\n",
              "    </tr>\n",
              "    <tr>\n",
              "      <th>2020-11-17</th>\n",
              "      <td>3</td>\n",
              "      <td>6</td>\n",
              "      <td>4</td>\n",
              "      <td>1</td>\n",
              "      <td>3</td>\n",
              "    </tr>\n",
              "    <tr>\n",
              "      <th>2020-11-18</th>\n",
              "      <td>1</td>\n",
              "      <td>5</td>\n",
              "      <td>4</td>\n",
              "      <td>3</td>\n",
              "      <td>4</td>\n",
              "    </tr>\n",
              "  </tbody>\n",
              "</table>\n",
              "</div>"
            ],
            "text/plain": [
              "            a  b  c  d  f\n",
              "2020-11-15  0  9  3  1  1\n",
              "2020-11-16  5  2  3  7  2\n",
              "2020-11-17  3  6  4  1  3\n",
              "2020-11-18  1  5  4  3  4"
            ]
          },
          "metadata": {
            "tags": []
          },
          "execution_count": 52
        }
      ]
    },
    {
      "cell_type": "markdown",
      "metadata": {
        "id": "hXAugV4fBUFj"
      },
      "source": [
        "\n",
        "Setting data by label\n",
        "\n",
        "- at \n",
        "- iat\n"
      ]
    },
    {
      "cell_type": "code",
      "metadata": {
        "id": "IlyztuXjhbW3",
        "outputId": "37f46358-177b-40d4-8e9a-8e68e4178163",
        "colab": {
          "base_uri": "https://localhost:8080/",
          "height": 168
        }
      },
      "source": [
        "# 예시 df\n",
        "\n",
        "pdf = pd.DataFrame ({\n",
        "    'a' : list(range(4)),\n",
        "    'b' : list(range(5,9)),\n",
        "    \"c\" : np.arange(10,14)},\n",
        "    index = (\"one\",\"two\",\"three\",\"four\"))\n",
        "pdf"
      ],
      "execution_count": 58,
      "outputs": [
        {
          "output_type": "execute_result",
          "data": {
            "text/html": [
              "<div>\n",
              "<style scoped>\n",
              "    .dataframe tbody tr th:only-of-type {\n",
              "        vertical-align: middle;\n",
              "    }\n",
              "\n",
              "    .dataframe tbody tr th {\n",
              "        vertical-align: top;\n",
              "    }\n",
              "\n",
              "    .dataframe thead th {\n",
              "        text-align: right;\n",
              "    }\n",
              "</style>\n",
              "<table border=\"1\" class=\"dataframe\">\n",
              "  <thead>\n",
              "    <tr style=\"text-align: right;\">\n",
              "      <th></th>\n",
              "      <th>a</th>\n",
              "      <th>b</th>\n",
              "      <th>c</th>\n",
              "    </tr>\n",
              "  </thead>\n",
              "  <tbody>\n",
              "    <tr>\n",
              "      <th>one</th>\n",
              "      <td>0</td>\n",
              "      <td>5</td>\n",
              "      <td>10</td>\n",
              "    </tr>\n",
              "    <tr>\n",
              "      <th>two</th>\n",
              "      <td>1</td>\n",
              "      <td>6</td>\n",
              "      <td>11</td>\n",
              "    </tr>\n",
              "    <tr>\n",
              "      <th>three</th>\n",
              "      <td>2</td>\n",
              "      <td>7</td>\n",
              "      <td>12</td>\n",
              "    </tr>\n",
              "    <tr>\n",
              "      <th>four</th>\n",
              "      <td>3</td>\n",
              "      <td>8</td>\n",
              "      <td>13</td>\n",
              "    </tr>\n",
              "  </tbody>\n",
              "</table>\n",
              "</div>"
            ],
            "text/plain": [
              "       a  b   c\n",
              "one    0  5  10\n",
              "two    1  6  11\n",
              "three  2  7  12\n",
              "four   3  8  13"
            ]
          },
          "metadata": {
            "tags": []
          },
          "execution_count": 58
        }
      ]
    },
    {
      "cell_type": "markdown",
      "metadata": {
        "id": "Eohun70eS_nD"
      },
      "source": [
        "# ***데이터프레임 인덱스,column 삭제하기***\n",
        "\n",
        "-   drop() 함수사용"
      ]
    },
    {
      "cell_type": "code",
      "metadata": {
        "id": "x9md7AFKTsIm",
        "outputId": "cb8e0757-34ef-45b9-fb96-90fbf0098bfa",
        "colab": {
          "base_uri": "https://localhost:8080/",
          "height": 168
        }
      },
      "source": [
        "#예시 df\n",
        "\n",
        "prdf = pd.DataFrame({\n",
        "    'a' : list(range(4)),\n",
        "    'b' : 1,\n",
        "    'c' : list(range(3,7)),\n",
        "    \"d\" : 0},\n",
        "    index = (\"one\",\"two\",\"three\",\"fowr\")\n",
        ")\n",
        "prdf"
      ],
      "execution_count": 5,
      "outputs": [
        {
          "output_type": "execute_result",
          "data": {
            "text/html": [
              "<div>\n",
              "<style scoped>\n",
              "    .dataframe tbody tr th:only-of-type {\n",
              "        vertical-align: middle;\n",
              "    }\n",
              "\n",
              "    .dataframe tbody tr th {\n",
              "        vertical-align: top;\n",
              "    }\n",
              "\n",
              "    .dataframe thead th {\n",
              "        text-align: right;\n",
              "    }\n",
              "</style>\n",
              "<table border=\"1\" class=\"dataframe\">\n",
              "  <thead>\n",
              "    <tr style=\"text-align: right;\">\n",
              "      <th></th>\n",
              "      <th>a</th>\n",
              "      <th>b</th>\n",
              "      <th>c</th>\n",
              "      <th>d</th>\n",
              "    </tr>\n",
              "  </thead>\n",
              "  <tbody>\n",
              "    <tr>\n",
              "      <th>one</th>\n",
              "      <td>0</td>\n",
              "      <td>1</td>\n",
              "      <td>3</td>\n",
              "      <td>0</td>\n",
              "    </tr>\n",
              "    <tr>\n",
              "      <th>two</th>\n",
              "      <td>1</td>\n",
              "      <td>1</td>\n",
              "      <td>4</td>\n",
              "      <td>0</td>\n",
              "    </tr>\n",
              "    <tr>\n",
              "      <th>three</th>\n",
              "      <td>2</td>\n",
              "      <td>1</td>\n",
              "      <td>5</td>\n",
              "      <td>0</td>\n",
              "    </tr>\n",
              "    <tr>\n",
              "      <th>fowr</th>\n",
              "      <td>3</td>\n",
              "      <td>1</td>\n",
              "      <td>6</td>\n",
              "      <td>0</td>\n",
              "    </tr>\n",
              "  </tbody>\n",
              "</table>\n",
              "</div>"
            ],
            "text/plain": [
              "       a  b  c  d\n",
              "one    0  1  3  0\n",
              "two    1  1  4  0\n",
              "three  2  1  5  0\n",
              "fowr   3  1  6  0"
            ]
          },
          "metadata": {
            "tags": []
          },
          "execution_count": 5
        }
      ]
    },
    {
      "cell_type": "markdown",
      "metadata": {
        "id": "2e1TxIn-eBs8"
      },
      "source": [
        "***columns삭제하기***"
      ]
    },
    {
      "cell_type": "code",
      "metadata": {
        "id": "EP8OkT1sdkVZ",
        "outputId": "4eab6ab7-e4be-40ac-c135-51868a5d0396",
        "colab": {
          "base_uri": "https://localhost:8080/",
          "height": 168
        }
      },
      "source": [
        "# 방법 1\n",
        "prdf.drop([\"a\",\"b\"],axis =\"columns\")\n",
        "# default로 axis = 0 이며 1을 넣거나, axis = \"columns\" 을 하면 콜룸 값 삭제."
      ],
      "execution_count": 11,
      "outputs": [
        {
          "output_type": "execute_result",
          "data": {
            "text/html": [
              "<div>\n",
              "<style scoped>\n",
              "    .dataframe tbody tr th:only-of-type {\n",
              "        vertical-align: middle;\n",
              "    }\n",
              "\n",
              "    .dataframe tbody tr th {\n",
              "        vertical-align: top;\n",
              "    }\n",
              "\n",
              "    .dataframe thead th {\n",
              "        text-align: right;\n",
              "    }\n",
              "</style>\n",
              "<table border=\"1\" class=\"dataframe\">\n",
              "  <thead>\n",
              "    <tr style=\"text-align: right;\">\n",
              "      <th></th>\n",
              "      <th>c</th>\n",
              "      <th>d</th>\n",
              "    </tr>\n",
              "  </thead>\n",
              "  <tbody>\n",
              "    <tr>\n",
              "      <th>one</th>\n",
              "      <td>3</td>\n",
              "      <td>0</td>\n",
              "    </tr>\n",
              "    <tr>\n",
              "      <th>two</th>\n",
              "      <td>4</td>\n",
              "      <td>0</td>\n",
              "    </tr>\n",
              "    <tr>\n",
              "      <th>three</th>\n",
              "      <td>5</td>\n",
              "      <td>0</td>\n",
              "    </tr>\n",
              "    <tr>\n",
              "      <th>fowr</th>\n",
              "      <td>6</td>\n",
              "      <td>0</td>\n",
              "    </tr>\n",
              "  </tbody>\n",
              "</table>\n",
              "</div>"
            ],
            "text/plain": [
              "       c  d\n",
              "one    3  0\n",
              "two    4  0\n",
              "three  5  0\n",
              "fowr   6  0"
            ]
          },
          "metadata": {
            "tags": []
          },
          "execution_count": 11
        }
      ]
    },
    {
      "cell_type": "code",
      "metadata": {
        "id": "_7-zPsmweHSM",
        "outputId": "b527fdb8-dec7-43b3-8a12-9152cf540f4b",
        "colab": {
          "base_uri": "https://localhost:8080/",
          "height": 168
        }
      },
      "source": [
        "# 방법 2\n",
        "prdf.drop([\"a\",\"b\"],axis = 1)"
      ],
      "execution_count": 12,
      "outputs": [
        {
          "output_type": "execute_result",
          "data": {
            "text/html": [
              "<div>\n",
              "<style scoped>\n",
              "    .dataframe tbody tr th:only-of-type {\n",
              "        vertical-align: middle;\n",
              "    }\n",
              "\n",
              "    .dataframe tbody tr th {\n",
              "        vertical-align: top;\n",
              "    }\n",
              "\n",
              "    .dataframe thead th {\n",
              "        text-align: right;\n",
              "    }\n",
              "</style>\n",
              "<table border=\"1\" class=\"dataframe\">\n",
              "  <thead>\n",
              "    <tr style=\"text-align: right;\">\n",
              "      <th></th>\n",
              "      <th>c</th>\n",
              "      <th>d</th>\n",
              "    </tr>\n",
              "  </thead>\n",
              "  <tbody>\n",
              "    <tr>\n",
              "      <th>one</th>\n",
              "      <td>3</td>\n",
              "      <td>0</td>\n",
              "    </tr>\n",
              "    <tr>\n",
              "      <th>two</th>\n",
              "      <td>4</td>\n",
              "      <td>0</td>\n",
              "    </tr>\n",
              "    <tr>\n",
              "      <th>three</th>\n",
              "      <td>5</td>\n",
              "      <td>0</td>\n",
              "    </tr>\n",
              "    <tr>\n",
              "      <th>fowr</th>\n",
              "      <td>6</td>\n",
              "      <td>0</td>\n",
              "    </tr>\n",
              "  </tbody>\n",
              "</table>\n",
              "</div>"
            ],
            "text/plain": [
              "       c  d\n",
              "one    3  0\n",
              "two    4  0\n",
              "three  5  0\n",
              "fowr   6  0"
            ]
          },
          "metadata": {
            "tags": []
          },
          "execution_count": 12
        }
      ]
    },
    {
      "cell_type": "markdown",
      "metadata": {
        "id": "WxaLxLhJeM4G"
      },
      "source": [
        "***index삭제하기***"
      ]
    },
    {
      "cell_type": "code",
      "metadata": {
        "id": "Qz7Q090Bd_1e",
        "outputId": "7a585a00-b209-4848-ad8c-4107d7d7ee3b",
        "colab": {
          "base_uri": "https://localhost:8080/",
          "height": 108
        }
      },
      "source": [
        "#방법 1\n",
        "prdf.drop([\"one\",\"two\"])\n",
        "# axis의 default 값이 0이기 때문에."
      ],
      "execution_count": 13,
      "outputs": [
        {
          "output_type": "execute_result",
          "data": {
            "text/html": [
              "<div>\n",
              "<style scoped>\n",
              "    .dataframe tbody tr th:only-of-type {\n",
              "        vertical-align: middle;\n",
              "    }\n",
              "\n",
              "    .dataframe tbody tr th {\n",
              "        vertical-align: top;\n",
              "    }\n",
              "\n",
              "    .dataframe thead th {\n",
              "        text-align: right;\n",
              "    }\n",
              "</style>\n",
              "<table border=\"1\" class=\"dataframe\">\n",
              "  <thead>\n",
              "    <tr style=\"text-align: right;\">\n",
              "      <th></th>\n",
              "      <th>a</th>\n",
              "      <th>b</th>\n",
              "      <th>c</th>\n",
              "      <th>d</th>\n",
              "    </tr>\n",
              "  </thead>\n",
              "  <tbody>\n",
              "    <tr>\n",
              "      <th>three</th>\n",
              "      <td>2</td>\n",
              "      <td>1</td>\n",
              "      <td>5</td>\n",
              "      <td>0</td>\n",
              "    </tr>\n",
              "    <tr>\n",
              "      <th>fowr</th>\n",
              "      <td>3</td>\n",
              "      <td>1</td>\n",
              "      <td>6</td>\n",
              "      <td>0</td>\n",
              "    </tr>\n",
              "  </tbody>\n",
              "</table>\n",
              "</div>"
            ],
            "text/plain": [
              "       a  b  c  d\n",
              "three  2  1  5  0\n",
              "fowr   3  1  6  0"
            ]
          },
          "metadata": {
            "tags": []
          },
          "execution_count": 13
        }
      ]
    },
    {
      "cell_type": "code",
      "metadata": {
        "id": "jEMAf_hdesvP",
        "outputId": "57546507-7a1e-4684-a268-45cfbe49182e",
        "colab": {
          "base_uri": "https://localhost:8080/",
          "height": 108
        }
      },
      "source": [
        "#방법 2 \n",
        "prdf.drop([\"one\",\"two\"], axis = \"index\")\n",
        "#axis에 index를 적어도 가능."
      ],
      "execution_count": 16,
      "outputs": [
        {
          "output_type": "execute_result",
          "data": {
            "text/html": [
              "<div>\n",
              "<style scoped>\n",
              "    .dataframe tbody tr th:only-of-type {\n",
              "        vertical-align: middle;\n",
              "    }\n",
              "\n",
              "    .dataframe tbody tr th {\n",
              "        vertical-align: top;\n",
              "    }\n",
              "\n",
              "    .dataframe thead th {\n",
              "        text-align: right;\n",
              "    }\n",
              "</style>\n",
              "<table border=\"1\" class=\"dataframe\">\n",
              "  <thead>\n",
              "    <tr style=\"text-align: right;\">\n",
              "      <th></th>\n",
              "      <th>a</th>\n",
              "      <th>b</th>\n",
              "      <th>c</th>\n",
              "      <th>d</th>\n",
              "    </tr>\n",
              "  </thead>\n",
              "  <tbody>\n",
              "    <tr>\n",
              "      <th>three</th>\n",
              "      <td>2</td>\n",
              "      <td>1</td>\n",
              "      <td>5</td>\n",
              "      <td>0</td>\n",
              "    </tr>\n",
              "    <tr>\n",
              "      <th>fowr</th>\n",
              "      <td>3</td>\n",
              "      <td>1</td>\n",
              "      <td>6</td>\n",
              "      <td>0</td>\n",
              "    </tr>\n",
              "  </tbody>\n",
              "</table>\n",
              "</div>"
            ],
            "text/plain": [
              "       a  b  c  d\n",
              "three  2  1  5  0\n",
              "fowr   3  1  6  0"
            ]
          },
          "metadata": {
            "tags": []
          },
          "execution_count": 16
        }
      ]
    },
    {
      "cell_type": "markdown",
      "metadata": {
        "id": "cHerKCWZgAmz"
      },
      "source": [
        "***index가 DatetimeIndex 일때 삭제하기 .***"
      ]
    },
    {
      "cell_type": "code",
      "metadata": {
        "id": "0qBgU185gAED",
        "outputId": "c5be8b12-d091-4b55-ced3-8a0d2a91853a",
        "colab": {
          "base_uri": "https://localhost:8080/",
          "height": 168
        }
      },
      "source": [
        "#예시 DF\n",
        "\n",
        "prdf1 = pd.DataFrame( pd.DataFrame([(4,9,3,1),(5,2,3,7),(3,6,4,1),(1,5,4,3)],index =dates, columns= (\"a\",\"b\",\"c\",\"d\")))\n",
        "prdf1\n"
      ],
      "execution_count": 20,
      "outputs": [
        {
          "output_type": "execute_result",
          "data": {
            "text/html": [
              "<div>\n",
              "<style scoped>\n",
              "    .dataframe tbody tr th:only-of-type {\n",
              "        vertical-align: middle;\n",
              "    }\n",
              "\n",
              "    .dataframe tbody tr th {\n",
              "        vertical-align: top;\n",
              "    }\n",
              "\n",
              "    .dataframe thead th {\n",
              "        text-align: right;\n",
              "    }\n",
              "</style>\n",
              "<table border=\"1\" class=\"dataframe\">\n",
              "  <thead>\n",
              "    <tr style=\"text-align: right;\">\n",
              "      <th></th>\n",
              "      <th>a</th>\n",
              "      <th>b</th>\n",
              "      <th>c</th>\n",
              "      <th>d</th>\n",
              "    </tr>\n",
              "  </thead>\n",
              "  <tbody>\n",
              "    <tr>\n",
              "      <th>2020-11-15</th>\n",
              "      <td>4</td>\n",
              "      <td>9</td>\n",
              "      <td>3</td>\n",
              "      <td>1</td>\n",
              "    </tr>\n",
              "    <tr>\n",
              "      <th>2020-11-16</th>\n",
              "      <td>5</td>\n",
              "      <td>2</td>\n",
              "      <td>3</td>\n",
              "      <td>7</td>\n",
              "    </tr>\n",
              "    <tr>\n",
              "      <th>2020-11-17</th>\n",
              "      <td>3</td>\n",
              "      <td>6</td>\n",
              "      <td>4</td>\n",
              "      <td>1</td>\n",
              "    </tr>\n",
              "    <tr>\n",
              "      <th>2020-11-18</th>\n",
              "      <td>1</td>\n",
              "      <td>5</td>\n",
              "      <td>4</td>\n",
              "      <td>3</td>\n",
              "    </tr>\n",
              "  </tbody>\n",
              "</table>\n",
              "</div>"
            ],
            "text/plain": [
              "            a  b  c  d\n",
              "2020-11-15  4  9  3  1\n",
              "2020-11-16  5  2  3  7\n",
              "2020-11-17  3  6  4  1\n",
              "2020-11-18  1  5  4  3"
            ]
          },
          "metadata": {
            "tags": []
          },
          "execution_count": 20
        }
      ]
    },
    {
      "cell_type": "code",
      "metadata": {
        "id": "ztFdPQxZgpMX",
        "outputId": "95e24307-e7ae-4c93-9ab5-0fecc1e82a7e",
        "colab": {
          "base_uri": "https://localhost:8080/",
          "height": 108
        }
      },
      "source": [
        "prdf1.drop(dates[0:2], axis = \"index\")\n",
        "#index에 사용된 dates를 불러와서 인덱싱방법으로 인덱스를 삭제해야함."
      ],
      "execution_count": 26,
      "outputs": [
        {
          "output_type": "execute_result",
          "data": {
            "text/html": [
              "<div>\n",
              "<style scoped>\n",
              "    .dataframe tbody tr th:only-of-type {\n",
              "        vertical-align: middle;\n",
              "    }\n",
              "\n",
              "    .dataframe tbody tr th {\n",
              "        vertical-align: top;\n",
              "    }\n",
              "\n",
              "    .dataframe thead th {\n",
              "        text-align: right;\n",
              "    }\n",
              "</style>\n",
              "<table border=\"1\" class=\"dataframe\">\n",
              "  <thead>\n",
              "    <tr style=\"text-align: right;\">\n",
              "      <th></th>\n",
              "      <th>a</th>\n",
              "      <th>b</th>\n",
              "      <th>c</th>\n",
              "      <th>d</th>\n",
              "    </tr>\n",
              "  </thead>\n",
              "  <tbody>\n",
              "    <tr>\n",
              "      <th>2020-11-17</th>\n",
              "      <td>3</td>\n",
              "      <td>6</td>\n",
              "      <td>4</td>\n",
              "      <td>1</td>\n",
              "    </tr>\n",
              "    <tr>\n",
              "      <th>2020-11-18</th>\n",
              "      <td>1</td>\n",
              "      <td>5</td>\n",
              "      <td>4</td>\n",
              "      <td>3</td>\n",
              "    </tr>\n",
              "  </tbody>\n",
              "</table>\n",
              "</div>"
            ],
            "text/plain": [
              "            a  b  c  d\n",
              "2020-11-17  3  6  4  1\n",
              "2020-11-18  1  5  4  3"
            ]
          },
          "metadata": {
            "tags": []
          },
          "execution_count": 26
        }
      ]
    }
  ]
}