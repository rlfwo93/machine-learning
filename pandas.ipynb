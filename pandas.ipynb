{
  "nbformat": 4,
  "nbformat_minor": 0,
  "metadata": {
    "colab": {
      "name": "Untitled12.ipynb",
      "provenance": [],
      "authorship_tag": "ABX9TyMWHi5wGAcqhmTV3JGrYH3v",
      "include_colab_link": true
    },
    "kernelspec": {
      "name": "python3",
      "display_name": "Python 3"
    }
  },
  "cells": [
    {
      "cell_type": "markdown",
      "metadata": {
        "id": "view-in-github",
        "colab_type": "text"
      },
      "source": [
        "<a href=\"https://colab.research.google.com/github/rlfwo93/machine-learning/blob/master/pandas.ipynb\" target=\"_parent\"><img src=\"https://colab.research.google.com/assets/colab-badge.svg\" alt=\"Open In Colab\"/></a>"
      ]
    },
    {
      "cell_type": "markdown",
      "metadata": {
        "id": "O3mt9p-Q2jTu"
      },
      "source": [
        "# **(Pandas) 판다스란 ?**\n",
        "-  Pandas는 python 파이썬 외부 공학용 라이브러리\n",
        "\n",
        "-  andas는 파이썬에서 사용하는 데이터분석 라이브러리로, 행과 열로 이루어진 데이터 객체를 만들어 다룰 수 있게 되며 보다 안정적으로 대용량의 데이터들을 처리하는데 매우 편리한 도구\n",
        "\n",
        "-  데이터를 표 형태의 데이터프레임에 넣어서 쉽게 이용할 수 있게 해주는데, 쉽게 말해서 파이썬의 엑셀 "
      ]
    },
    {
      "cell_type": "code",
      "metadata": {
        "id": "NjPhvhAW3HSP"
      },
      "source": [
        "import pandas as pd #판다스 모듈\n",
        "import numpy as np  # 넘파이 모듈\n",
        "import matplotlib.pyplot as plt #플롯립 모듈\n",
        "%matplotlib inline"
      ],
      "execution_count": 23,
      "outputs": []
    },
    {
      "cell_type": "markdown",
      "metadata": {
        "id": "Ca8bjHnY54WA"
      },
      "source": [
        "# **Series**\n",
        "-  1차원 데이터 \n",
        "-  엑셀형식으로 왼쪽에는 인덱스숫자가 나오고 오른쪽엔 입력한 값이 나옴.\n",
        "-  1차원 배열로 데이터를 담고있음.\n"
      ]
    },
    {
      "cell_type": "code",
      "metadata": {
        "id": "mkEfiyM63L53",
        "outputId": "f6789223-8d86-4293-d5b2-401edec86423",
        "colab": {
          "base_uri": "https://localhost:8080/",
          "height": 143
        }
      },
      "source": [
        "s = pd.Series([1,3,5,np.nan,6,8],index=[\"a\",\"b\",\"c\",\"d\",\"e\",\"f\"] )\n",
        "s\n",
        "# 엑셀형식으로 왼쪽에는 인덱스숫자가 나오고 오른쪽엔 입력한 값이 나옴.\n",
        "#Series에 값을 넣을땐 배열 형식으로 넣음.\n",
        "# 입력하는값에 float형이 하나라도 있으면 값 전체를 float형으로 출력.\n",
        "#인덱스 항목을 넣어서 인덱스를 설정 할 수 있음."
      ],
      "execution_count": 24,
      "outputs": [
        {
          "output_type": "execute_result",
          "data": {
            "text/plain": [
              "a    1.0\n",
              "b    3.0\n",
              "c    5.0\n",
              "d    NaN\n",
              "e    6.0\n",
              "f    8.0\n",
              "dtype: float64"
            ]
          },
          "metadata": {
            "tags": []
          },
          "execution_count": 24
        }
      ]
    },
    {
      "cell_type": "code",
      "metadata": {
        "id": "jU44bwN87XOO",
        "outputId": "f12550b9-993b-475a-fe02-4ed7279a3916",
        "colab": {
          "base_uri": "https://localhost:8080/",
          "height": 107
        }
      },
      "source": [
        "obj = pd.Series([4, 7, -5, 3])\n",
        "obj\n",
        "\n",
        "#입력값이 전부 int형이기때문에 모든값이 int형로 출력되며 데이터 타입이 int"
      ],
      "execution_count": 25,
      "outputs": [
        {
          "output_type": "execute_result",
          "data": {
            "text/plain": [
              "0    4\n",
              "1    7\n",
              "2   -5\n",
              "3    3\n",
              "dtype: int64"
            ]
          },
          "metadata": {
            "tags": []
          },
          "execution_count": 25
        }
      ]
    },
    {
      "cell_type": "markdown",
      "metadata": {
        "id": "iwDNst6y9i85"
      },
      "source": [
        "# date_range \n",
        "-  시계열 데이터 설정\n",
        "-  freq 값을 s,d,m 등을 넣어서 원하는 시간데이터를 출력할 수 있음.\n"
      ]
    },
    {
      "cell_type": "code",
      "metadata": {
        "id": "ugFMX4qG5_N9",
        "outputId": "00e6afa6-a2fa-4df9-c108-809c2778c8b5",
        "colab": {
          "base_uri": "https://localhost:8080/",
          "height": 71
        }
      },
      "source": [
        "dates = pd.date_range(\"20201115\",periods=6) \n",
        "#periods 는 몇개의 값을 출력할지 설정.\n",
        "#입력한 값부터 perods로 설정한 값만큼 날짜가 증가하여 출력.\n",
        "#freq가 디폴트 값으로 D로 설정되어서 일별로 증가하여 출력됨.\n",
        "dates"
      ],
      "execution_count": 26,
      "outputs": [
        {
          "output_type": "execute_result",
          "data": {
            "text/plain": [
              "DatetimeIndex(['2020-11-15', '2020-11-16', '2020-11-17', '2020-11-18',\n",
              "               '2020-11-19', '2020-11-20'],\n",
              "              dtype='datetime64[ns]', freq='D')"
            ]
          },
          "metadata": {
            "tags": []
          },
          "execution_count": 26
        }
      ]
    },
    {
      "cell_type": "code",
      "metadata": {
        "id": "XmXBfURi-mXK",
        "outputId": "56637590-623a-40a9-c153-30fa52b8911d",
        "colab": {
          "base_uri": "https://localhost:8080/",
          "height": 179
        }
      },
      "source": [
        "dates1 = pd.date_range(start = \"20190101\", end = \"20190201\")\n",
        "dates1\n",
        "#start값과 end 값을 주어서 명시적으로 출력."
      ],
      "execution_count": 27,
      "outputs": [
        {
          "output_type": "execute_result",
          "data": {
            "text/plain": [
              "DatetimeIndex(['2019-01-01', '2019-01-02', '2019-01-03', '2019-01-04',\n",
              "               '2019-01-05', '2019-01-06', '2019-01-07', '2019-01-08',\n",
              "               '2019-01-09', '2019-01-10', '2019-01-11', '2019-01-12',\n",
              "               '2019-01-13', '2019-01-14', '2019-01-15', '2019-01-16',\n",
              "               '2019-01-17', '2019-01-18', '2019-01-19', '2019-01-20',\n",
              "               '2019-01-21', '2019-01-22', '2019-01-23', '2019-01-24',\n",
              "               '2019-01-25', '2019-01-26', '2019-01-27', '2019-01-28',\n",
              "               '2019-01-29', '2019-01-30', '2019-01-31', '2019-02-01'],\n",
              "              dtype='datetime64[ns]', freq='D')"
            ]
          },
          "metadata": {
            "tags": []
          },
          "execution_count": 27
        }
      ]
    },
    {
      "cell_type": "code",
      "metadata": {
        "id": "miyFe5Xm_Y_S",
        "outputId": "7297dd02-7345-4afb-884f-c7005c8976e5",
        "colab": {
          "base_uri": "https://localhost:8080/",
          "height": 125
        }
      },
      "source": [
        "dates2 = pd.date_range(\"20190101\",periods=10,freq=\"s\")\n",
        "dates2\n",
        "# freq값을 s로 입력하여 초단위로 출력\n"
      ],
      "execution_count": 28,
      "outputs": [
        {
          "output_type": "execute_result",
          "data": {
            "text/plain": [
              "DatetimeIndex(['2019-01-01 00:00:00', '2019-01-01 00:00:01',\n",
              "               '2019-01-01 00:00:02', '2019-01-01 00:00:03',\n",
              "               '2019-01-01 00:00:04', '2019-01-01 00:00:05',\n",
              "               '2019-01-01 00:00:06', '2019-01-01 00:00:07',\n",
              "               '2019-01-01 00:00:08', '2019-01-01 00:00:09'],\n",
              "              dtype='datetime64[ns]', freq='S')"
            ]
          },
          "metadata": {
            "tags": []
          },
          "execution_count": 28
        }
      ]
    },
    {
      "cell_type": "markdown",
      "metadata": {
        "id": "baCEdTXlC2iA"
      },
      "source": [
        "\n",
        "# **데이터프레임 (DataFrame)**\n",
        "-  2차원 데이터\n",
        "-  다차원 데이터 \n",
        "-  2차원 행렬 데이터를 담고 있음."
      ]
    },
    {
      "cell_type": "code",
      "metadata": {
        "id": "57W1T49vAPCs",
        "outputId": "b11e98ff-2143-4209-e0c9-206e95eb63c9",
        "colab": {
          "base_uri": "https://localhost:8080/",
          "height": 235
        }
      },
      "source": [
        "dfc = pd.DataFrame(np.random.randn(6,4),index =dates, columns= (\"a\",\"b\",\"c\",\"d\"))\n",
        "dfc \n",
        "\n",
        "#맨첫번째 입력한 값은 실제출력되는 값.\n",
        "#index 인덱스 값을 설정.\n",
        "# columns는 위에 항목의 값을 설정."
      ],
      "execution_count": 34,
      "outputs": [
        {
          "output_type": "execute_result",
          "data": {
            "text/html": [
              "<div>\n",
              "<style scoped>\n",
              "    .dataframe tbody tr th:only-of-type {\n",
              "        vertical-align: middle;\n",
              "    }\n",
              "\n",
              "    .dataframe tbody tr th {\n",
              "        vertical-align: top;\n",
              "    }\n",
              "\n",
              "    .dataframe thead th {\n",
              "        text-align: right;\n",
              "    }\n",
              "</style>\n",
              "<table border=\"1\" class=\"dataframe\">\n",
              "  <thead>\n",
              "    <tr style=\"text-align: right;\">\n",
              "      <th></th>\n",
              "      <th>a</th>\n",
              "      <th>b</th>\n",
              "      <th>c</th>\n",
              "      <th>d</th>\n",
              "    </tr>\n",
              "  </thead>\n",
              "  <tbody>\n",
              "    <tr>\n",
              "      <th>2020-11-15</th>\n",
              "      <td>-1.429532</td>\n",
              "      <td>0.704498</td>\n",
              "      <td>-0.775910</td>\n",
              "      <td>1.832853</td>\n",
              "    </tr>\n",
              "    <tr>\n",
              "      <th>2020-11-16</th>\n",
              "      <td>0.303157</td>\n",
              "      <td>1.945200</td>\n",
              "      <td>1.332763</td>\n",
              "      <td>1.646133</td>\n",
              "    </tr>\n",
              "    <tr>\n",
              "      <th>2020-11-17</th>\n",
              "      <td>-1.002994</td>\n",
              "      <td>-0.162401</td>\n",
              "      <td>0.325145</td>\n",
              "      <td>-0.422124</td>\n",
              "    </tr>\n",
              "    <tr>\n",
              "      <th>2020-11-18</th>\n",
              "      <td>-1.756460</td>\n",
              "      <td>0.326030</td>\n",
              "      <td>-0.200299</td>\n",
              "      <td>0.594406</td>\n",
              "    </tr>\n",
              "    <tr>\n",
              "      <th>2020-11-19</th>\n",
              "      <td>-1.143279</td>\n",
              "      <td>0.786816</td>\n",
              "      <td>-0.551329</td>\n",
              "      <td>1.293180</td>\n",
              "    </tr>\n",
              "    <tr>\n",
              "      <th>2020-11-20</th>\n",
              "      <td>0.059044</td>\n",
              "      <td>-0.461339</td>\n",
              "      <td>0.363907</td>\n",
              "      <td>-1.734116</td>\n",
              "    </tr>\n",
              "  </tbody>\n",
              "</table>\n",
              "</div>"
            ],
            "text/plain": [
              "                   a         b         c         d\n",
              "2020-11-15 -1.429532  0.704498 -0.775910  1.832853\n",
              "2020-11-16  0.303157  1.945200  1.332763  1.646133\n",
              "2020-11-17 -1.002994 -0.162401  0.325145 -0.422124\n",
              "2020-11-18 -1.756460  0.326030 -0.200299  0.594406\n",
              "2020-11-19 -1.143279  0.786816 -0.551329  1.293180\n",
              "2020-11-20  0.059044 -0.461339  0.363907 -1.734116"
            ]
          },
          "metadata": {
            "tags": []
          },
          "execution_count": 34
        }
      ]
    },
    {
      "cell_type": "code",
      "metadata": {
        "id": "C45BI8M8SRFZ",
        "outputId": "e153d489-464e-47a3-eb19-fadf18e290f0",
        "colab": {
          "base_uri": "https://localhost:8080/",
          "height": 173
        }
      },
      "source": [
        "df2 = pd.DataFrame({'A': 1.,\n",
        "                    'B': pd.Timestamp('20130102'),\n",
        "                    'C': pd.Series(1, index=list(range(4)), dtype='float32'),\n",
        "                    'D': np.array([3]*4, dtype='int32'),\n",
        "                    'E': pd.Categorical(['test', 'train', 'test', 'train']),\n",
        "                    'F': 'foo'})\n",
        "df2"
      ],
      "execution_count": 30,
      "outputs": [
        {
          "output_type": "execute_result",
          "data": {
            "text/html": [
              "<div>\n",
              "<style scoped>\n",
              "    .dataframe tbody tr th:only-of-type {\n",
              "        vertical-align: middle;\n",
              "    }\n",
              "\n",
              "    .dataframe tbody tr th {\n",
              "        vertical-align: top;\n",
              "    }\n",
              "\n",
              "    .dataframe thead th {\n",
              "        text-align: right;\n",
              "    }\n",
              "</style>\n",
              "<table border=\"1\" class=\"dataframe\">\n",
              "  <thead>\n",
              "    <tr style=\"text-align: right;\">\n",
              "      <th></th>\n",
              "      <th>A</th>\n",
              "      <th>B</th>\n",
              "      <th>C</th>\n",
              "      <th>D</th>\n",
              "      <th>E</th>\n",
              "      <th>F</th>\n",
              "    </tr>\n",
              "  </thead>\n",
              "  <tbody>\n",
              "    <tr>\n",
              "      <th>0</th>\n",
              "      <td>1.0</td>\n",
              "      <td>2013-01-02</td>\n",
              "      <td>1.0</td>\n",
              "      <td>3</td>\n",
              "      <td>test</td>\n",
              "      <td>foo</td>\n",
              "    </tr>\n",
              "    <tr>\n",
              "      <th>1</th>\n",
              "      <td>1.0</td>\n",
              "      <td>2013-01-02</td>\n",
              "      <td>1.0</td>\n",
              "      <td>3</td>\n",
              "      <td>train</td>\n",
              "      <td>foo</td>\n",
              "    </tr>\n",
              "    <tr>\n",
              "      <th>2</th>\n",
              "      <td>1.0</td>\n",
              "      <td>2013-01-02</td>\n",
              "      <td>1.0</td>\n",
              "      <td>3</td>\n",
              "      <td>test</td>\n",
              "      <td>foo</td>\n",
              "    </tr>\n",
              "    <tr>\n",
              "      <th>3</th>\n",
              "      <td>1.0</td>\n",
              "      <td>2013-01-02</td>\n",
              "      <td>1.0</td>\n",
              "      <td>3</td>\n",
              "      <td>train</td>\n",
              "      <td>foo</td>\n",
              "    </tr>\n",
              "  </tbody>\n",
              "</table>\n",
              "</div>"
            ],
            "text/plain": [
              "     A          B    C  D      E    F\n",
              "0  1.0 2013-01-02  1.0  3   test  foo\n",
              "1  1.0 2013-01-02  1.0  3  train  foo\n",
              "2  1.0 2013-01-02  1.0  3   test  foo\n",
              "3  1.0 2013-01-02  1.0  3  train  foo"
            ]
          },
          "metadata": {
            "tags": []
          },
          "execution_count": 30
        }
      ]
    }
  ]
}