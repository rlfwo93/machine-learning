{
  "nbformat": 4,
  "nbformat_minor": 0,
  "metadata": {
    "colab": {
      "name": "Untitled11.ipynb",
      "provenance": [],
      "authorship_tag": "ABX9TyNlf1uyIXzL1oiWWVRLB+qN",
      "include_colab_link": true
    },
    "kernelspec": {
      "name": "python3",
      "display_name": "Python 3"
    }
  },
  "cells": [
    {
      "cell_type": "markdown",
      "metadata": {
        "id": "view-in-github",
        "colab_type": "text"
      },
      "source": [
        "<a href=\"https://colab.research.google.com/github/rlfwo93/machine-learning/blob/master/pratice_matplotilb.ipynb\" target=\"_parent\"><img src=\"https://colab.research.google.com/assets/colab-badge.svg\" alt=\"Open In Colab\"/></a>"
      ]
    },
    {
      "cell_type": "code",
      "metadata": {
        "id": "mBHm__nni5_Y",
        "colab_type": "code",
        "colab": {}
      },
      "source": [
        "import numpy as np\n",
        "import matplotlib.pyplot as plt\n",
        "# 노트북 셀 내에 그림 출력\n",
        "%matplotlib inline"
      ],
      "execution_count": 1,
      "outputs": []
    },
    {
      "cell_type": "code",
      "metadata": {
        "id": "xaSIUOHUjA4d",
        "colab_type": "code",
        "colab": {}
      },
      "source": [
        "print(np.sin(np.pi*np.arange(0.0, 2.0, 0.01)))\n",
        "a = 1 \n",
        "for i in np.arange(0.0, 2.0 , 0.01):\n",
        "  print(a)\n",
        "  a+=1"
      ],
      "execution_count": null,
      "outputs": []
    },
    {
      "cell_type": "code",
      "metadata": {
        "id": "gl2uJNGKkT94",
        "colab_type": "code",
        "colab": {
          "base_uri": "https://localhost:8080/",
          "height": 53
        },
        "outputId": "e77d83fe-a44d-45fa-d087-e009d493ca83"
      },
      "source": [
        "a= np.arange(0,10).reshape(2,5)\n",
        "print(a)"
      ],
      "execution_count": null,
      "outputs": [
        {
          "output_type": "stream",
          "text": [
            "[[0 1 2 3 4]\n",
            " [5 6 7 8 9]]\n"
          ],
          "name": "stdout"
        }
      ]
    },
    {
      "cell_type": "code",
      "metadata": {
        "id": "HDn24ln3sdFu",
        "colab_type": "code",
        "colab": {
          "base_uri": "https://localhost:8080/",
          "height": 557
        },
        "outputId": "181e13f6-c60f-4101-a974-7c90cbf2f89e"
      },
      "source": [
        "for i in np.random.randn(10):\n",
        " print(np.random.randn(10), end = \"\\n\\n\")\n",
        " \n",
        "\n"
      ],
      "execution_count": null,
      "outputs": [
        {
          "output_type": "stream",
          "text": [
            "[ 0.44396957  1.28540633 -1.1402807  -0.22658976 -0.60932258 -1.03215744\n",
            " -1.09326224 -0.86371097 -0.19018236  1.87068181]\n",
            "\n",
            "[-1.13080125 -1.59304429 -0.67879337  1.35654221  0.07215156  0.29588381\n",
            "  0.8070487   2.09771417 -1.89068098  0.37189628]\n",
            "\n",
            "[ 1.16802635  0.58339229  0.27479036 -1.25440938  0.36817909 -1.81180754\n",
            " -0.4717427  -0.17576025 -1.57230565 -0.3637303 ]\n",
            "\n",
            "[ 0.11333304 -0.88582154  1.90088676 -1.64569466  0.29416655  0.1872421\n",
            " -0.32820423  0.78470909  2.85077412  0.01423156]\n",
            "\n",
            "[-0.16432109  0.9557181  -1.09331694 -1.88116676 -2.10739558  1.56812003\n",
            " -0.96254232 -1.69414635 -0.44689843  1.60552615]\n",
            "\n",
            "[ 0.60364018  0.53296734  0.95981714  0.68518724 -1.38123467 -0.73281478\n",
            " -1.56361548 -1.68638337  0.49736836  0.66752572]\n",
            "\n",
            "[-0.07865419 -0.37515098  0.13914316  1.15445539  0.66680296 -1.34723768\n",
            "  0.10824165 -1.76142877 -0.86102753 -0.72754497]\n",
            "\n",
            "[-1.54610328 -0.82767295 -0.88521845  0.66833541 -1.67326303 -0.32649\n",
            "  0.16399527  2.15459226 -0.63275789  0.10947606]\n",
            "\n",
            "[ 0.69278427  0.43764165  0.68635382  0.11174219  1.61214724  1.51338697\n",
            " -0.73846115  0.10778181  1.42275514 -0.16947545]\n",
            "\n",
            "[-0.90238636 -0.55890086 -0.35702333  0.01201508  0.11829798  0.38653291\n",
            "  0.55124652  0.16892877  1.01943056 -1.12133674]\n",
            "\n"
          ],
          "name": "stdout"
        }
      ]
    },
    {
      "cell_type": "code",
      "metadata": {
        "id": "dsNIXlGF3KS_",
        "colab_type": "code",
        "colab": {
          "base_uri": "https://localhost:8080/",
          "height": 283
        },
        "outputId": "c486233f-f250-4f36-c667-c48f465b8a8a"
      },
      "source": [
        "x = [10,20,30]\n",
        "y=  [40,80,90]\n",
        "plt.plot(x,y , '-o',alpha =0.5)"
      ],
      "execution_count": null,
      "outputs": [
        {
          "output_type": "execute_result",
          "data": {
            "text/plain": [
              "[<matplotlib.lines.Line2D at 0x7f85bd10ebe0>]"
            ]
          },
          "metadata": {
            "tags": []
          },
          "execution_count": 19
        },
        {
          "output_type": "display_data",
          "data": {
            "image/png": "[encoded data removed]",
            "text/plain": [
              "<Figure size 432x288 with 1 Axes>"
            ]
          },
          "metadata": {
            "tags": [],
            "needs_background": "light"
          }
        }
      ]
    },
    {
      "cell_type": "markdown",
      "metadata": {
        "id": "0YroXSqU7vDc",
        "colab_type": "text"
      },
      "source": [
        ""
      ]
    },
    {
      "cell_type": "code",
      "metadata": {
        "id": "8aG2FVvB5kC3",
        "colab_type": "code",
        "colab": {
          "base_uri": "https://localhost:8080/",
          "height": 265
        },
        "outputId": "c49d20fa-b6b4-4cf3-dea6-75b3723fb4ab"
      },
      "source": [
        "# 막대그래프(bar graph)를 그린다.\n",
        "means = [1,2,3]\n",
        "stddevs = [0.2, 0.4, 0.5]\n",
        "bar_labels = ['bar 1', 'bar 2', 'bar 3']\n",
        "\n",
        "# plot bars\n",
        "x_pos = list(range(len(bar_labels)))\n",
        "\n",
        "plt.bar(x_pos, means, yerr=stddevs)\n",
        "\n",
        "plt.show()"
      ],
      "execution_count": null,
      "outputs": [
        {
          "output_type": "display_data",
          "data": {
            "image/png": "[encoded data removed]",
            "text/plain": [
              "<Figure size 432x288 with 1 Axes>"
            ]
          },
          "metadata": {
            "tags": [],
            "needs_background": "light"
          }
        }
      ]
    },
    {
      "cell_type": "code",
      "metadata": {
        "id": "MDuLRwtSf26y",
        "colab_type": "code",
        "colab": {
          "base_uri": "https://localhost:8080/",
          "height": 265
        },
        "outputId": "3105098e-38e6-4906-abdc-d158becc75c3"
      },
      "source": [
        "\n",
        "x = np.arange(3)\n",
        "years = ['1', '2', '3']\n",
        "values = [100, 400, 900]\n",
        "\n",
        "plt.bar(x, values)\n",
        "plt.xticks(x, years)\n",
        "plt.show()"
      ],
      "execution_count": null,
      "outputs": [
        {
          "output_type": "display_data",
          "data": {
            "image/png": "[encoded data removed]",
            "text/plain": [
              "<Figure size 432x288 with 1 Axes>"
            ]
          },
          "metadata": {
            "tags": [],
            "needs_background": "light"
          }
        }
      ]
    },
    {
      "cell_type": "code",
      "metadata": {
        "id": "9M_t571YZFT9",
        "colab_type": "code",
        "colab": {
          "base_uri": "https://localhost:8080/",
          "height": 90
        },
        "outputId": "ea005a78-2af0-457d-c634-41e33568ec07"
      },
      "source": [
        "rng = np.random.RandomState(123)\n",
        "\n",
        "rng1 = np.random.RandomState(123)\n",
        "a= rng.rand(10)\n",
        "b= rng1.rand(10)\n",
        "print(a)\n",
        "print(b)\n",
        "\n"
      ],
      "execution_count": null,
      "outputs": [
        {
          "output_type": "stream",
          "text": [
            "[0.69646919 0.28613933 0.22685145 0.55131477 0.71946897 0.42310646\n",
            " 0.9807642  0.68482974 0.4809319  0.39211752]\n",
            "[0.69646919 0.28613933 0.22685145 0.55131477 0.71946897 0.42310646\n",
            " 0.9807642  0.68482974 0.4809319  0.39211752]\n"
          ],
          "name": "stdout"
        }
      ]
    },
    {
      "cell_type": "code",
      "metadata": {
        "id": "apciI0VRONsi",
        "colab_type": "code",
        "colab": {
          "base_uri": "https://localhost:8080/",
          "height": 301
        },
        "outputId": "53fbcb8c-73c8-459e-87a2-e8ce69e53e27"
      },
      "source": [
        "# 히스토그램 (histogram)\n",
        "rng = np.random.RandomState(123)\n",
        "\n",
        "# np.random.RandomState(123)는 랜덤넘버 생성기인 랜덤함수들을 포함하는 클래스\n",
        "# (123)은 시드임. 시드란 어떤 특정한 시작 숫자를 정해주면 컴퓨터가 난수처럼 보이는 수열을생성.\n",
        "# 이 시작값을 시드라고함.\n",
        "\n",
        "x = rng.normal(10, 40, 100) \n",
        "# fixed bin size\n",
        "bins = np.arange(0, 30, 5) # fixed bin size \n",
        "\n",
        "print(\"len(bins) = {0}\".format(len(bins)))\n",
        "print(\"bins = {0}\".format(len(bins)))\n",
        "# normal 형식 = np.random.normal(loc=0.0, scale=1.0, size=None)\n",
        "# loc = 평균 , scale = 표준편차\n",
        "years = [5,10,15,20,25,30]\n",
        "plt.hist(x, bins=bins)\n",
        "plt.yticks =(bins,years)\n",
        "#히스토그램은 \n",
        "plt.show()"
      ],
      "execution_count": 134,
      "outputs": [
        {
          "output_type": "stream",
          "text": [
            "len(bins) = 6\n",
            "bins = [ 0  5 10 15 20 25]\n"
          ],
          "name": "stdout"
        },
        {
          "output_type": "display_data",
          "data": {
            "image/png": "[encoded data removed]",
            "text/plain": [
              "<Figure size 432x288 with 1 Axes>"
            ]
          },
          "metadata": {
            "tags": [],
            "needs_background": "light"
          }
        }
      ]
    },
    {
      "cell_type": "code",
      "metadata": {
        "id": "Ape_tE5RfMvp",
        "colab_type": "code",
        "colab": {
          "base_uri": "https://localhost:8080/",
          "height": 454
        },
        "outputId": "0c2ce198-1e91-4f91-d748-c4cf94b0fccf"
      },
      "source": [
        "x = rng.normal(0,10,100) \n",
        "print(x, end = \"\\n\\n\")\n",
        "print(np.mean(x), end = \"\\n\\n\")\n",
        "print(np.std(x))"
      ],
      "execution_count": 98,
      "outputs": [
        {
          "output_type": "stream",
          "text": [
            "[  0.07953617  -9.18402661  -4.45241436 -13.41504814   1.87076505\n",
            "  -8.86069228   5.39031181   5.23505059 -21.04608404   8.34642948\n",
            "   6.79722952   1.07699547 -21.93048142 -18.75154832   7.94940943\n",
            "  -5.14104275   2.91403153 -28.27964685   4.78010635  -7.36536398\n",
            "  -7.6716275    9.75267569  -3.6277239    3.54360101  -8.55132332\n",
            "  19.45883918  -8.1135713    7.89458851  -5.28355757   1.48222874\n",
            "  -2.00911493  -2.59727256  -3.11930672  -9.07823567   3.87913469\n",
            "   2.22857907  -0.6438066   13.17111463   8.29218022  -7.03416276\n",
            "   1.23940675  10.51125851  -1.27610526   0.15521887  -4.02185633\n",
            "  -4.7741222    8.68462831   2.19680772   6.32297214   1.60822745\n",
            "  -4.64742509 -10.57474377  -3.44343645   5.57318025   4.38744761\n",
            " -16.01962691  18.0427412   -6.39402991  -0.90475941   2.11822797\n",
            "  16.675077    -8.37759177  -8.12949117  -9.86809846   2.23824267\n",
            "   5.60246012   1.72630434  18.47890335  -3.38710899   2.12247394\n",
            " -17.79904563 -23.74022904   5.20986094   5.23597151 -11.56339473\n",
            "  -0.64474089   6.03434511  -3.09947241  -8.19711959  -0.73158219\n",
            "  19.93828785   8.09184709  -4.39316987   8.9504449    2.70432608\n",
            "   0.76602915   3.37068774   3.41856081 -13.13971317   2.59708122\n",
            "  -3.48875886  -0.48032706  -9.30518147   3.89671813   2.0063175\n",
            "  -0.28801674   2.6660854    3.55233139   9.22638814 -14.42430605]\n",
            "\n",
            "-0.7977783671086424\n",
            "\n",
            "9.124687265442928\n"
          ],
          "name": "stdout"
        }
      ]
    },
    {
      "cell_type": "code",
      "metadata": {
        "id": "IUSn5ybZgcQy",
        "colab_type": "code",
        "colab": {
          "base_uri": "https://localhost:8080/",
          "height": 35
        },
        "outputId": "71183877-f8ba-4d36-cad7-4dd7040e9c11"
      },
      "source": [
        "bins = np.arange(0, 30, 5)\n",
        "bins"
      ],
      "execution_count": 23,
      "outputs": [
        {
          "output_type": "execute_result",
          "data": {
            "text/plain": [
              "array([ 0,  5, 10, 15, 20, 25])"
            ]
          },
          "metadata": {
            "tags": []
          },
          "execution_count": 23
        }
      ]
    },
    {
      "cell_type": "code",
      "metadata": {
        "id": "_PJKD0SWmp6o",
        "colab_type": "code",
        "colab": {
          "base_uri": "https://localhost:8080/",
          "height": 288
        },
        "outputId": "5a43ec10-e8c7-43e4-d82e-116da613ac50"
      },
      "source": [
        "# 막대그래프(bar graph)를 그린다.\n",
        "means = [10,20,30]\n",
        "stddevs = [1,0.7, 0.8]\n",
        "# yerr는 오차범위를 지정해주고, 그안에 대입하는 값으로 크기를 조정\n",
        "# 0이 제일작고 점점늘어남\n",
        "bar_labels = ['bar 1', 'bar 2', 'bar 3']\n",
        "# plot bars\n",
        "x_pos = list(range(len(bar_labels)))\n",
        "y_pos = list(range(10,50,10))\n",
        "years = ['2017', '2018', '2019']\n",
        "time = list(range(10,110,10))\n",
        "plt.bar(x_pos, means, yerr=stddevs ,color = \"pink\", width =0.6) \n",
        "# yerr는 막대그래프위에 오차범위를 지정하는 함수\n",
        "# bar함수는 맨처음으로 몇개의 값이 들어가는지 입력하고 그 다음 그래프를 그릴 값을 넣는다.\n",
        "# color 는 그래프의 색을지정\n",
        "# width 는 그래프의 두께를 지정\n",
        "# plt.xticks(x_pos ,years) # x축값의 범위를지정\n",
        "# plt.yticks(y_pos,time) # y축값의 범위를 지정\n",
        "plt.xlabel(\"Years\" ,fontsize = 20)# x축라벨을 지정\n",
        "plt.ylabel(\"Numbes\" ,fontsize = 20) # y축라벨을 지정\n",
        "plt.show()"
      ],
      "execution_count": 137,
      "outputs": [
        {
          "output_type": "display_data",
          "data": {
            "image/png": "[encoded data removed]",
            "text/plain": [
              "<Figure size 432x288 with 1 Axes>"
            ]
          },
          "metadata": {
            "tags": [],
            "needs_background": "light"
          }
        }
      ]
    },
    {
      "cell_type": "code",
      "metadata": {
        "id": "q09j4e5_hZPf",
        "colab_type": "code",
        "colab": {
          "base_uri": "https://localhost:8080/",
          "height": 254
        },
        "outputId": "c3590e9b-af53-4d33-b9c9-d1598ff65097"
      },
      "source": [
        "print(\"np.linspace(1,100) = {0}\".format(np.linspace(1,100)),end = \"\\n\\n\")\n",
        "print(\"np.linspace(1,10,10) = {0}\".format(np.linspace(1,10,10)),end = \"\\n\\n\")\n",
        "\n"
      ],
      "execution_count": 12,
      "outputs": [
        {
          "output_type": "stream",
          "text": [
            "np.linspace(1,100) = [  1.           3.02040816   5.04081633   7.06122449   9.08163265\n",
            "  11.10204082  13.12244898  15.14285714  17.16326531  19.18367347\n",
            "  21.20408163  23.2244898   25.24489796  27.26530612  29.28571429\n",
            "  31.30612245  33.32653061  35.34693878  37.36734694  39.3877551\n",
            "  41.40816327  43.42857143  45.44897959  47.46938776  49.48979592\n",
            "  51.51020408  53.53061224  55.55102041  57.57142857  59.59183673\n",
            "  61.6122449   63.63265306  65.65306122  67.67346939  69.69387755\n",
            "  71.71428571  73.73469388  75.75510204  77.7755102   79.79591837\n",
            "  81.81632653  83.83673469  85.85714286  87.87755102  89.89795918\n",
            "  91.91836735  93.93877551  95.95918367  97.97959184 100.        ]\n",
            "\n",
            "np.linspace(1,10,10) = [ 1.  2.  3.  4.  5.  6.  7.  8.  9. 10.]\n",
            "\n"
          ],
          "name": "stdout"
        }
      ]
    },
    {
      "cell_type": "code",
      "metadata": {
        "id": "074TKTztiQLu",
        "colab_type": "code",
        "colab": {
          "base_uri": "https://localhost:8080/",
          "height": 301
        },
        "outputId": "852dee2d-f441-4009-8837-bd7ab5615dbb"
      },
      "source": [
        "s = np.linspace= (1,10,100)\n",
        "plt.plot(s,np.cos(s))"
      ],
      "execution_count": 31,
      "outputs": [
        {
          "output_type": "stream",
          "text": [
            "(1, 10, 100)\n"
          ],
          "name": "stdout"
        },
        {
          "output_type": "execute_result",
          "data": {
            "text/plain": [
              "[<matplotlib.lines.Line2D at 0x7f45eb5a0c88>]"
            ]
          },
          "metadata": {
            "tags": []
          },
          "execution_count": 31
        },
        {
          "output_type": "display_data",
          "data": {
            "image/png": "[encoded data removed]",
            "text/plain": [
              "<Figure size 432x288 with 1 Axes>"
            ]
          },
          "metadata": {
            "tags": [],
            "needs_background": "light"
          }
        }
      ]
    },
    {
      "cell_type": "code",
      "metadata": {
        "id": "FrDKUD9ak6U9",
        "colab_type": "code",
        "colab": {
          "base_uri": "https://localhost:8080/",
          "height": 283
        },
        "outputId": "ad2de214-f44f-47d0-fae2-8f90d1d52669"
      },
      "source": [
        " a = np.linspace (1, 10 ,100)\n",
        "\n",
        " plt.plot(a,np.sin(a), label = (\"sin(a)\"))\n",
        " plt.plot(a,np.cos(a), label = (\"cos(a)\"))\n",
        "\n",
        "plt.legend(loc = \"lower left\")"
      ],
      "execution_count": 3,
      "outputs": [
        {
          "output_type": "execute_result",
          "data": {
            "text/plain": [
              "<matplotlib.legend.Legend at 0x7f1f24aa7748>"
            ]
          },
          "metadata": {
            "tags": []
          },
          "execution_count": 3
        },
        {
          "output_type": "display_data",
          "data": {
            "image/png": "[encoded data removed]",
            "text/plain": [
              "<Figure size 432x288 with 1 Axes>"
            ]
          },
          "metadata": {
            "tags": [],
            "needs_background": "light"
          }
        }
      ]
    }
  ]
}