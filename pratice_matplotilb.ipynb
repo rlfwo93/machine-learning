{
  "nbformat": 4,
  "nbformat_minor": 0,
  "metadata": {
    "colab": {
      "name": "Untitled11.ipynb",
      "provenance": [],
      "authorship_tag": "ABX9TyNCZq5ICzVXl+AzIv4uj0y+",
      "include_colab_link": true
    },
    "kernelspec": {
      "name": "python3",
      "display_name": "Python 3"
    }
  },
  "cells": [
    {
      "cell_type": "markdown",
      "metadata": {
        "id": "view-in-github",
        "colab_type": "text"
      },
      "source": [
        "<a href=\"https://colab.research.google.com/github/rlfwo93/machine-learning/blob/master/pratice_matplotilb.ipynb\" target=\"_parent\"><img src=\"https://colab.research.google.com/assets/colab-badge.svg\" alt=\"Open In Colab\"/></a>"
      ]
    },
    {
      "cell_type": "code",
      "metadata": {
        "id": "mBHm__nni5_Y",
        "colab_type": "code",
        "colab": {}
      },
      "source": [
        "import numpy as np\n",
        "import matplotlib.pyplot as plt\n",
        "# 노트북 셀 내에 그림 출력\n",
        "%matplotlib inline"
      ],
      "execution_count": 2,
      "outputs": []
    },
    {
      "cell_type": "code",
      "metadata": {
        "id": "xaSIUOHUjA4d",
        "colab_type": "code",
        "colab": {}
      },
      "source": [
        "print(np.sin(np.pi*np.arange(0.0, 2.0, 0.01)))\n",
        "a = 1 \n",
        "for i in np.arange(0.0, 2.0 , 0.01):\n",
        "  print(a)\n",
        "  a+=1"
      ],
      "execution_count": null,
      "outputs": []
    },
    {
      "cell_type": "code",
      "metadata": {
        "id": "gl2uJNGKkT94",
        "colab_type": "code",
        "colab": {
          "base_uri": "https://localhost:8080/",
          "height": 53
        },
        "outputId": "e77d83fe-a44d-45fa-d087-e009d493ca83"
      },
      "source": [
        "a= np.arange(0,10).reshape(2,5)\n",
        "print(a)"
      ],
      "execution_count": null,
      "outputs": [
        {
          "output_type": "stream",
          "text": [
            "[[0 1 2 3 4]\n",
            " [5 6 7 8 9]]\n"
          ],
          "name": "stdout"
        }
      ]
    },
    {
      "cell_type": "code",
      "metadata": {
        "id": "HDn24ln3sdFu",
        "colab_type": "code",
        "colab": {
          "base_uri": "https://localhost:8080/",
          "height": 557
        },
        "outputId": "181e13f6-c60f-4101-a974-7c90cbf2f89e"
      },
      "source": [
        "for i in np.random.randn(10):\n",
        " print(np.random.randn(10), end = \"\\n\\n\")\n",
        " \n",
        "\n"
      ],
      "execution_count": 6,
      "outputs": [
        {
          "output_type": "stream",
          "text": [
            "[ 0.44396957  1.28540633 -1.1402807  -0.22658976 -0.60932258 -1.03215744\n",
            " -1.09326224 -0.86371097 -0.19018236  1.87068181]\n",
            "\n",
            "[-1.13080125 -1.59304429 -0.67879337  1.35654221  0.07215156  0.29588381\n",
            "  0.8070487   2.09771417 -1.89068098  0.37189628]\n",
            "\n",
            "[ 1.16802635  0.58339229  0.27479036 -1.25440938  0.36817909 -1.81180754\n",
            " -0.4717427  -0.17576025 -1.57230565 -0.3637303 ]\n",
            "\n",
            "[ 0.11333304 -0.88582154  1.90088676 -1.64569466  0.29416655  0.1872421\n",
            " -0.32820423  0.78470909  2.85077412  0.01423156]\n",
            "\n",
            "[-0.16432109  0.9557181  -1.09331694 -1.88116676 -2.10739558  1.56812003\n",
            " -0.96254232 -1.69414635 -0.44689843  1.60552615]\n",
            "\n",
            "[ 0.60364018  0.53296734  0.95981714  0.68518724 -1.38123467 -0.73281478\n",
            " -1.56361548 -1.68638337  0.49736836  0.66752572]\n",
            "\n",
            "[-0.07865419 -0.37515098  0.13914316  1.15445539  0.66680296 -1.34723768\n",
            "  0.10824165 -1.76142877 -0.86102753 -0.72754497]\n",
            "\n",
            "[-1.54610328 -0.82767295 -0.88521845  0.66833541 -1.67326303 -0.32649\n",
            "  0.16399527  2.15459226 -0.63275789  0.10947606]\n",
            "\n",
            "[ 0.69278427  0.43764165  0.68635382  0.11174219  1.61214724  1.51338697\n",
            " -0.73846115  0.10778181  1.42275514 -0.16947545]\n",
            "\n",
            "[-0.90238636 -0.55890086 -0.35702333  0.01201508  0.11829798  0.38653291\n",
            "  0.55124652  0.16892877  1.01943056 -1.12133674]\n",
            "\n"
          ],
          "name": "stdout"
        }
      ]
    },
    {
      "cell_type": "code",
      "metadata": {
        "id": "dsNIXlGF3KS_",
        "colab_type": "code",
        "colab": {
          "base_uri": "https://localhost:8080/",
          "height": 283
        },
        "outputId": "c486233f-f250-4f36-c667-c48f465b8a8a"
      },
      "source": [
        "x = [10,20,30]\n",
        "y=  [40,80,90]\n",
        "plt.plot(x,y , '-o',alpha =0.5)"
      ],
      "execution_count": 19,
      "outputs": [
        {
          "output_type": "execute_result",
          "data": {
            "text/plain": [
              "[<matplotlib.lines.Line2D at 0x7f85bd10ebe0>]"
            ]
          },
          "metadata": {
            "tags": []
          },
          "execution_count": 19
        },
        {
          "output_type": "display_data",
          "data": {
            "image/png": "[encoded data removed]",
            "text/plain": [
              "<Figure size 432x288 with 1 Axes>"
            ]
          },
          "metadata": {
            "tags": [],
            "needs_background": "light"
          }
        }
      ]
    },
    {
      "cell_type": "markdown",
      "metadata": {
        "id": "0YroXSqU7vDc",
        "colab_type": "text"
      },
      "source": [
        ""
      ]
    },
    {
      "cell_type": "code",
      "metadata": {
        "id": "8aG2FVvB5kC3",
        "colab_type": "code",
        "colab": {
          "base_uri": "https://localhost:8080/",
          "height": 265
        },
        "outputId": "c49d20fa-b6b4-4cf3-dea6-75b3723fb4ab"
      },
      "source": [
        "# 막대그래프(bar graph)를 그린다.\n",
        "means = [1,2,3]\n",
        "stddevs = [0.2, 0.4, 0.5]\n",
        "bar_labels = ['bar 1', 'bar 2', 'bar 3']\n",
        "\n",
        "# plot bars\n",
        "x_pos = list(range(len(bar_labels)))\n",
        "\n",
        "plt.bar(x_pos, means, yerr=stddevs)\n",
        "\n",
        "plt.show()"
      ],
      "execution_count": 43,
      "outputs": [
        {
          "output_type": "display_data",
          "data": {
            "image/png": "[encoded data removed]",
            "text/plain": [
              "<Figure size 432x288 with 1 Axes>"
            ]
          },
          "metadata": {
            "tags": [],
            "needs_background": "light"
          }
        }
      ]
    },
    {
      "cell_type": "code",
      "metadata": {
        "id": "MDuLRwtSf26y",
        "colab_type": "code",
        "colab": {
          "base_uri": "https://localhost:8080/",
          "height": 265
        },
        "outputId": "3105098e-38e6-4906-abdc-d158becc75c3"
      },
      "source": [
        "\n",
        "x = np.arange(3)\n",
        "years = ['1', '2', '3']\n",
        "values = [100, 400, 900]\n",
        "\n",
        "plt.bar(x, values)\n",
        "plt.xticks(x, years)\n",
        "plt.show()"
      ],
      "execution_count": 51,
      "outputs": [
        {
          "output_type": "display_data",
          "data": {
            "image/png": "[encoded data removed]",
            "text/plain": [
              "<Figure size 432x288 with 1 Axes>"
            ]
          },
          "metadata": {
            "tags": [],
            "needs_background": "light"
          }
        }
      ]
    },
    {
      "cell_type": "code",
      "metadata": {
        "id": "9M_t571YZFT9",
        "colab_type": "code",
        "colab": {
          "base_uri": "https://localhost:8080/",
          "height": 89
        },
        "outputId": "705a43a4-87f3-4562-c101-833877601d4a"
      },
      "source": [
        "rng = np.random.RandomState(123)\n",
        "\n",
        "rng1 = np.random.RandomState(123)\n",
        "a= rng.rand(10)\n",
        "b= rng1.rand(10)\n",
        "print(a)\n",
        "print(b)\n",
        "\n"
      ],
      "execution_count": 40,
      "outputs": [
        {
          "output_type": "stream",
          "text": [
            "[0.69646919 0.28613933 0.22685145 0.55131477 0.71946897 0.42310646\n",
            " 0.9807642  0.68482974 0.4809319  0.39211752]\n",
            "[0.69646919 0.28613933 0.22685145 0.55131477 0.71946897 0.42310646\n",
            " 0.9807642  0.68482974 0.4809319  0.39211752]\n"
          ],
          "name": "stdout"
        }
      ]
    }
  ]
}